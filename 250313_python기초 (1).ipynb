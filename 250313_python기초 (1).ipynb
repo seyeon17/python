{
 "cells": [
  {
   "cell_type": "markdown",
   "id": "d4758dfd-a955-4d40-bebf-9d5810e6c684",
   "metadata": {
    "jupyter": {
     "source_hidden": true
    },
    "tags": []
   },
   "source": [
    "# 2. python 기초\n",
    "## 2.1. 기초문법\n",
    "### 2.2.1. 변수"
   ]
  },
  {
   "cell_type": "markdown",
   "id": "1264e686-f8fd-4c91-ac6c-abf642586cb1",
   "metadata": {
    "jupyter": {
     "source_hidden": true
    },
    "tags": []
   },
   "source": [
    "# 2. python 기초\n",
    "## 2.1. 기초문법\n",
    "### 2.2.1. 변수"
   ]
  },
  {
   "cell_type": "code",
   "execution_count": null,
   "id": "49e619dd-0967-45cf-86e6-76317e2904d6",
   "metadata": {},
   "outputs": [],
   "source": []
  },
  {
   "cell_type": "code",
   "execution_count": 8,
   "id": "9f33f730-b0d7-4656-a8db-c722790aeb17",
   "metadata": {
    "jupyter": {
     "source_hidden": true
    },
    "tags": []
   },
   "outputs": [
    {
     "name": "stdout",
     "output_type": "stream",
     "text": [
      "20\n",
      "180.5\n"
     ]
    }
   ],
   "source": [
    "# 변수에 값을 저장하고 출력\n",
    "age = 20\n",
    "height = 180.5\n",
    "\n",
    "print(age) \n",
    "print(height)"
   ]
  },
  {
   "cell_type": "code",
   "execution_count": 9,
   "id": "9b9d3848-a4cd-4f07-875b-eb59e5204ea1",
   "metadata": {},
   "outputs": [
    {
     "name": "stdout",
     "output_type": "stream",
     "text": [
      "21\n"
     ]
    }
   ],
   "source": [
    "# 변수에 저장된 값 변경\n",
    "age = 21\n",
    "print(age)"
   ]
  },
  {
   "cell_type": "code",
   "execution_count": 10,
   "id": "9e054d35-9efc-4c1a-8ed2-2324980aeff2",
   "metadata": {},
   "outputs": [
    {
     "name": "stdout",
     "output_type": "stream",
     "text": [
      "7\n",
      "7\n",
      "7\n"
     ]
    }
   ],
   "source": [
    "# 여러 변수에 값 대입\n",
    "a = b = c = 7\n",
    "print(a)\n",
    "print(b)\n",
    "print(c)"
   ]
  },
  {
   "cell_type": "code",
   "execution_count": 11,
   "id": "79ebe95c-6292-4306-97a0-ac2c1c2daec1",
   "metadata": {},
   "outputs": [
    {
     "name": "stdout",
     "output_type": "stream",
     "text": [
      "7\n",
      "11\n",
      "19\n"
     ]
    }
   ],
   "source": [
    "# 코드 한 줄에서 여러 개의 변수에 각각 다른 값을 한번에 대입할 수 있음\n",
    "a, b, c = 7, 11, 19\n",
    "print(a)\n",
    "print(b)\n",
    "print(c)"
   ]
  },
  {
   "cell_type": "code",
   "execution_count": 12,
   "id": "8b67c612-f8bc-434f-a14e-85639ed73ffe",
   "metadata": {},
   "outputs": [
    {
     "name": "stdout",
     "output_type": "stream",
     "text": [
      "11 7\n"
     ]
    }
   ],
   "source": [
    "# 두 변수의 값 교환\n",
    "a = 7\n",
    "b = 11\n",
    "temp = a\n",
    "a = b\n",
    "b = temp\n",
    "print(a, b)"
   ]
  },
  {
   "cell_type": "code",
   "execution_count": 13,
   "id": "5949bcfc-db0d-4e35-8059-5bc2938ec505",
   "metadata": {},
   "outputs": [
    {
     "name": "stdout",
     "output_type": "stream",
     "text": [
      "11 7\n"
     ]
    }
   ],
   "source": [
    "# Python에서는 튜플 패킹과 언패킹을 활용하여 임시변수 없이 두 변수의 값을 쉽게 값을 변경할 수 있음\n",
    "a = 7\n",
    "b = 11\n",
    "a, b = b, a\n",
    "print(a, b)"
   ]
  },
  {
   "cell_type": "code",
   "execution_count": 16,
   "id": "993a5e59-f73f-408c-b326-30f02fe498be",
   "metadata": {},
   "outputs": [
    {
     "name": "stdout",
     "output_type": "stream",
     "text": [
      "['False', 'None', 'True', '__peg_parser__', 'and', 'as', 'assert', 'async', 'await', 'break', 'class', 'continue', 'def', 'del', 'elif', 'else', 'except', 'finally', 'for', 'from', 'global', 'if', 'import', 'in', 'is', 'lambda', 'nonlocal', 'not', 'or', 'pass', 'raise', 'return', 'try', 'while', 'with', 'yield']\n"
     ]
    }
   ],
   "source": [
    "import keyword\n",
    "print(keyword.kwlist)"
   ]
  },
  {
   "cell_type": "code",
   "execution_count": 18,
   "id": "3dc25d1c-1a38-4ed2-b15f-6e2c7849d677",
   "metadata": {},
   "outputs": [
    {
     "name": "stdout",
     "output_type": "stream",
     "text": [
      "20 28 161 14\n",
      "<class 'int'>\n"
     ]
    }
   ],
   "source": [
    "# 정수형\n",
    "a = 20      # 10진수\n",
    "b = 0o34    # 8진수\n",
    "c = 0xA1    # 16진수\n",
    "d = 0b1110  # 2진수\n",
    "print(a, b, c, d)\n",
    "print(type(a))"
   ]
  },
  {
   "cell_type": "code",
   "execution_count": 21,
   "id": "8f487e48-ad0a-47c5-ba84-ee5c2f728f2d",
   "metadata": {},
   "outputs": [
    {
     "name": "stdout",
     "output_type": "stream",
     "text": [
      "<class 'float'>\n"
     ]
    }
   ],
   "source": [
    "# 부동소수정수형\n",
    "a = 3.14\n",
    "b = 1.23e-5     #지수 표현 방식\n",
    "print(type(a))"
   ]
  },
  {
   "cell_type": "code",
   "execution_count": 22,
   "id": "2cc55ab6-7015-4cb3-878b-490eacc650cc",
   "metadata": {},
   "outputs": [
    {
     "name": "stdout",
     "output_type": "stream",
     "text": [
      "Hello Python\n",
      "<class 'str'>\n"
     ]
    }
   ],
   "source": [
    "# 문자열형\n",
    "a = 'Hello'\n",
    "b = 'Python'\n",
    "print(a, b)\n",
    "print(type(a))"
   ]
  },
  {
   "cell_type": "code",
   "execution_count": 23,
   "id": "52b78cc1-a1ab-4401-a4fb-f4e08e2d2c61",
   "metadata": {},
   "outputs": [
    {
     "name": "stdout",
     "output_type": "stream",
     "text": [
      "Hello python\n"
     ]
    }
   ],
   "source": [
    "# 문자열 연결\n",
    "# 문자열 연결 연산자 +로 문자열과 문자열을 연결할 수 있음\n",
    "print('Hello' + ' python')"
   ]
  },
  {
   "cell_type": "code",
   "execution_count": 24,
   "id": "8c2b5405-8b80-49b2-8d29-81cb4297420f",
   "metadata": {},
   "outputs": [
    {
     "name": "stdout",
     "output_type": "stream",
     "text": [
      "True\n",
      "False\n",
      "<class 'bool'>\n",
      "<class 'bool'>\n"
     ]
    }
   ],
   "source": [
    "# bool 형\n",
    "print(True)\n",
    "print(False)\n",
    "print(type(True))\n",
    "print(type(False))\n"
   ]
  },
  {
   "cell_type": "code",
   "execution_count": 27,
   "id": "f18c22b5-3c04-4d85-a12c-85bc24ca7a6e",
   "metadata": {},
   "outputs": [
    {
     "name": "stdout",
     "output_type": "stream",
     "text": [
      "True False\n",
      "<class 'bool'>\n",
      "<class 'bool'>\n"
     ]
    }
   ],
   "source": [
    "a = True\n",
    "b = False\n",
    "print(a, b)\n",
    "print(type(a))\n",
    "print(type(b))"
   ]
  },
  {
   "cell_type": "code",
   "execution_count": 31,
   "id": "3ce03cf6-f3c2-4c9a-af1b-27922257ca90",
   "metadata": {},
   "outputs": [
    {
     "name": "stdin",
     "output_type": "stream",
     "text": [
      "이름:  park\n"
     ]
    },
    {
     "name": "stdout",
     "output_type": "stream",
     "text": [
      "park\n"
     ]
    }
   ],
   "source": [
    "# 문자열 입력\n",
    "name = input('이름: ')\n",
    "print(name)"
   ]
  },
  {
   "cell_type": "code",
   "execution_count": 33,
   "id": "b52a07f6-a717-4c2d-8638-f8a925a67bfe",
   "metadata": {},
   "outputs": [
    {
     "name": "stdin",
     "output_type": "stream",
     "text": [
      "정수1:  10\n",
      "정수2:  20\n"
     ]
    },
    {
     "name": "stdout",
     "output_type": "stream",
     "text": [
      "1020\n"
     ]
    }
   ],
   "source": [
    "# 두 개의 정수 입력받아 합계 산출\n",
    "a = input(\"정수1: \")\n",
    "b = input(\"정수2: \")\n",
    "print(a+b)"
   ]
  },
  {
   "cell_type": "code",
   "execution_count": 34,
   "id": "1579a1ef-b3bc-4e6f-a6f5-e4307aff4964",
   "metadata": {},
   "outputs": [
    {
     "name": "stdin",
     "output_type": "stream",
     "text": [
      "정수1:  109\n",
      "정수2:  20\n"
     ]
    },
    {
     "name": "stdout",
     "output_type": "stream",
     "text": [
      "129\n"
     ]
    }
   ],
   "source": [
    "# 두 개의 정수 입력받아 합계 산출\n",
    "# input 함수를 통해서 입력받은 데이터는 문자열형임\n",
    "# 따라서 int() 함수를 이용하여 정수 형식의 문자열을 정수로 변환해야 함\n",
    "# [참고] float() 함수를 이용하여 부동소수점수 형식의 문자열을 부동소수정수로 변환함\n",
    "a = int(input(\"정수1: \"))\n",
    "b = int(input(\"정수2: \"))\n",
    "print(a+b)"
   ]
  },
  {
   "cell_type": "code",
   "execution_count": 35,
   "id": "61966937-ee2e-4c4e-a337-ee206a0f9e7d",
   "metadata": {},
   "outputs": [
    {
     "name": "stdout",
     "output_type": "stream",
     "text": [
      "성적은 50 점입니다.\n"
     ]
    }
   ],
   "source": [
    "#문자열 풀력\n",
    "score = 50\n",
    "print(\"성적은\", score, \"점입니다.\")"
   ]
  },
  {
   "cell_type": "code",
   "execution_count": 36,
   "id": "ace24a3c-3011-4b9a-ad95-567e377973c8",
   "metadata": {},
   "outputs": [
    {
     "name": "stdout",
     "output_type": "stream",
     "text": [
      "25\n",
      "42\n"
     ]
    }
   ],
   "source": [
    "# print() 함수가 여러 개일 때는 다음 줄로 넘어가서 값을 출력함\n",
    "a = 25\n",
    "b = 42\n",
    "print(a)\n",
    "print(b)"
   ]
  },
  {
   "cell_type": "code",
   "execution_count": 38,
   "id": "2e805654-22d0-4ba4-bf90-172cbb914f5f",
   "metadata": {},
   "outputs": [
    {
     "name": "stdout",
     "output_type": "stream",
     "text": [
      "25    42\n"
     ]
    }
   ],
   "source": [
    "# print() 함수가 여러 개일 때는 \n",
    "# 다음 줄로 넌ㅁ어가는 대신 공백이 출력되기를 원하면\n",
    "# end 매개변수를 공백으로 설정함\n",
    "a = 25\n",
    "b = 42\n",
    "print(a, end='    ')\n",
    "print(b)"
   ]
  },
  {
   "cell_type": "code",
   "execution_count": 39,
   "id": "6145aa45-613e-4449-b5db-1122fef66563",
   "metadata": {},
   "outputs": [
    {
     "name": "stdout",
     "output_type": "stream",
     "text": [
      "이름은 홍길동이고, 나이는 20입니다.\n"
     ]
    }
   ],
   "source": [
    "# f-문자열 사용\n",
    "name = '홍길동'\n",
    "age = 20\n",
    "print(f'이름은 {name}이고, 나이는 {age}입니다.')"
   ]
  },
  {
   "cell_type": "code",
   "execution_count": 41,
   "id": "9a41e4c8-c79c-4df2-ba62-efc88dc811dd",
   "metadata": {},
   "outputs": [
    {
     "name": "stdout",
     "output_type": "stream",
     "text": [
      "204\n"
     ]
    }
   ],
   "source": [
    "# f-문자열 출력 형식 지정\n",
    "# 변수명 옆에 ;을 작성한 다음 형식을 지정함\n",
    "a = 4\n",
    "b =3.149265\n",
    "\n",
    "print(f'20{a}')"
   ]
  },
  {
   "cell_type": "code",
   "execution_count": 42,
   "id": "b0b890b1-1ef9-4869-9aae-275d958fbf18",
   "metadata": {},
   "outputs": [
    {
     "name": "stdout",
     "output_type": "stream",
     "text": [
      "20 4\n"
     ]
    }
   ],
   "source": [
    "# f-문자열 출력 형식 지정\n",
    "# 변수명 옆에 ;을 작성한 다음 형식을 지정함\n",
    "a = 4\n",
    "b =3.149265\n",
    "\n",
    "print(f'20{a:2d}')"
   ]
  },
  {
   "cell_type": "code",
   "execution_count": 43,
   "id": "5c0d03af-e440-4dbb-8e5a-1850bcc02a08",
   "metadata": {},
   "outputs": [
    {
     "name": "stdout",
     "output_type": "stream",
     "text": [
      "2004\n"
     ]
    }
   ],
   "source": [
    "\n",
    "# f-문자열 출력 형식 지정\n",
    "# 변수명 옆에 ;을 작성한 다음 형식을 지정함\n",
    "# a의 값을 두 자리로 출력하되, 앞의 빈 곳은 0으로 채움\n",
    "a = 4\n",
    "b =3.149265\n",
    "\n",
    "print(f'20{a:02d}')"
   ]
  },
  {
   "cell_type": "code",
   "execution_count": 45,
   "id": "64fc77a0-8659-4bb4-ae74-6c1352eea25f",
   "metadata": {},
   "outputs": [
    {
     "name": "stdout",
     "output_type": "stream",
     "text": [
      "2004\n",
      "원주율은 3.149입니다.\n"
     ]
    }
   ],
   "source": [
    "# f-문자열 출력 형식 지정\n",
    "# 변수명 옆에 ;을 작성한 다음 형식을 지정함\n",
    "# a의 값을 두 자리로 출력하되, 앞의 빈 곳은 0으로 채움\n",
    "a = 4\n",
    "b =3.149265\n",
    "\n",
    "print(f'20{a:02d}')\n",
    "\n",
    "#b 값을 소수점 이하 세자리로 반올림하여 출력\n",
    "print(f'원주율은 {b:.3f}입니다.')"
   ]
  },
  {
   "cell_type": "markdown",
   "id": "c0c8b77d-f187-4127-88b1-67a12aad8d2d",
   "metadata": {},
   "source": [
    "## 2.2. 조건문\n",
    "### 2..2.2. IF 문"
   ]
  },
  {
   "cell_type": "code",
   "execution_count": 55,
   "id": "78003ac4-25a7-4a4a-a118-4f899414a8e5",
   "metadata": {},
   "outputs": [
    {
     "name": "stdout",
     "output_type": "stream",
     "text": [
      "79 13\n"
     ]
    }
   ],
   "source": [
    "# 무작위로 1~100 사이의 두 정수를 생성한 후, 큰 수부터 작은 수 순으로 출력\n",
    "import random\n",
    "a = random.randint(1, 100)\n",
    "b = random.randint(1, 100)\n",
    "\n",
    "# 큰 값부터 원함... if문 추가!\n",
    "if a<b: \n",
    "    a,b = b, a\n",
    "\n",
    "print(a, b)"
   ]
  }
 ],
 "metadata": {
  "kernelspec": {
   "display_name": "Python 3",
   "language": "python",
   "name": "python3"
  },
  "language_info": {
   "codemirror_mode": {
    "name": "ipython",
    "version": 3
   },
   "file_extension": ".py",
   "mimetype": "text/x-python",
   "name": "python",
   "nbconvert_exporter": "python",
   "pygments_lexer": "ipython3",
   "version": "3.8.8"
  }
 },
 "nbformat": 4,
 "nbformat_minor": 5
}
