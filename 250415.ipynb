{
 "cells": [
  {
   "cell_type": "markdown",
   "id": "8bbae562-7bcc-496b-a7af-0621211d1fbf",
   "metadata": {},
   "source": [
    "#### 4.1.1.3 넘파이 배열의 속성"
   ]
  },
  {
   "cell_type": "code",
   "execution_count": 3,
   "id": "b1e786cc-c94b-43bf-a203-2b1b3b73b810",
   "metadata": {},
   "outputs": [],
   "source": [
    "import numpy as np"
   ]
  },
  {
   "cell_type": "code",
   "execution_count": 4,
   "id": "26fc8f22-dc8b-4c76-b509-15e4e4fd45ad",
   "metadata": {},
   "outputs": [
    {
     "data": {
      "text/plain": [
       "[[1, 2, 3], [4, 5, 6]]"
      ]
     },
     "execution_count": 4,
     "metadata": {},
     "output_type": "execute_result"
    }
   ],
   "source": [
    "# 넘파이 배열의 속성\n",
    "[[1, 2, 3], [4, 5, 6]]"
   ]
  },
  {
   "cell_type": "code",
   "execution_count": 6,
   "id": "b68d9ae0-fecf-4043-a5c1-9411dc57bfc5",
   "metadata": {},
   "outputs": [
    {
     "name": "stdout",
     "output_type": "stream",
     "text": [
      "[[1 2 3]\n",
      " [4 5 6]]\n"
     ]
    }
   ],
   "source": [
    "# 넘파이 배열의 속성\n",
    "arr = np.array([[1,2,3], [4,5,6]])\n",
    "print(arr)"
   ]
  },
  {
   "cell_type": "code",
   "execution_count": 8,
   "id": "445b80a7-1b91-431e-9f1d-0624dc4e15ae",
   "metadata": {},
   "outputs": [
    {
     "name": "stdout",
     "output_type": "stream",
     "text": [
      "int32\n"
     ]
    }
   ],
   "source": [
    "print(arr.dtype)"
   ]
  },
  {
   "cell_type": "code",
   "execution_count": 10,
   "id": "3e5f3774-87d3-43a9-94ae-1200940529e2",
   "metadata": {},
   "outputs": [
    {
     "name": "stdout",
     "output_type": "stream",
     "text": [
      "2\n"
     ]
    }
   ],
   "source": [
    "print(arr.ndim)"
   ]
  },
  {
   "cell_type": "code",
   "execution_count": 11,
   "id": "c8f14333-a0d4-440d-9742-73994b1868f2",
   "metadata": {},
   "outputs": [
    {
     "name": "stdout",
     "output_type": "stream",
     "text": [
      "(2, 3)\n"
     ]
    }
   ],
   "source": [
    "print(arr.shape)"
   ]
  },
  {
   "cell_type": "code",
   "execution_count": 13,
   "id": "fed66da1-bc10-4b76-b23f-98899dcba856",
   "metadata": {},
   "outputs": [
    {
     "name": "stdout",
     "output_type": "stream",
     "text": [
      "6\n"
     ]
    }
   ],
   "source": [
    "print(arr.size)"
   ]
  },
  {
   "cell_type": "code",
   "execution_count": 15,
   "id": "55916b34-32ae-4e52-856d-fba56953ded7",
   "metadata": {},
   "outputs": [
    {
     "name": "stdout",
     "output_type": "stream",
     "text": [
      "4\n"
     ]
    }
   ],
   "source": [
    "# 1byte = 8bit\n",
    "print(arr.itemsize)"
   ]
  },
  {
   "cell_type": "markdown",
   "id": "b540fbd3-e9fb-4bd0-ba6d-1c7a9a9fdd14",
   "metadata": {},
   "source": [
    "### 4.1.2. 차원과 축\n",
    "#### 4.1.2.1. 차원"
   ]
  },
  {
   "cell_type": "code",
   "execution_count": 19,
   "id": "60bd52cf-ff02-40ec-8e51-4ac2cca50fde",
   "metadata": {},
   "outputs": [
    {
     "name": "stdout",
     "output_type": "stream",
     "text": [
      "0 ()\n",
      "1 (1,)\n",
      "2 (1, 1)\n",
      "3 (1, 1, 1)\n"
     ]
    }
   ],
   "source": [
    "arr0 = np.array(3.14)                        # 0차원 배열(스칼라)\n",
    "arr1 = np.array([3.14])                      # 1차원 배열(벡터)\n",
    "arr2 = np.array([[3.14]])                    # 2차원 배열(행렬)\n",
    "arr3 = np.array([[[3.14]]])                  # 3차원 배열(텐서)\n",
    "\n",
    "print(arr0.ndim, arr0.shape)\n",
    "print(arr1.ndim, arr1.shape)\n",
    "print(arr2.ndim, arr2.shape)\n",
    "print(arr3.ndim, arr3.shape)"
   ]
  },
  {
   "cell_type": "code",
   "execution_count": 21,
   "id": "3a01139a-3799-4fea-a578-e40a619584db",
   "metadata": {},
   "outputs": [
    {
     "name": "stdout",
     "output_type": "stream",
     "text": [
      "1 (3,)\n"
     ]
    }
   ],
   "source": [
    "# 1차원 배열(벡터)\n",
    "arr = np.array([1,2,3])\n",
    "print(arr.ndim, arr.shape)          #튜플이어서 print 안 적어도 되긴 해"
   ]
  },
  {
   "cell_type": "code",
   "execution_count": 23,
   "id": "9d7a2990-5594-4514-8d5c-2c7772a83f2b",
   "metadata": {},
   "outputs": [
    {
     "name": "stdout",
     "output_type": "stream",
     "text": [
      "2 (2, 3)\n"
     ]
    }
   ],
   "source": [
    "# 2차원 배열(행렬)\n",
    "arr = np.array([[1,2,3], [4,5,6]])\n",
    "print(arr.ndim, arr.shape)"
   ]
  },
  {
   "cell_type": "code",
   "execution_count": 27,
   "id": "0d3538fc-789c-4931-8597-771dc1f7011e",
   "metadata": {},
   "outputs": [
    {
     "name": "stdout",
     "output_type": "stream",
     "text": [
      "3 (2, 2, 3)\n"
     ]
    }
   ],
   "source": [
    "# 3차원 배열(텐서)\n",
    "arr = np.array([[[1,2,3], [4,5,6]], [[11,12,13], [14,15,16]]])\n",
    "print(arr.ndim, arr.shape)"
   ]
  },
  {
   "cell_type": "markdown",
   "id": "805712cb-1f23-4bf3-8e7f-9952bf445312",
   "metadata": {},
   "source": [
    "#### 4.1.2.3. 넘파이 배열 메소드"
   ]
  },
  {
   "cell_type": "code",
   "execution_count": 32,
   "id": "c2f8c1ef-7aee-489f-9151-e34390d9f4b7",
   "metadata": {},
   "outputs": [
    {
     "name": "stdout",
     "output_type": "stream",
     "text": [
      "2 (2, 3)\n",
      "21\n",
      "[5 7 9]\n",
      "[ 6 15]\n"
     ]
    }
   ],
   "source": [
    "arr = np.array([\n",
    "    [1,2,3],\n",
    "    [4,5,6]\n",
    "])\n",
    "\n",
    "print(arr.ndim, arr.shape)\n",
    "print(np.sum(arr))  # 축 지정 안 했으니 전체에 대해서 적용!\n",
    "print(np.sum(arr, axis = 0))           #행 방향으로 산출\n",
    "print(np.sum(arr, axis = 1))           #열 방향으로 산출"
   ]
  },
  {
   "cell_type": "code",
   "execution_count": 34,
   "id": "513e7165-1464-4e7a-80b8-5245ece047ea",
   "metadata": {},
   "outputs": [
    {
     "name": "stdout",
     "output_type": "stream",
     "text": [
      "[[1 2 3]\n",
      " [4 5 6]]\n",
      "[ 1  3  6 10 15 21]\n",
      "[[1 2 3]\n",
      " [5 7 9]]\n",
      "[[ 1  3  6]\n",
      " [ 4  9 15]]\n"
     ]
    }
   ],
   "source": [
    "# 누적합\n",
    "print(arr)\n",
    "print(np.cumsum(arr))\n",
    "print(np.cumsum(arr, axis = 0))\n",
    "print(np.cumsum(arr, axis = 1)) "
   ]
  },
  {
   "cell_type": "code",
   "execution_count": null,
   "id": "b7a9984e-ee6a-442b-81d4-30dbe49623dd",
   "metadata": {},
   "outputs": [],
   "source": []
  },
  {
   "cell_type": "code",
   "execution_count": null,
   "id": "420db96e-3a4d-43e1-a4f5-f74e63bbc16f",
   "metadata": {},
   "outputs": [],
   "source": []
  },
  {
   "cell_type": "code",
   "execution_count": null,
   "id": "79f11d8e-dac0-4c42-b64d-d8b7bec69a79",
   "metadata": {},
   "outputs": [],
   "source": []
  },
  {
   "cell_type": "code",
   "execution_count": null,
   "id": "ce6315ba-f6d6-4877-9ebf-6e33e72a913c",
   "metadata": {},
   "outputs": [],
   "source": []
  },
  {
   "cell_type": "code",
   "execution_count": null,
   "id": "3e1d2a4b-bf25-4eef-98a0-f09eed79f93d",
   "metadata": {},
   "outputs": [],
   "source": []
  },
  {
   "cell_type": "code",
   "execution_count": null,
   "id": "95d4c7e1-6d5e-423e-bcca-c064ffeaf5c3",
   "metadata": {},
   "outputs": [],
   "source": []
  },
  {
   "cell_type": "code",
   "execution_count": null,
   "id": "a60b22c7-78bb-45c5-9518-3fb857ee3e93",
   "metadata": {},
   "outputs": [],
   "source": []
  },
  {
   "cell_type": "code",
   "execution_count": null,
   "id": "2172c149-1ff8-4d94-9a15-a933ea27f7b8",
   "metadata": {},
   "outputs": [],
   "source": []
  },
  {
   "cell_type": "code",
   "execution_count": null,
   "id": "18421e00-7a59-45b9-a8bf-8a52335e7c15",
   "metadata": {},
   "outputs": [],
   "source": []
  },
  {
   "cell_type": "code",
   "execution_count": null,
   "id": "59907da8-8169-46ff-ae85-d5f3eb6e1134",
   "metadata": {},
   "outputs": [],
   "source": []
  },
  {
   "cell_type": "code",
   "execution_count": null,
   "id": "0cf60aad-2fad-484e-921e-a4a02c388d85",
   "metadata": {},
   "outputs": [],
   "source": []
  },
  {
   "cell_type": "code",
   "execution_count": null,
   "id": "e8cfe32b-555f-49bf-a6a5-e0630aafac8e",
   "metadata": {},
   "outputs": [],
   "source": []
  },
  {
   "cell_type": "code",
   "execution_count": null,
   "id": "b01216df-8f25-40b5-9156-6d8a5fbf2d04",
   "metadata": {},
   "outputs": [],
   "source": []
  },
  {
   "cell_type": "code",
   "execution_count": null,
   "id": "88debc6b-cf16-441e-80aa-b9e85bbcb9f4",
   "metadata": {},
   "outputs": [],
   "source": []
  },
  {
   "cell_type": "code",
   "execution_count": null,
   "id": "749e1bec-9515-4365-b1cf-f6e0ede2c2c4",
   "metadata": {},
   "outputs": [],
   "source": []
  },
  {
   "cell_type": "code",
   "execution_count": null,
   "id": "357d80db-3b2f-4fde-85e6-67dfc58bc506",
   "metadata": {},
   "outputs": [],
   "source": []
  },
  {
   "cell_type": "code",
   "execution_count": null,
   "id": "e9e3c2f3-cc91-4da3-ac68-52effcc4b81c",
   "metadata": {},
   "outputs": [],
   "source": []
  },
  {
   "cell_type": "code",
   "execution_count": null,
   "id": "aa9718d1-cfec-4ffb-b296-fa9267610541",
   "metadata": {},
   "outputs": [],
   "source": []
  },
  {
   "cell_type": "code",
   "execution_count": null,
   "id": "7c76c2fc-e038-45c9-953e-062f617f3f58",
   "metadata": {},
   "outputs": [],
   "source": []
  },
  {
   "cell_type": "code",
   "execution_count": null,
   "id": "e44d36bc-7814-4731-9910-df9240aeb035",
   "metadata": {},
   "outputs": [],
   "source": []
  },
  {
   "cell_type": "code",
   "execution_count": null,
   "id": "6f6de357-01a5-4052-8fe8-13d9a3413c3b",
   "metadata": {},
   "outputs": [],
   "source": []
  },
  {
   "cell_type": "code",
   "execution_count": null,
   "id": "9e2d6f21-56b5-4276-bff0-b6010b2e1aee",
   "metadata": {},
   "outputs": [],
   "source": []
  },
  {
   "cell_type": "code",
   "execution_count": null,
   "id": "2ecc718b-543c-440e-a875-49f0dfcadcea",
   "metadata": {},
   "outputs": [],
   "source": []
  },
  {
   "cell_type": "code",
   "execution_count": null,
   "id": "5a8223d0-9fec-462e-9bca-edf8ea9a48a9",
   "metadata": {},
   "outputs": [],
   "source": []
  },
  {
   "cell_type": "code",
   "execution_count": null,
   "id": "b941c886-0e4e-4a9b-a786-a1ea15daddc9",
   "metadata": {},
   "outputs": [],
   "source": []
  },
  {
   "cell_type": "code",
   "execution_count": null,
   "id": "4cfc156a-2b1d-417e-ab35-f4670552eb1d",
   "metadata": {},
   "outputs": [],
   "source": []
  },
  {
   "cell_type": "code",
   "execution_count": null,
   "id": "bf8da44b-7fdc-403e-bef7-6cf0af8a6837",
   "metadata": {},
   "outputs": [],
   "source": []
  },
  {
   "cell_type": "code",
   "execution_count": null,
   "id": "1d8dbb7e-9b91-48d9-9959-cad0e94b2c13",
   "metadata": {},
   "outputs": [],
   "source": []
  },
  {
   "cell_type": "code",
   "execution_count": null,
   "id": "b4a0bef0-be8d-4d00-9319-227398c2bad8",
   "metadata": {},
   "outputs": [],
   "source": []
  }
 ],
 "metadata": {
  "kernelspec": {
   "display_name": "Python 3",
   "language": "python",
   "name": "python3"
  },
  "language_info": {
   "codemirror_mode": {
    "name": "ipython",
    "version": 3
   },
   "file_extension": ".py",
   "mimetype": "text/x-python",
   "name": "python",
   "nbconvert_exporter": "python",
   "pygments_lexer": "ipython3",
   "version": "3.8.8"
  }
 },
 "nbformat": 4,
 "nbformat_minor": 5
}
