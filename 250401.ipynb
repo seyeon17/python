{
 "cells": [
  {
   "cell_type": "markdown",
   "id": "ae5113d7-7119-475b-886e-402b77c47cc0",
   "metadata": {},
   "source": [
    "# 3.2. 리스트\n",
    "### 3.2.4. 리스트 인덱싱과 슬라이싱"
   ]
  },
  {
   "cell_type": "code",
   "execution_count": 2,
   "id": "db984c37-1c41-432c-9985-6e50f6a9b97a",
   "metadata": {},
   "outputs": [
    {
     "name": "stdout",
     "output_type": "stream",
     "text": [
      "10\n"
     ]
    }
   ],
   "source": [
    "# 리스트 인덱싱1\n",
    "lst = [10, 20, 30, 40, 50]\n",
    "print(lst[0])"
   ]
  },
  {
   "cell_type": "code",
   "execution_count": 4,
   "id": "31688f6f-3e05-43d2-92c8-a632e9090569",
   "metadata": {},
   "outputs": [
    {
     "name": "stdout",
     "output_type": "stream",
     "text": [
      "50\n"
     ]
    }
   ],
   "source": [
    "# 리스트 인덱싱2\n",
    "print(lst[-1])"
   ]
  },
  {
   "cell_type": "code",
   "execution_count": 11,
   "id": "bdf0f022-4cdf-4474-a325-7bb66cef072b",
   "metadata": {},
   "outputs": [
    {
     "name": "stdout",
     "output_type": "stream",
     "text": [
      "Hello\n",
      "H\n",
      "12\n"
     ]
    }
   ],
   "source": [
    "# 리스트 접근 연산자 []를 이중으로 사용할 수 있음\n",
    "lst = [1, 3.14, \"Hello\", True, [11, 12, 13]]\n",
    "print(lst[2])\n",
    "print(lst[2][0])\n",
    "print(lst[4][1])"
   ]
  },
  {
   "cell_type": "code",
   "execution_count": 15,
   "id": "a87b4140-32ad-4714-94f7-70aba347311f",
   "metadata": {},
   "outputs": [
    {
     "name": "stdout",
     "output_type": "stream",
     "text": [
      "[10, 20, 3, 40, 50]\n"
     ]
    }
   ],
   "source": [
    "# 리스트는 가변형 객체이므로, 인덱스를 이용한 수정이 가능함\n",
    "lst = [10, 20, 30, 40, 50]\n",
    "lst[2] = 3\n",
    "print(lst)                       # 문자열은 수정이 안됨!"
   ]
  },
  {
   "cell_type": "code",
   "execution_count": 16,
   "id": "f4026c90-3b59-4800-8101-ec318ab41730",
   "metadata": {},
   "outputs": [
    {
     "name": "stdout",
     "output_type": "stream",
     "text": [
      "[10, 20]\n"
     ]
    }
   ],
   "source": [
    "# 리스트 슬라이싱1\n",
    "lst = [10, 20, 30, 40, 50]\n",
    "print(lst[0:2])"
   ]
  },
  {
   "cell_type": "code",
   "execution_count": 20,
   "id": "fa9476df-6cf1-4cbf-b1e6-9d822571eb20",
   "metadata": {},
   "outputs": [
    {
     "name": "stdout",
     "output_type": "stream",
     "text": [
      "[10, 20]\n",
      "[30, 40, 50]\n",
      "[10, 30, 50]\n",
      "[50, 40, 30, 20, 10]\n"
     ]
    }
   ],
   "source": [
    "# 리스트 슬라이싱2\n",
    "lst = [10, 20, 30, 40, 50]\n",
    "print(lst[:2])\n",
    "print(lst[2:])\n",
    "print(lst[::2])            \n",
    "print(lst[::-1]) "
   ]
  },
  {
   "cell_type": "code",
   "execution_count": 23,
   "id": "c9620570-dbe2-4f7c-90b5-4951df22b8ff",
   "metadata": {},
   "outputs": [
    {
     "name": "stdout",
     "output_type": "stream",
     "text": [
      "[10, 50]\n"
     ]
    }
   ],
   "source": [
    "# 슬라이싱을 이용한 원소 삭제\n",
    "lst = [10, 20, 30, 40, 50]\n",
    "lst[1:4] = [] \n",
    "print(lst)"
   ]
  },
  {
   "cell_type": "code",
   "execution_count": 25,
   "id": "10096b93-51d2-4d18-8d70-65cf7c1fd3cb",
   "metadata": {},
   "outputs": [
    {
     "name": "stdout",
     "output_type": "stream",
     "text": [
      "[10, 6, 7, 20, 30, 40, 50]\n"
     ]
    }
   ],
   "source": [
    "# 슬라이싱을 이용한 원소 추가\n",
    "lst = [10, 20, 30, 40, 50]\n",
    "#lst[1] = [6, 7]         이건 인덱싱을이용해서 원소를 수정한 거야\n",
    "lst[1:1] = [6, 7]           # 6과 7이 리스트로 묶여서 출력되지 않고 개별적으로!\n",
    "print(lst)"
   ]
  },
  {
   "cell_type": "code",
   "execution_count": 28,
   "id": "36fa1296-5cf5-4c7c-8272-2f28286e4f52",
   "metadata": {},
   "outputs": [
    {
     "name": "stdout",
     "output_type": "stream",
     "text": [
      "[10, 6, 7, 8, 40, 50]\n"
     ]
    }
   ],
   "source": [
    "# 슬라이싱을 이용한 원소 수정\n",
    "lst = [10, 20, 30, 40, 50]\n",
    "lst[1:3] = [6, 7, 8]\n",
    "print(lst)"
   ]
  },
  {
   "cell_type": "code",
   "execution_count": 30,
   "id": "425f03da-581e-4ac8-a2dd-d3866c9d09fc",
   "metadata": {},
   "outputs": [
    {
     "name": "stdout",
     "output_type": "stream",
     "text": [
      "[[1, 2, 3], [4, 5, 6, 7], [8, 9]]\n"
     ]
    }
   ],
   "source": [
    "# 중첩 리스트\n",
    "nested_lst = [\n",
    "    [1,2,3],\n",
    "    [4,5,6,7],\n",
    "    [8,9]\n",
    "    ]\n",
    "\n",
    "print(nested_lst)"
   ]
  },
  {
   "cell_type": "code",
   "execution_count": 31,
   "id": "63c968c4-c25e-4bd2-a847-28bc767a856d",
   "metadata": {},
   "outputs": [
    {
     "name": "stdout",
     "output_type": "stream",
     "text": [
      "[[80, 82, 75, 95], [67, 95, 84, 83], [74, 88, 82, 76]]\n"
     ]
    }
   ],
   "source": [
    "# 2차원 리스트\n",
    "kor = [80, 82, 75, 95]\n",
    "eng = [67, 95, 84, 83]\n",
    "math = [74, 88, 82, 76]\n",
    "midterm = [kor, eng, math]\n",
    "print(midterm)"
   ]
  },
  {
   "cell_type": "code",
   "execution_count": 33,
   "id": "2cc9db97-9162-469d-898a-6af94debf0be",
   "metadata": {},
   "outputs": [
    {
     "data": {
      "text/plain": [
       "95"
      ]
     },
     "execution_count": 33,
     "metadata": {},
     "output_type": "execute_result"
    }
   ],
   "source": [
    "# 2차원 리스트 인덱싱\n",
    "midterm[0][3]"
   ]
  },
  {
   "cell_type": "markdown",
   "id": "2346dc7f-f004-4141-a717-2d498316b6f2",
   "metadata": {},
   "source": [
    "### 3.2.6. 리스트 메소드\n",
    "#### 3.2.6.1. 리스트 추가"
   ]
  },
  {
   "cell_type": "code",
   "execution_count": 35,
   "id": "aff10674-556d-4afc-a912-6072506d7de9",
   "metadata": {},
   "outputs": [
    {
     "name": "stdout",
     "output_type": "stream",
     "text": [
      "[1, 2, 3, 4]\n"
     ]
    }
   ],
   "source": [
    "# 리스트에 한 개의 원소를 추가1\n",
    "lst = [1, 2, 3]\n",
    "lst.append(4)                 # 실행 결과 아무것도 출력하지 않음, lst 원본 값이 변함\n",
    "print(lst)"
   ]
  },
  {
   "cell_type": "code",
   "execution_count": 42,
   "id": "e1d51d8c-c19e-46de-89d4-f0f2eea34e96",
   "metadata": {},
   "outputs": [
    {
     "name": "stdout",
     "output_type": "stream",
     "text": [
      "[1, 2, 3]\n",
      "[1, 2, 3, 4]\n"
     ]
    }
   ],
   "source": [
    "# 원본 값 변화 없이 리스트에 한 개의 원소를 추가하고 싶음\n",
    "# 전개 연산 * 을 사용함\n",
    "lst = [1, 2, 3]\n",
    "new_lst = [*lst, 4]\n",
    "\n",
    "print(lst)\n",
    "print(new_lst)"
   ]
  },
  {
   "cell_type": "code",
   "execution_count": 45,
   "id": "cffa02be-b7c8-48c2-803d-50ea35b25d3f",
   "metadata": {},
   "outputs": [
    {
     "name": "stdout",
     "output_type": "stream",
     "text": [
      "[1, 2, 3, 4, 5]\n"
     ]
    }
   ],
   "source": [
    "# append() 함수는 여러 개의 인수를 입력 x, 연속 사용 x\n",
    "lst = [1,2,3]\n",
    "lst.append(4)\n",
    "lst.append(5)\n",
    "print(lst)"
   ]
  },
  {
   "cell_type": "code",
   "execution_count": 46,
   "id": "0aff672b-02d2-4183-a0ce-b6432061d416",
   "metadata": {},
   "outputs": [
    {
     "name": "stdout",
     "output_type": "stream",
     "text": [
      "[1, 2, 3, 11, 12]\n"
     ]
    }
   ],
   "source": [
    "# 리스트에 여러 개의 원소 추가\n",
    "lst = [1,2,3]\n",
    "lst.extend([11,12])                \n",
    "print(lst)"
   ]
  },
  {
   "cell_type": "code",
   "execution_count": 48,
   "id": "ea7bde71-d8a8-490f-9a68-5f77f15ff0ec",
   "metadata": {},
   "outputs": [
    {
     "name": "stdout",
     "output_type": "stream",
     "text": [
      "[1, 2, 3]\n",
      "[11, 12]\n"
     ]
    }
   ],
   "source": [
    "# 차이\n",
    "lst1 = [1, 2, 3] \n",
    "lst2 = [11, 12]\n",
    "lst1 + lst2                #extend는 원본 변함\n",
    "\n",
    "print(lst1)\n",
    "print(lst2)"
   ]
  },
  {
   "cell_type": "code",
   "execution_count": 50,
   "id": "51afd868-7296-4d68-9505-a3b3d626058e",
   "metadata": {},
   "outputs": [
    {
     "name": "stdout",
     "output_type": "stream",
     "text": [
      "[100, 1, 2, 3]\n"
     ]
    }
   ],
   "source": [
    "# 책정 위치에 한 개의 원소 추가\n",
    "lst = [1, 2, 3]\n",
    "#lst.insert(위치 인덱스, 추가할 값)\n",
    "lst.insert(0, 100)        #실행 결과 아무것도 출력하지 않음. lst 원본 값이 변함\n",
    "print(lst)"
   ]
  },
  {
   "cell_type": "code",
   "execution_count": 51,
   "id": "9832ca4b-0f9d-44bc-b18f-1face300d7ed",
   "metadata": {},
   "outputs": [
    {
     "name": "stdout",
     "output_type": "stream",
     "text": [
      "[100, 200, 300, 1, 2, 3]\n"
     ]
    }
   ],
   "source": [
    "# 특정 위치에 여러 개의 원소 추가 : 슬라이싱 이용\n",
    "lst = [1,2,3]\n",
    "lst[0:0] = [100, 200, 300]\n",
    "print(lst)"
   ]
  },
  {
   "cell_type": "code",
   "execution_count": null,
   "id": "2a298be1-3e4f-436b-aad9-c9dc2485d949",
   "metadata": {},
   "outputs": [],
   "source": []
  },
  {
   "cell_type": "code",
   "execution_count": null,
   "id": "a428bb3b-10b5-4330-9869-f03c8bce4ce2",
   "metadata": {},
   "outputs": [],
   "source": []
  },
  {
   "cell_type": "code",
   "execution_count": null,
   "id": "87fb8a07-b194-4df5-9b0d-68b9d3993423",
   "metadata": {},
   "outputs": [],
   "source": []
  }
 ],
 "metadata": {
  "kernelspec": {
   "display_name": "Python 3",
   "language": "python",
   "name": "python3"
  },
  "language_info": {
   "codemirror_mode": {
    "name": "ipython",
    "version": 3
   },
   "file_extension": ".py",
   "mimetype": "text/x-python",
   "name": "python",
   "nbconvert_exporter": "python",
   "pygments_lexer": "ipython3",
   "version": "3.8.8"
  }
 },
 "nbformat": 4,
 "nbformat_minor": 5
}
