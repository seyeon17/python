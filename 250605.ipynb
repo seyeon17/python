{
 "cells": [
  {
   "cell_type": "markdown",
   "id": "2f583d13-1024-4e39-b882-241da0ba225b",
   "metadata": {},
   "source": [
    "## 5.4. 클래스와 리스트"
   ]
  },
  {
   "cell_type": "code",
   "execution_count": 3,
   "id": "966f36a9-852e-47ce-80f9-26d0b855f6a2",
   "metadata": {},
   "outputs": [],
   "source": [
    "# 클래스 정의 : 은행 계좌\n",
    "class Account:\n",
    "    def __init__(self, account_number, owner, amount = 0):\n",
    "        self.account_number = account_number\n",
    "        self.owner = owner\n",
    "        self.balance = amount\n",
    "        self.history = []           # 거래내역\n",
    "        \n",
    "    def deposit(self, amount):\n",
    "        self.balance += amount\n",
    "        self.history.append(f\"입금: {amount}\")\n",
    "        return self.balance\n",
    "    \n",
    "    def withdraw(self, amount):\n",
    "        self.balance += amount\n",
    "        self.history.append(f\"출금: {amount}\")\n",
    "        return self.balance\n",
    "    \n",
    "    def __str__(self):\n",
    "        return f\"현재 잔액은 {self.balance}원입니다.\"\n",
    "    \n",
    "    def __refr__(self):\n",
    "        return f\"Account(balance = {self.balance})\"\n",
    "    \n",
    "    def __len__(self):\n",
    "        return len(self.history)   # 거래 횟수 확인\n",
    "    \n",
    "    def __getitem__(self, index):\n",
    "        return self.history[Index]\n",
    "    \n",
    "    def __iter__(self):\n",
    "        return iter(self.history)\n",
    "    \n",
    "    def __call__(self, amount):           # 함수처럼 호출 -> 자동 입금 처리\n",
    "        return self.deposit(amount)"
   ]
  },
  {
   "cell_type": "code",
   "execution_count": 4,
   "id": "8312577f-976b-47e5-893a-2159be6ef3c5",
   "metadata": {},
   "outputs": [],
   "source": [
    "# 여러 계좌를 리스트로 관리\n",
    "accounts = [\n",
    "    Account(\"123-01\", \"Kim\", 12000),\n",
    "    Account(\"123-02\", \"Lee\", 45000),\n",
    "    Account(\"123-03\", \"Park\", 33000),\n",
    "    Account(\"123-04\", \"Park\", 70000)\n",
    "]"
   ]
  },
  {
   "cell_type": "code",
   "execution_count": 9,
   "id": "e2f6eff4-af00-4aba-9928-f848677083cb",
   "metadata": {},
   "outputs": [
    {
     "data": {
      "text/plain": [
       "22000"
      ]
     },
     "execution_count": 9,
     "metadata": {},
     "output_type": "execute_result"
    }
   ],
   "source": [
    "accounts[0](10000)"
   ]
  },
  {
   "cell_type": "code",
   "execution_count": 10,
   "id": "ad484245-5997-4817-b317-ba6b496a6d8a",
   "metadata": {},
   "outputs": [
    {
     "name": "stdout",
     "output_type": "stream",
     "text": [
      "Kim님의 123-01 계좌 -> 현재 잔액은 22000원입니다.\n",
      "Lee님의 123-02 계좌 -> 현재 잔액은 45000원입니다.\n",
      "Park님의 123-03 계좌 -> 현재 잔액은 33000원입니다.\n",
      "Park님의 123-04 계좌 -> 현재 잔액은 70000원입니다.\n"
     ]
    }
   ],
   "source": [
    "# 전체 계좌에 잔액 출력\n",
    "for acc in accounts:\n",
    "    print(f\"{acc.owner}님의 {acc.account_number} 계좌 -> {acc}\")"
   ]
  },
  {
   "cell_type": "code",
   "execution_count": 14,
   "id": "8e56a459-5c8c-48c7-8393-40e4263517d3",
   "metadata": {},
   "outputs": [
    {
     "name": "stdout",
     "output_type": "stream",
     "text": [
      "Kim님의 123-01 계좌 -> 현재 잔액은 37000원입니다.\n",
      "Lee님의 123-02 계좌 -> 현재 잔액은 60000원입니다.\n",
      "Park님의 123-03 계좌 -> 현재 잔액은 48000원입니다.\n",
      "Park님의 123-04 계좌 -> 현재 잔액은 85000원입니다.\n"
     ]
    }
   ],
   "source": [
    "# 모든 계좌에 5,000원 입금\n",
    "for acc in accounts:\n",
    "    acc.deposit(5000)\n",
    "    print(f\"{acc.owner}님의 {acc.account_number} 계좌 -> {acc}\")"
   ]
  },
  {
   "cell_type": "code",
   "execution_count": 15,
   "id": "f0e75af3-6d9d-4aae-ad22-512465625712",
   "metadata": {},
   "outputs": [
    {
     "name": "stdout",
     "output_type": "stream",
     "text": [
      "Kim님의 123-01 계좌 → 현재 잔액은 37000원입니다.\n",
      "Lee님의 123-02 계좌 → 현재 잔액은 60000원입니다.\n",
      "Park님의 123-03 계좌 → 현재 잔액은 48000원입니다.\n",
      "Park님의 123-04 계좌 → 현재 잔액은 85000원입니다.\n"
     ]
    }
   ],
   "source": [
    "# 전체 계좌 잔액 출력\n",
    "for acc in accounts:\n",
    "    print(f\"{acc.owner}님의 {acc.account_number} 계좌 → {acc}\")"
   ]
  },
  {
   "cell_type": "code",
   "execution_count": 17,
   "id": "b835ed5f-5bbe-47cb-b6ce-aba64d750af0",
   "metadata": {},
   "outputs": [
    {
     "name": "stdout",
     "output_type": "stream",
     "text": [
      "가장 첫 번째 계좌 소유주:  Kim\n"
     ]
    }
   ],
   "source": [
    "# 특정 인덱스로 접근하여 사용\n",
    "print(\"가장 첫 번째 계좌 소유주: \", accounts[0].owner)"
   ]
  },
  {
   "cell_type": "code",
   "execution_count": 19,
   "id": "326a2c22-bd78-41ce-96d9-613dbd449265",
   "metadata": {},
   "outputs": [
    {
     "data": {
      "text/plain": [
       "['Park']"
      ]
     },
     "execution_count": 19,
     "metadata": {},
     "output_type": "execute_result"
    }
   ],
   "source": [
    "### 계좌 번호가 123-03인 계좌 리스트\n",
    "[acc.owner for acc in accounts if acc.account_number == \"123-03\"]"
   ]
  },
  {
   "cell_type": "code",
   "execution_count": 20,
   "id": "f2768a13-937b-49af-9411-7885cd245eeb",
   "metadata": {},
   "outputs": [
    {
     "data": {
      "text/plain": [
       "['Lee', 'Park']"
      ]
     },
     "execution_count": 20,
     "metadata": {},
     "output_type": "execute_result"
    }
   ],
   "source": [
    "# 잔액이 5만원 이상인 계좌 리스트\n",
    "vip_acc = [acc for acc in accounts if acc.balance >= 50000]\n",
    "vip_names = [acc.owner for acc in vip_acc]\n",
    "vip_names"
   ]
  },
  {
   "cell_type": "code",
   "execution_count": 24,
   "id": "fa8e9ade-d1f6-48dd-a3b8-a32a78908082",
   "metadata": {},
   "outputs": [
    {
     "name": "stdout",
     "output_type": "stream",
     "text": [
      "전체 전액 합계: 230000원\n"
     ]
    }
   ],
   "source": [
    "# 리스트 내 모든 계좌의 잔액 합계\n",
    "total_balance = sum(acc.balance for acc in accounts)\n",
    "print(f\"전체 전액 합계: {total_balance}원\")"
   ]
  },
  {
   "cell_type": "markdown",
   "id": "a643108e-1fe4-42e1-80cd-599d979587f7",
   "metadata": {},
   "source": [
    "## 5.5. 정보 은닉과 접근 제어\n"
   ]
  },
  {
   "cell_type": "code",
   "execution_count": 28,
   "id": "66fa5bee-0c72-4f13-b941-f69f01151be2",
   "metadata": {},
   "outputs": [],
   "source": [
    "## 클래스 정의 : 학생 정보\n",
    "class Student:\n",
    "    def __init__(self, name, age, student_id):\n",
    "        self.name = name                  # public : 자유 접근\n",
    "        self._age = age                   # age : protected : 내부/상속용\n",
    "        self.__student_id = student_id    # private : 외부 접근 차단\n",
    "    \n",
    "    # getter 메소드\n",
    "    def get_student_id(self):\n",
    "        return self.__student_id\n",
    "    \n",
    "    # setter 메소드\n",
    "    def set_student_id(self, new_id):\n",
    "        if isinstance(neq_id, str) and new_id.startswith(\"S\"):\n",
    "            self.__student_id = new_id\n",
    "            \n",
    "        else:\n",
    "            print(\"학번은 'S'로 시작하는 문자열이어야 합니다.\")"
   ]
  },
  {
   "cell_type": "code",
   "execution_count": 29,
   "id": "ace195da-f05c-4016-965b-76c76f069309",
   "metadata": {},
   "outputs": [],
   "source": [
    "s = Student(\"홍길동\", 20, \"S20250605\")"
   ]
  },
  {
   "cell_type": "code",
   "execution_count": 30,
   "id": "0918865e-02c2-4418-847f-d6b0b484bd32",
   "metadata": {},
   "outputs": [
    {
     "data": {
      "text/plain": [
       "'홍길동'"
      ]
     },
     "execution_count": 30,
     "metadata": {},
     "output_type": "execute_result"
    }
   ],
   "source": [
    "# public 속성 접근\n",
    "s.name"
   ]
  },
  {
   "cell_type": "code",
   "execution_count": 31,
   "id": "c3888fc9-2d46-4c21-b84e-9b76b3eeb9cb",
   "metadata": {},
   "outputs": [
    {
     "data": {
      "text/plain": [
       "20"
      ]
     },
     "execution_count": 31,
     "metadata": {},
     "output_type": "execute_result"
    }
   ],
   "source": [
    "# protected 속성 접근 : 문법적으로는 가능하나, 관례상 외부에서 접근하지 않음\n",
    "s._age"
   ]
  },
  {
   "cell_type": "code",
   "execution_count": 32,
   "id": "1e149bdf-818b-4384-8614-213f8aabd75c",
   "metadata": {},
   "outputs": [
    {
     "data": {
      "text/plain": [
       "22"
      ]
     },
     "execution_count": 32,
     "metadata": {},
     "output_type": "execute_result"
    }
   ],
   "source": [
    "# protected 속성 수정 : 문법적으로 가능하나, 사용 권장되지 않음\n",
    "s._age = 22\n",
    "s._age"
   ]
  },
  {
   "cell_type": "code",
   "execution_count": 35,
   "id": "80dbcc2a-5c81-4c7b-b0d0-8c091285ab74",
   "metadata": {},
   "outputs": [
    {
     "ename": "AttributeError",
     "evalue": "'Student' object has no attribute '__student_id'",
     "output_type": "error",
     "traceback": [
      "\u001b[1;31m---------------------------------------------------------------------------\u001b[0m",
      "\u001b[1;31mAttributeError\u001b[0m                            Traceback (most recent call last)",
      "\u001b[1;32m<ipython-input-35-267fc1ab7c6a>\u001b[0m in \u001b[0;36m<module>\u001b[1;34m\u001b[0m\n\u001b[0;32m      1\u001b[0m \u001b[1;31m# private 속성 접근 -> 직접 접근 불가\u001b[0m\u001b[1;33m\u001b[0m\u001b[1;33m\u001b[0m\u001b[1;33m\u001b[0m\u001b[0m\n\u001b[1;32m----> 2\u001b[1;33m \u001b[0ms\u001b[0m\u001b[1;33m.\u001b[0m\u001b[0m__student_id\u001b[0m   \u001b[1;31m# 에러\u001b[0m\u001b[1;33m\u001b[0m\u001b[1;33m\u001b[0m\u001b[0m\n\u001b[0m",
      "\u001b[1;31mAttributeError\u001b[0m: 'Student' object has no attribute '__student_id'"
     ]
    }
   ],
   "source": [
    "# private 속성 접근 -> 직접 접근 불가\n",
    "s.__student_id   # 에러"
   ]
  },
  {
   "cell_type": "code",
   "execution_count": 36,
   "id": "6722f266-8cce-4647-bbfc-704e8399f3d2",
   "metadata": {},
   "outputs": [
    {
     "data": {
      "text/plain": [
       "'S20250605'"
      ]
     },
     "execution_count": 36,
     "metadata": {},
     "output_type": "execute_result"
    }
   ],
   "source": [
    "# private 속성 접근 : name mangling 방식으로 우회 가능하나, 절대 사용 권장하지 않음\n",
    "s._Student__student_id"
   ]
  },
  {
   "cell_type": "code",
   "execution_count": 37,
   "id": "5089e0a1-755a-46d4-9be5-df3792571cf1",
   "metadata": {},
   "outputs": [
    {
     "data": {
      "text/plain": [
       "'S20250605'"
      ]
     },
     "execution_count": 37,
     "metadata": {},
     "output_type": "execute_result"
    }
   ],
   "source": [
    "# private 속성 접근 : getter 메소드 사용\n",
    "s.get_student_id()"
   ]
  },
  {
   "cell_type": "code",
   "execution_count": 39,
   "id": "47d70691-2a9c-4d4b-9a63-81f463c57fdf",
   "metadata": {},
   "outputs": [
    {
     "ename": "NameError",
     "evalue": "name 'neq_id' is not defined",
     "output_type": "error",
     "traceback": [
      "\u001b[1;31m---------------------------------------------------------------------------\u001b[0m",
      "\u001b[1;31mNameError\u001b[0m                                 Traceback (most recent call last)",
      "\u001b[1;32m<ipython-input-39-4998791946f2>\u001b[0m in \u001b[0;36m<module>\u001b[1;34m\u001b[0m\n\u001b[0;32m      1\u001b[0m \u001b[1;31m# private 속성 수정1 : setter 메소드 사용\u001b[0m\u001b[1;33m\u001b[0m\u001b[1;33m\u001b[0m\u001b[1;33m\u001b[0m\u001b[0m\n\u001b[1;32m----> 2\u001b[1;33m \u001b[0ms\u001b[0m\u001b[1;33m.\u001b[0m\u001b[0mset_student_id\u001b[0m\u001b[1;33m(\u001b[0m\u001b[1;34m\"A20250612\"\u001b[0m\u001b[1;33m)\u001b[0m\u001b[1;33m\u001b[0m\u001b[1;33m\u001b[0m\u001b[0m\n\u001b[0m",
      "\u001b[1;32m<ipython-input-28-eefe00f15bb5>\u001b[0m in \u001b[0;36mset_student_id\u001b[1;34m(self, new_id)\u001b[0m\n\u001b[0;32m     12\u001b[0m     \u001b[1;31m# setter 메소드\u001b[0m\u001b[1;33m\u001b[0m\u001b[1;33m\u001b[0m\u001b[1;33m\u001b[0m\u001b[0m\n\u001b[0;32m     13\u001b[0m     \u001b[1;32mdef\u001b[0m \u001b[0mset_student_id\u001b[0m\u001b[1;33m(\u001b[0m\u001b[0mself\u001b[0m\u001b[1;33m,\u001b[0m \u001b[0mnew_id\u001b[0m\u001b[1;33m)\u001b[0m\u001b[1;33m:\u001b[0m\u001b[1;33m\u001b[0m\u001b[1;33m\u001b[0m\u001b[0m\n\u001b[1;32m---> 14\u001b[1;33m         \u001b[1;32mif\u001b[0m \u001b[0misinstance\u001b[0m\u001b[1;33m(\u001b[0m\u001b[0mneq_id\u001b[0m\u001b[1;33m,\u001b[0m \u001b[0mstr\u001b[0m\u001b[1;33m)\u001b[0m \u001b[1;32mand\u001b[0m \u001b[0mnew_id\u001b[0m\u001b[1;33m.\u001b[0m\u001b[0mstartswith\u001b[0m\u001b[1;33m(\u001b[0m\u001b[1;34m\"S\"\u001b[0m\u001b[1;33m)\u001b[0m\u001b[1;33m:\u001b[0m\u001b[1;33m\u001b[0m\u001b[1;33m\u001b[0m\u001b[0m\n\u001b[0m\u001b[0;32m     15\u001b[0m             \u001b[0mself\u001b[0m\u001b[1;33m.\u001b[0m\u001b[0m__student_id\u001b[0m \u001b[1;33m=\u001b[0m \u001b[0mnew_id\u001b[0m\u001b[1;33m\u001b[0m\u001b[1;33m\u001b[0m\u001b[0m\n\u001b[0;32m     16\u001b[0m \u001b[1;33m\u001b[0m\u001b[0m\n",
      "\u001b[1;31mNameError\u001b[0m: name 'neq_id' is not defined"
     ]
    }
   ],
   "source": [
    "# private 속성 수정1 : setter 메소드 사용\n",
    "s.set_student_id(\"A20250612\")  # 이렇게 뜨면 안되는데.."
   ]
  },
  {
   "cell_type": "code",
   "execution_count": 48,
   "id": "2a2b17a1-0907-4163-9b1f-f6b07d79c2d1",
   "metadata": {},
   "outputs": [],
   "source": [
    "class PasswordChecker:\n",
    "    def __innit__(self, password):\n",
    "        self.__password = password\n",
    "        \n",
    "        # 비밀번호 길이 8 이상, 숫자 포함 여부 검사\n",
    "    def __call__(self):\n",
    "        gt_eight = len(self.__password) >= 8\n",
    "        is_alnum = self.__password.isalnum()\n",
    "        return gt_eight and is_alnum\n",
    "    \n",
    "    # (메소드) 비밀번호 직접 노출 방지\n",
    "    def show_password(self):\n",
    "        return \"비밀번호는 볼 수 없습니다.\""
   ]
  },
  {
   "cell_type": "code",
   "execution_count": 50,
   "id": "6c8422df-158e-464f-841b-560b40439e6f",
   "metadata": {},
   "outputs": [
    {
     "ename": "TypeError",
     "evalue": "PasswordChecker() takes no arguments",
     "output_type": "error",
     "traceback": [
      "\u001b[1;31m---------------------------------------------------------------------------\u001b[0m",
      "\u001b[1;31mTypeError\u001b[0m                                 Traceback (most recent call last)",
      "\u001b[1;32m<ipython-input-50-f8201abaa4fa>\u001b[0m in \u001b[0;36m<module>\u001b[1;34m\u001b[0m\n\u001b[1;32m----> 1\u001b[1;33m \u001b[0mmypw\u001b[0m \u001b[1;33m=\u001b[0m \u001b[0mPasswordChecker\u001b[0m\u001b[1;33m(\u001b[0m\u001b[1;34m\"mypassword123\"\u001b[0m\u001b[1;33m)\u001b[0m\u001b[1;33m\u001b[0m\u001b[1;33m\u001b[0m\u001b[0m\n\u001b[0m\u001b[0;32m      2\u001b[0m \u001b[0mmypw\u001b[0m\u001b[1;33m(\u001b[0m\u001b[1;33m)\u001b[0m\u001b[1;33m\u001b[0m\u001b[1;33m\u001b[0m\u001b[0m\n",
      "\u001b[1;31mTypeError\u001b[0m: PasswordChecker() takes no arguments"
     ]
    }
   ],
   "source": [
    "mypw = PasswordChecker(\"mypassword123\")\n",
    "mypw()  # 왜 안 뜨냐 ㅠ"
   ]
  },
  {
   "cell_type": "markdown",
   "id": "f3288dae-e5e0-4657-9d45-f2b0194629ac",
   "metadata": {},
   "source": [
    "## 5.6. 클래스 상속\n",
    "### 5.6.1. 클래스 상속 소개"
   ]
  },
  {
   "cell_type": "code",
   "execution_count": 51,
   "id": "816959d2-4988-4025-ac48-67cbf48172dd",
   "metadata": {},
   "outputs": [],
   "source": [
    "## 부모 클래스 : Car\n",
    "class Car:\n",
    "    def __init__(self, model, color, manufacturer):\n",
    "        self.model = model                                  # (속성) 모델명\n",
    "        self.color = color                                  # (속성) 색상\n",
    "        self.manufacturer = manufacturer                    # (속성) 제조사\n",
    "\n",
    "    \n",
    "    def start_engine(self):                                 # (메소드) 시동 켜기\n",
    "        print(f\"{self.model}의 시동을 켭니다.\")\n",
    "    \n",
    "    def stop_engine(self):                                  # (메소드) 시동 끄기\n",
    "        print(f\"{self.model}의 시동을 끕니다.\")"
   ]
  },
  {
   "cell_type": "code",
   "execution_count": 61,
   "id": "c1256a66-9593-4863-9e03-5bb0bf7f061d",
   "metadata": {},
   "outputs": [],
   "source": [
    "## 자식 클래스1 : GasolineCar\n",
    "class GasolineCar(Car):\n",
    "    def __init__(self, model, color, manufacturer, fuel_tank_capacity):\n",
    "        super().__init__(model, color, manufacturer)        # (속성) 부모 클래스 속성 상속\n",
    "        self.fuel_tank_capacity = fuel_tank_capacity        # (속성) 연료 탱크 용량, 가솔린차 고유 속성\n",
    "\n",
    "    \n",
    "    def refuel(self):                                       # (메소드) 주유, 가솔린차 고유 메소드\n",
    "        print(f\"{self.model}에 주유합니다. 탱크 용량: {self.fuel_tank_capacity}L\")\n",
    "        "
   ]
  },
  {
   "cell_type": "code",
   "execution_count": 62,
   "id": "6fecd587-6e6e-4a25-8355-0d335f224ceb",
   "metadata": {},
   "outputs": [],
   "source": [
    "class ElectricCar(Car):\n",
    "    def __init__(self, model, color, manufacturer, battery_capacity):\n",
    "        super().__init__(model, color, manufacturer)        # (속성) 부모 클래스 속성 상속\n",
    "        self.battery_capacity = battery_capacity            # (속성) 배터리 용량, 전기차 고유 속성\n",
    "\n",
    "    def charge(self):                                       # (메소드) 충전, 전기차 고유 메소드\n",
    "        print(f\"{self.model}을 충전합니다. 배터리 용량: {self.battery_capacity}kWh\")"
   ]
  },
  {
   "cell_type": "code",
   "execution_count": 63,
   "id": "fb2bc2aa-36df-4c13-a815-d9a67b521d18",
   "metadata": {},
   "outputs": [],
   "source": [
    "class DieselCar(Car):\n",
    "    def __init__(self, model, color, manufacturer, fuel_tank_capacity):\n",
    "        super().__init__(model, color, manufacturer)        # (속성) 부모 클래스 속성 상속\n",
    "        self.fuel_tank_capacity = fuel_tank_capacity        # (속성) 연료 탱크 용량, 디젤차 고유 속성\n",
    "\n",
    "    \n",
    "    def refuel(self):                                       # (메소드) 주유, 디젤차 고유 메소드\n",
    "        print(f\"{self.model}에 디젤 주유합니다. 탱크 용량: {self.fuel_tank_capacity}L\")\n",
    "    \n",
    "    def check_emission(self):                               # (메소드) 배출가스 측정, 디젤차 고유 메소드\n",
    "        print(f\"{self.model}의 배출가스를 측정합니다.\")"
   ]
  },
  {
   "cell_type": "code",
   "execution_count": 65,
   "id": "e83f097d-1ded-4ec4-b1c9-ba1cc9559f92",
   "metadata": {},
   "outputs": [],
   "source": [
    "gas_car = GasolineCar(\"Car A\", \"Red\", \"Manufacturer A\", 50)\n",
    "diesel_car = DieselCar(\"Car B\", \"Blue\", \"Manufacturer B\", 60)\n",
    "electric_car = ElectricCar(\"Car C\", \"White\", \"Manufacturer C\", 40)"
   ]
  },
  {
   "cell_type": "code",
   "execution_count": 66,
   "id": "9fd9a730-1a8f-422d-ad01-13475a5ab9a8",
   "metadata": {},
   "outputs": [
    {
     "name": "stdout",
     "output_type": "stream",
     "text": [
      "Car A의 시동을 켭니다.\n",
      "Car A에 주유합니다. 탱크 용량: 50L\n",
      "Car A의 시동을 끕니다.\n"
     ]
    }
   ],
   "source": [
    "gas_car.start_engine()                       # 부모 클래스 메소드\n",
    "gas_car.refuel()                             # 자식 클래스 고유 메소드\n",
    "gas_car.stop_engine()                        # 부모 클래스 메소드"
   ]
  },
  {
   "cell_type": "code",
   "execution_count": 67,
   "id": "ee1c8a48-8296-409f-8595-0079e3a807ab",
   "metadata": {},
   "outputs": [
    {
     "name": "stdout",
     "output_type": "stream",
     "text": [
      "Car B의 시동을 켭니다.\n",
      "Car B에 디젤 주유합니다. 탱크 용량: 60L\n",
      "Car B의 배출가스를 측정합니다.\n",
      "Car B의 시동을 끕니다.\n"
     ]
    }
   ],
   "source": [
    "diesel_car.start_engine()\n",
    "diesel_car.refuel()\n",
    "diesel_car.check_emission()\n",
    "diesel_car.stop_engine()"
   ]
  },
  {
   "cell_type": "code",
   "execution_count": 68,
   "id": "4c7faa3e-6ea6-4a6b-a9e6-91a048e0fb94",
   "metadata": {},
   "outputs": [
    {
     "name": "stdout",
     "output_type": "stream",
     "text": [
      "Car C의 시동을 켭니다.\n",
      "Car C을 충전합니다. 배터리 용량: 40kWh\n",
      "Car C의 시동을 끕니다.\n"
     ]
    }
   ],
   "source": [
    "electric_car.start_engine()\n",
    "electric_car.charge()\n",
    "electric_car.stop_engine()"
   ]
  },
  {
   "cell_type": "code",
   "execution_count": 69,
   "id": "db736a72-b611-4d90-a9e3-844722ccf975",
   "metadata": {},
   "outputs": [],
   "source": [
    "class RemoteControlMixin:\n",
    "    def remote_start(self):\n",
    "        print(f\"{self.model}의 시동을 원격으로 켭니다.\")\n",
    "\n",
    "    def remote_stop(self):\n",
    "        print(f\"{self.model}의 시동을 원격으로 끕니다.\")"
   ]
  },
  {
   "cell_type": "code",
   "execution_count": 75,
   "id": "d31ebb51-c866-4027-88ec-f196c88e9425",
   "metadata": {},
   "outputs": [
    {
     "ename": "IndentationError",
     "evalue": "expected an indented block (<ipython-input-75-8c3795834d25>, line 3)",
     "output_type": "error",
     "traceback": [
      "\u001b[1;36m  File \u001b[1;32m\"<ipython-input-75-8c3795834d25>\"\u001b[1;36m, line \u001b[1;32m3\u001b[0m\n\u001b[1;33m    def __init__(self, model, color, manufacturer, fuel_tank_capacity):\u001b[0m\n\u001b[1;37m    ^\u001b[0m\n\u001b[1;31mIndentationError\u001b[0m\u001b[1;31m:\u001b[0m expected an indented block\n"
     ]
    }
   ],
   "source": [
    "class RemoteGasoline(Car, RemoteControlMixin):\n",
    "    class GasolineCar(Car):\n",
    "    def __init__(self, model, color, manufacturer, fuel_tank_capacity):\n",
    "        super().__init__(model, color, manufacturer)        # (속성) 부모 클래스 속성 상속\n",
    "        self.fuel_tank_capacity = fuel_tank_capacity        # (속성) 연료 탱크 용량, 가솔린차 고유 속성\n",
    "\n",
    "    \n",
    "    def refuel(self):                                       # (메소드) 주유, 가솔린차 고유 메소드\n",
    "        print(f\"{self.model}에 주유합니다. 탱크 용량: {self.fuel_tank_capacity}L\")"
   ]
  },
  {
   "cell_type": "code",
   "execution_count": 76,
   "id": "eb1d68b7-3d35-4bd2-8929-6c68e0649d70",
   "metadata": {},
   "outputs": [
    {
     "ename": "NameError",
     "evalue": "name 'RemoteGasolineCar' is not defined",
     "output_type": "error",
     "traceback": [
      "\u001b[1;31m---------------------------------------------------------------------------\u001b[0m",
      "\u001b[1;31mNameError\u001b[0m                                 Traceback (most recent call last)",
      "\u001b[1;32m<ipython-input-76-a8c6db0d3276>\u001b[0m in \u001b[0;36m<module>\u001b[1;34m\u001b[0m\n\u001b[1;32m----> 1\u001b[1;33m \u001b[0mcar\u001b[0m \u001b[1;33m=\u001b[0m \u001b[0mRemoteGasolineCar\u001b[0m\u001b[1;33m(\u001b[0m\u001b[1;34m\"Car D\"\u001b[0m\u001b[1;33m,\u001b[0m \u001b[1;34m\"Black\"\u001b[0m\u001b[1;33m,\u001b[0m \u001b[1;34m\"Manufacturer D\"\u001b[0m\u001b[1;33m,\u001b[0m \u001b[1;36m55\u001b[0m\u001b[1;33m)\u001b[0m\u001b[1;33m\u001b[0m\u001b[1;33m\u001b[0m\u001b[0m\n\u001b[0m\u001b[0;32m      2\u001b[0m \u001b[1;33m\u001b[0m\u001b[0m\n\u001b[0;32m      3\u001b[0m \u001b[0mcar\u001b[0m\u001b[1;33m.\u001b[0m\u001b[0mstart_engine\u001b[0m\u001b[1;33m(\u001b[0m\u001b[1;33m)\u001b[0m                           \u001b[1;31m# Car 클래스 메소드\u001b[0m\u001b[1;33m\u001b[0m\u001b[1;33m\u001b[0m\u001b[0m\n\u001b[0;32m      4\u001b[0m \u001b[0mcar\u001b[0m\u001b[1;33m.\u001b[0m\u001b[0mremote_start\u001b[0m\u001b[1;33m(\u001b[0m\u001b[1;33m)\u001b[0m                           \u001b[1;31m# RemoteControlMixin 클래스 메소드\u001b[0m\u001b[1;33m\u001b[0m\u001b[1;33m\u001b[0m\u001b[0m\n\u001b[0;32m      5\u001b[0m \u001b[0mcar\u001b[0m\u001b[1;33m.\u001b[0m\u001b[0mfuel_info\u001b[0m\u001b[1;33m(\u001b[0m\u001b[1;33m)\u001b[0m                              \u001b[1;31m# 자식 클래스 고유 메소드\u001b[0m\u001b[1;33m\u001b[0m\u001b[1;33m\u001b[0m\u001b[0m\n",
      "\u001b[1;31mNameError\u001b[0m: name 'RemoteGasolineCar' is not defined"
     ]
    }
   ],
   "source": [
    "car = RemoteGasolineCar(\"Car D\", \"Black\", \"Manufacturer D\", 55)\n",
    "\n",
    "car.start_engine()                           # Car 클래스 메소드\n",
    "car.remote_start()                           # RemoteControlMixin 클래스 메소드\n",
    "car.fuel_info()                              # 자식 클래스 고유 메소드\n",
    "car.remote_stop()"
   ]
  },
  {
   "cell_type": "code",
   "execution_count": 80,
   "id": "5f1f338a-113f-48fd-9b1d-5cb81ef5c8fe",
   "metadata": {},
   "outputs": [],
   "source": [
    "class Animal:\n",
    "    def __init__(self, name):\n",
    "        self.name = name      # (속성) 동물 이름\n",
    "        \n",
    "    def speak(self):          # (메소드) 소리 내기\n",
    "        print(f\"{self.name}가 소리를 냅니다.\")"
   ]
  },
  {
   "cell_type": "code",
   "execution_count": 81,
   "id": "2ab4f5aa-b5b9-4636-addb-5dc9446c1c91",
   "metadata": {},
   "outputs": [],
   "source": [
    "class Dog(Animal):\n",
    "    def __init__(self, ame, breed):\n",
    "        super().__init__(name)\n",
    "        self.breed = breed\n",
    "        \n",
    "    def speak(self):\n",
    "        print(f\"{self.name}는 멍멍 짖습니다.\")"
   ]
  },
  {
   "cell_type": "code",
   "execution_count": null,
   "id": "70c348aa-7924-4794-99a4-e5fb66c92fe4",
   "metadata": {},
   "outputs": [],
   "source": []
  },
  {
   "cell_type": "code",
   "execution_count": null,
   "id": "41aa3b01-318c-439e-b8af-ea2415732030",
   "metadata": {},
   "outputs": [],
   "source": []
  },
  {
   "cell_type": "code",
   "execution_count": null,
   "id": "c227b2c2-9a00-46fb-973a-634b68615f21",
   "metadata": {},
   "outputs": [],
   "source": []
  }
 ],
 "metadata": {
  "kernelspec": {
   "display_name": "Python 3",
   "language": "python",
   "name": "python3"
  },
  "language_info": {
   "codemirror_mode": {
    "name": "ipython",
    "version": 3
   },
   "file_extension": ".py",
   "mimetype": "text/x-python",
   "name": "python",
   "nbconvert_exporter": "python",
   "pygments_lexer": "ipython3",
   "version": "3.8.8"
  }
 },
 "nbformat": 4,
 "nbformat_minor": 5
}
