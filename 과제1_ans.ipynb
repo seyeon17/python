{
 "cells": [
  {
   "cell_type": "code",
   "execution_count": 2,
   "id": "a5492c3b-97fb-49eb-af0b-58d03cc8f916",
   "metadata": {},
   "outputs": [
    {
     "data": {
      "text/plain": [
       "[1, 4, 9, 16, 25, 36, 49, 64, 81, 100]"
      ]
     },
     "execution_count": 2,
     "metadata": {},
     "output_type": "execute_result"
    }
   ],
   "source": [
    "[i**2 for i in range(1,11)]"
   ]
  },
  {
   "cell_type": "code",
   "execution_count": 8,
   "id": "96aa63a8-4074-40a8-9435-1717d428c883",
   "metadata": {},
   "outputs": [
    {
     "data": {
      "text/plain": [
       "['a', 'b', 'c', 'd']"
      ]
     },
     "execution_count": 8,
     "metadata": {},
     "output_type": "execute_result"
    }
   ],
   "source": [
    "words = [\"apple\", \"banana\", \"cherry\", \"durian\"] \n",
    "[w[0] for w in words]"
   ]
  },
  {
   "cell_type": "code",
   "execution_count": 12,
   "id": "c5ed1b3e-9689-4ee2-b0ad-da9ba41e4240",
   "metadata": {},
   "outputs": [
    {
     "data": {
      "text/plain": [
       "[4, 10, 18]"
      ]
     },
     "execution_count": 12,
     "metadata": {},
     "output_type": "execute_result"
    }
   ],
   "source": [
    "list1 = [1,2,3]\n",
    "list2 = [4,5,6]\n",
    "[list1[i] * list2[i] for i in range(3)]\n"
   ]
  },
  {
   "cell_type": "code",
   "execution_count": 15,
   "id": "6c8fb02e-0e54-40cb-bedf-9cc262bdca16",
   "metadata": {},
   "outputs": [
    {
     "data": {
      "text/plain": [
       "[3, 6, 9, 12, 15, 18]"
      ]
     },
     "execution_count": 15,
     "metadata": {},
     "output_type": "execute_result"
    }
   ],
   "source": [
    "[i for i in range(1,21) if i % 3 == 0]"
   ]
  },
  {
   "cell_type": "code",
   "execution_count": 19,
   "id": "185bc535-b355-42fe-9f7b-93036926837f",
   "metadata": {},
   "outputs": [
    {
     "data": {
      "text/plain": [
       "['alligator', 'elephant']"
      ]
     },
     "execution_count": 19,
     "metadata": {},
     "output_type": "execute_result"
    }
   ],
   "source": [
    "words =  [\"alligator\", \"bear\", \"cat\", \"dog\", \"elephant\", \"fox\"]\n",
    "[w for w in words if len(w) >=5]"
   ]
  }
 ],
 "metadata": {
  "kernelspec": {
   "display_name": "Python 3",
   "language": "python",
   "name": "python3"
  },
  "language_info": {
   "codemirror_mode": {
    "name": "ipython",
    "version": 3
   },
   "file_extension": ".py",
   "mimetype": "text/x-python",
   "name": "python",
   "nbconvert_exporter": "python",
   "pygments_lexer": "ipython3",
   "version": "3.8.8"
  }
 },
 "nbformat": 4,
 "nbformat_minor": 5
}
