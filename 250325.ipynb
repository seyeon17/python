{
 "cells": [
  {
   "cell_type": "code",
   "execution_count": 5,
   "id": "b584ce08-90c0-408e-8e80-af39ef188559",
   "metadata": {},
   "outputs": [
    {
     "name": "stdout",
     "output_type": "stream",
     "text": [
      "   Hello Python!    \n",
      "Hello Python!\n",
      "   Hello Python!\n",
      "Hello Python!    \n"
     ]
    }
   ],
   "source": [
    "s = \"   Hello Python!    \"\n",
    "print(s)\n",
    "print(s.strip())\n",
    "print(s.rstrip())\n",
    "print(s.lstrip())"
   ]
  },
  {
   "cell_type": "code",
   "execution_count": 7,
   "id": "c729f960-7e75-4aa0-87bb-567c96419aca",
   "metadata": {},
   "outputs": [
    {
     "name": "stdout",
     "output_type": "stream",
     "text": [
      "##100kg, ##200\n",
      "100kg, ##200kg\n"
     ]
    }
   ],
   "source": [
    "# 특정 문자 제거\n",
    "s = \"##100kg, ##200kg\"\n",
    "print(s.rstrip(\"kg\"))\n",
    "print(s.lstrip(\"##\"))"
   ]
  },
  {
   "cell_type": "code",
   "execution_count": 10,
   "id": "6402b42f-fca2-4318-953a-5ea86ae4aea5",
   "metadata": {},
   "outputs": [
    {
     "name": "stdout",
     "output_type": "stream",
     "text": [
      "Hi Python!\n"
     ]
    }
   ],
   "source": [
    "# 문자열 변경\n",
    "s = \"Hello Python!\"\n",
    "print(s.replace(\"Hello\", \"Hi\"))"
   ]
  },
  {
   "cell_type": "code",
   "execution_count": 16,
   "id": "45551b04-1b23-4a95-97f8-afb9689843a4",
   "metadata": {},
   "outputs": [
    {
     "name": "stdout",
     "output_type": "stream",
     "text": [
      "True\n",
      "True\n",
      "True\n",
      "True\n",
      "True\n",
      "True\n"
     ]
    }
   ],
   "source": [
    "print(\"1234\".isdigit())\n",
    "print(\"Python\".isalpha())\n",
    "print(\"pass123\".isalnum())\n",
    "print(\"hello\".islower())\n",
    "print(\"HELLO\".isupper())\n",
    "print(\"     \".isspace())"
   ]
  },
  {
   "cell_type": "code",
   "execution_count": 18,
   "id": "3212d397-0c34-4835-9536-b012de67899c",
   "metadata": {},
   "outputs": [
    {
     "name": "stdout",
     "output_type": "stream",
     "text": [
      "1234kg\n"
     ]
    }
   ],
   "source": [
    "#행 변환1\n",
    "a = 1234\n",
    "# print(a + \"kg\")  에러!\n",
    "print(str(a) + \"kg\")"
   ]
  },
  {
   "cell_type": "code",
   "execution_count": 24,
   "id": "071923df-767d-41fd-97a0-1f9a12bd3e1e",
   "metadata": {},
   "outputs": [
    {
     "name": "stdout",
     "output_type": "stream",
     "text": [
      "3234\n",
      "103.145\n"
     ]
    }
   ],
   "source": [
    "# 행 변환2\n",
    "print(int(\"1234\") + 2000)\n",
    "print(float(\"3.14\") + 100.005)"
   ]
  },
  {
   "cell_type": "code",
   "execution_count": 28,
   "id": "24921510-a884-4a16-b809-49aa8366c910",
   "metadata": {},
   "outputs": [
    {
     "name": "stdout",
     "output_type": "stream",
     "text": [
      "10\n",
      "10 20\n",
      "10 20 30 40 50\n"
     ]
    }
   ],
   "source": [
    "# formet() 함수1\n",
    "print(\"{}\".format(10))\n",
    "print(\"{} {}\".format(10, 20))\n",
    "print(\"{} {} {} {} {}\".format(10, 20, 30, 40, 50))"
   ]
  },
  {
   "cell_type": "code",
   "execution_count": 29,
   "id": "af226c8e-e538-4bf9-8687-fa65c9807a5c",
   "metadata": {},
   "outputs": [
    {
     "name": "stdout",
     "output_type": "stream",
     "text": [
      "이름은 홍길동이고, 나이는 20입니다.\n",
      "이름은 홍길동이고, 나이는 20입니다.\n"
     ]
    }
   ],
   "source": [
    "# format() 함수2\n",
    "name = \"홍길동\"\n",
    "age = 20\n",
    "print(f\"이름은 {name}이고, 나이는 {age}입니다.\")\n",
    "print(\"이름은 {}이고, 나이는 {}입니다.\".format(name, age))"
   ]
  },
  {
   "cell_type": "code",
   "execution_count": 30,
   "id": "f54bac6a-6804-42ce-b228-430d119e21f8",
   "metadata": {},
   "outputs": [
    {
     "name": "stdout",
     "output_type": "stream",
     "text": [
      "2004\n",
      "3.142\n"
     ]
    }
   ],
   "source": [
    "# format() 함수3\n",
    "a = 4\n",
    "b = 3.14159265\n",
    "print(\"20{:02d}\".format(a))                # a 값을 두자리로 출력하되 앞의 빈곳은 0으로 채움\n",
    "print(\"{:.3f}\".format(b))                  # b 값을 소수점 이하 세자리로 반올림하여 출력"
   ]
  },
  {
   "cell_type": "code",
   "execution_count": 35,
   "id": "c51ffc97-2690-4411-af24-c2f43a234ce5",
   "metadata": {},
   "outputs": [
    {
     "name": "stdout",
     "output_type": "stream",
     "text": [
      "0004\n",
      "3.142\n"
     ]
    }
   ],
   "source": [
    "a = 4 \n",
    "b = 3.14159265\n",
    "print(\"{:04d}\".format(a))\n",
    "print(\"{:.3f}\".format(b))"
   ]
  },
  {
   "cell_type": "code",
   "execution_count": 37,
   "id": "b5072ac0-e244-46b7-87f2-e83d9091ea2d",
   "metadata": {},
   "outputs": [
    {
     "name": "stdout",
     "output_type": "stream",
     "text": [
      "[1, 2, 3, 4, 5]\n",
      "5\n"
     ]
    }
   ],
   "source": [
    "# 리스트 생성1\n",
    "lst = [1, 2, 3, 4, 5]\n",
    "print(lst)\n",
    "print(len(lst))"
   ]
  },
  {
   "cell_type": "code",
   "execution_count": null,
   "id": "95017809-316e-4cb9-a616-ae2c45838ccb",
   "metadata": {},
   "outputs": [],
   "source": []
  }
 ],
 "metadata": {
  "kernelspec": {
   "display_name": "Python 3",
   "language": "python",
   "name": "python3"
  },
  "language_info": {
   "codemirror_mode": {
    "name": "ipython",
    "version": 3
   },
   "file_extension": ".py",
   "mimetype": "text/x-python",
   "name": "python",
   "nbconvert_exporter": "python",
   "pygments_lexer": "ipython3",
   "version": "3.8.8"
  }
 },
 "nbformat": 4,
 "nbformat_minor": 5
}
