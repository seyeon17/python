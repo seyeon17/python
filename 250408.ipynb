{
 "cells": [
  {
   "cell_type": "markdown",
   "id": "f0d5b1ff-bb35-40f3-9c0b-ae92afab449b",
   "metadata": {},
   "source": [
    "## 3.4. 세트\n",
    "### 3.4.1. 세트 생성"
   ]
  },
  {
   "cell_type": "code",
   "execution_count": 2,
   "id": "93fb444e-0776-4b62-a729-f7ae9394f941",
   "metadata": {},
   "outputs": [
    {
     "name": "stdout",
     "output_type": "stream",
     "text": [
      "{1, 2, 3, 4}\n"
     ]
    }
   ],
   "source": [
    "# 세트 생성1\n",
    "st = {1, 2, 3, 1, 1, 4}\n",
    "print(st)"
   ]
  },
  {
   "cell_type": "code",
   "execution_count": 4,
   "id": "359b6f2a-e494-4062-be48-a7a315de812f",
   "metadata": {},
   "outputs": [
    {
     "name": "stdout",
     "output_type": "stream",
     "text": [
      "{1, 2, 3, 4}\n"
     ]
    }
   ],
   "source": [
    "# 세트 생성2\n",
    "st = set({1, 2, 3, 1, 1, 4})\n",
    "print(st)"
   ]
  },
  {
   "cell_type": "code",
   "execution_count": 5,
   "id": "6cf8a5f5-781c-4ca7-ae55-96abce51571c",
   "metadata": {},
   "outputs": [
    {
     "name": "stdout",
     "output_type": "stream",
     "text": [
      "{1, 3.14, 'Hello', (1, 2, 3)}\n"
     ]
    }
   ],
   "source": [
    "# 세트 생성3: 세트는 해시 가능한(immutable) 자료형을 저장할 수 있음\n",
    "st = {1, 3.14, \"Hello\", True, (1,2,3), \"Hello\", 1, 1, 1}\n",
    "print(st)"
   ]
  },
  {
   "cell_type": "code",
   "execution_count": 10,
   "id": "07fb7ccc-3c6d-485d-9c68-47f94a089091",
   "metadata": {},
   "outputs": [
    {
     "name": "stdout",
     "output_type": "stream",
     "text": [
      "{'H', 'o', 'e', 'l'}\n"
     ]
    }
   ],
   "source": [
    "# 세트 생성4: iterable 객체 사용\n",
    "st = set(\"Hello\")\n",
    "print(st)"
   ]
  },
  {
   "cell_type": "code",
   "execution_count": 14,
   "id": "7e6e9f8a-f4f9-48d2-b3e7-55d10c30419c",
   "metadata": {},
   "outputs": [
    {
     "name": "stdout",
     "output_type": "stream",
     "text": [
      "{1, 2, 3, 4}\n",
      "{1, 2, 3, 4}\n"
     ]
    }
   ],
   "source": [
    "# 세트 생성5: iterable 객체 사용\n",
    "st1 = set([1, 2, 3, 1, 1, 4])\n",
    "st2 = set((1, 2, 3, 1, 1, 4))\n",
    "print(st1)\n",
    "print(st2)"
   ]
  },
  {
   "cell_type": "code",
   "execution_count": 15,
   "id": "750bba5d-fcbc-4666-a3bb-82739202a23a",
   "metadata": {},
   "outputs": [
    {
     "name": "stdout",
     "output_type": "stream",
     "text": [
      "[]\n"
     ]
    },
    {
     "data": {
      "text/plain": [
       "list"
      ]
     },
     "execution_count": 15,
     "metadata": {},
     "output_type": "execute_result"
    }
   ],
   "source": [
    "# 빈 리스트\n",
    "a = []\n",
    "print(a)\n",
    "type(a)"
   ]
  },
  {
   "cell_type": "code",
   "execution_count": 19,
   "id": "6d626fec-87da-41bc-9623-ffc2445494a9",
   "metadata": {},
   "outputs": [
    {
     "name": "stdout",
     "output_type": "stream",
     "text": [
      "()\n"
     ]
    },
    {
     "data": {
      "text/plain": [
       "tuple"
      ]
     },
     "execution_count": 19,
     "metadata": {},
     "output_type": "execute_result"
    }
   ],
   "source": [
    "# 빈 튜플\n",
    "b = ()\n",
    "print(b)\n",
    "type(b)"
   ]
  },
  {
   "cell_type": "code",
   "execution_count": 20,
   "id": "ef0956a7-6e60-4381-8208-c3cd001da058",
   "metadata": {},
   "outputs": [
    {
     "name": "stdout",
     "output_type": "stream",
     "text": [
      "{}\n"
     ]
    },
    {
     "data": {
      "text/plain": [
       "dict"
      ]
     },
     "execution_count": 20,
     "metadata": {},
     "output_type": "execute_result"
    }
   ],
   "source": [
    "# 빈 세트   ???\n",
    "c = {}\n",
    "print(c)\n",
    "type(c)"
   ]
  },
  {
   "cell_type": "markdown",
   "id": "f0d909e7-8efb-4ca1-81ed-fc4b9bb6d5f4",
   "metadata": {},
   "source": [
    "### 3.4.2. 세트 연산 및 메소드\n",
    "#### 3.4.2.1. 세트 연산"
   ]
  },
  {
   "cell_type": "code",
   "execution_count": 23,
   "id": "fe9dab65-eb49-45c8-8035-b042c44a660c",
   "metadata": {},
   "outputs": [
    {
     "name": "stdout",
     "output_type": "stream",
     "text": [
      "{1, 2, 3, 4}\n",
      "[11, 12, {1, 2, 3, 4}, 20]\n"
     ]
    }
   ],
   "source": [
    "# 세트 전개\n",
    "st = {1,2,3,1,1,4}\n",
    "print({*st, *st})\n",
    "print([11, 12, st, 20])"
   ]
  },
  {
   "cell_type": "markdown",
   "id": "dd8dd7fd-c4e7-4ef8-9b48-3b41f31de57a",
   "metadata": {},
   "source": [
    "#### 3.4.2.2. 세트 집합 연산 밒 메소드"
   ]
  },
  {
   "cell_type": "code",
   "execution_count": 24,
   "id": "3fb37ba0-8d91-4cd2-beb8-5139fb773409",
   "metadata": {},
   "outputs": [
    {
     "name": "stdout",
     "output_type": "stream",
     "text": [
      "{1, 2, 3, 4, 5}\n",
      "{3}\n",
      "{1, 2}\n",
      "{1, 2, 4, 5}\n",
      "False\n"
     ]
    }
   ],
   "source": [
    "# 세트 연산1\n",
    "A = {1, 2, 3}\n",
    "B = {3, 4, 5}\n",
    "\n",
    "print(A | B)                                                # 합집합\n",
    "print(A & B)                                                # 교집합\n",
    "print(A - B)                                                # 차집합\n",
    "print(A ^ B)                                                # 대칭차집합\n",
    "print(A <= B)                                               # 부분집합 여부"
   ]
  },
  {
   "cell_type": "code",
   "execution_count": 26,
   "id": "1cea8cd7-541e-4fdc-957b-2228a7aa02b6",
   "metadata": {},
   "outputs": [
    {
     "name": "stdout",
     "output_type": "stream",
     "text": [
      "{1, 2, 3, 4, 5}\n",
      "{3}\n",
      "{1, 2}\n",
      "{1, 2, 4, 5}\n",
      "False\n"
     ]
    }
   ],
   "source": [
    "# 세트 연산2\n",
    "A = {1, 2, 3}\n",
    "B = {3, 4, 5}\n",
    "\n",
    "print(A.union(B))\n",
    "print(A.intersection(B))\n",
    "print(A.difference(B))\n",
    "print(A.symmetric_difference(B))\n",
    "print(A.issubset(B))"
   ]
  },
  {
   "cell_type": "code",
   "execution_count": 28,
   "id": "5f370ab1-3445-4713-9591-9b7445ec2fea",
   "metadata": {},
   "outputs": [
    {
     "name": "stdout",
     "output_type": "stream",
     "text": [
      "{1, 2, 3, 4, 5, 6, 7, 8}\n",
      "set()\n",
      "{1, 2, 3, 4, 5, 6, 7, 8}\n",
      "set()\n"
     ]
    }
   ],
   "source": [
    "# 세트 연산3: 여러 개의 세트를 연쇄적으로 한 번에 연산 가능\n",
    "A = {1, 2, 3}\n",
    "B = {3, 4, 5}\n",
    "C = {6, 7, 8}\n",
    "\n",
    "# 연산자 사용\n",
    "print(A | B | C)\n",
    "print(A & B & C)\n",
    "\n",
    "# 메소드 사용\n",
    "print(A.union(B, C))\n",
    "print(A.intersection(B, C))"
   ]
  },
  {
   "cell_type": "markdown",
   "id": "c75c142c-c168-454b-bcce-0575a5df547c",
   "metadata": {},
   "source": [
    "#### 3.4.2.3. 세트추가/삭제/검색"
   ]
  },
  {
   "cell_type": "code",
   "execution_count": 30,
   "id": "f20237ef-dad2-4f86-afc1-02284c298e19",
   "metadata": {},
   "outputs": [
    {
     "name": "stdout",
     "output_type": "stream",
     "text": [
      "{1, 2, 3, 6}\n"
     ]
    }
   ],
   "source": [
    "# 세트에 한 개의 원소 추가\n",
    "st = {1, 2, 3}\n",
    "st.add(6)\n",
    "print(st)"
   ]
  },
  {
   "cell_type": "code",
   "execution_count": 33,
   "id": "7d7bbb0e-35ad-4b23-85b6-a60e66ee0ed3",
   "metadata": {},
   "outputs": [
    {
     "name": "stdout",
     "output_type": "stream",
     "text": [
      "{1, 2, 3, 6}\n",
      "{1, 2, 3, 6, 7}\n",
      "{1, 2, 3, 6, 7, 8, 9}\n"
     ]
    }
   ],
   "source": [
    "# 세트에 여러 개의 원소 추가\n",
    "st = {1, 2, 3}\n",
    "st.update([1, 2, 6])   # 1,2,6을 묶기 위한 리스트\n",
    "print(st)\n",
    "\n",
    "st.update((1, 7))\n",
    "print(st)\n",
    "\n",
    "st.update({8, 9})\n",
    "print(st)\n"
   ]
  },
  {
   "cell_type": "code",
   "execution_count": 34,
   "id": "dc48c561-9b6d-4791-aa25-8541906c62f2",
   "metadata": {},
   "outputs": [
    {
     "name": "stdout",
     "output_type": "stream",
     "text": [
      "1\n",
      "{2, 3}\n"
     ]
    }
   ],
   "source": [
    "# 임의의 원소 삭제\n",
    "st = {1, 2, 3}\n",
    "result = st.pop()\n",
    "print(result)\n",
    "print(st)"
   ]
  },
  {
   "cell_type": "code",
   "execution_count": null,
   "id": "6832b019-2c64-47fa-8237-b1266b65477a",
   "metadata": {},
   "outputs": [],
   "source": []
  },
  {
   "cell_type": "code",
   "execution_count": null,
   "id": "3ff7c33e-6372-422a-ba1c-1bb797c9d38b",
   "metadata": {},
   "outputs": [],
   "source": []
  },
  {
   "cell_type": "code",
   "execution_count": null,
   "id": "bba80b3b-99db-42f9-ba99-66f46fa1195e",
   "metadata": {},
   "outputs": [],
   "source": []
  },
  {
   "cell_type": "code",
   "execution_count": null,
   "id": "66ca80c4-2258-4441-986f-ddf10374568c",
   "metadata": {},
   "outputs": [],
   "source": []
  },
  {
   "cell_type": "code",
   "execution_count": null,
   "id": "bf5f94e5-84d8-4b57-b707-9f97d744b21b",
   "metadata": {},
   "outputs": [],
   "source": []
  },
  {
   "cell_type": "code",
   "execution_count": null,
   "id": "04a941a2-1d3e-4ee8-9a30-b62e2a4f02df",
   "metadata": {},
   "outputs": [],
   "source": []
  },
  {
   "cell_type": "code",
   "execution_count": null,
   "id": "6149e166-c529-4022-b4c8-d3d15ba4e2e9",
   "metadata": {},
   "outputs": [],
   "source": []
  },
  {
   "cell_type": "code",
   "execution_count": null,
   "id": "a6ae648c-08b5-4696-b85f-43a062a43d74",
   "metadata": {},
   "outputs": [],
   "source": []
  },
  {
   "cell_type": "code",
   "execution_count": null,
   "id": "8b2ab055-09fe-4286-bd02-92dc40e44060",
   "metadata": {},
   "outputs": [],
   "source": []
  },
  {
   "cell_type": "code",
   "execution_count": null,
   "id": "b1bb0fa2-a091-4d19-b947-0be5b84f446d",
   "metadata": {},
   "outputs": [],
   "source": []
  },
  {
   "cell_type": "code",
   "execution_count": null,
   "id": "9943d06d-0511-430a-9cc2-10162a7c55e1",
   "metadata": {},
   "outputs": [],
   "source": []
  },
  {
   "cell_type": "code",
   "execution_count": null,
   "id": "03e49621-a28b-4969-9c8c-672832764749",
   "metadata": {},
   "outputs": [],
   "source": []
  },
  {
   "cell_type": "code",
   "execution_count": null,
   "id": "8455dd0b-dab5-4894-82ad-1b014906f4d1",
   "metadata": {},
   "outputs": [],
   "source": []
  }
 ],
 "metadata": {
  "kernelspec": {
   "display_name": "Python 3",
   "language": "python",
   "name": "python3"
  },
  "language_info": {
   "codemirror_mode": {
    "name": "ipython",
    "version": 3
   },
   "file_extension": ".py",
   "mimetype": "text/x-python",
   "name": "python",
   "nbconvert_exporter": "python",
   "pygments_lexer": "ipython3",
   "version": "3.8.8"
  }
 },
 "nbformat": 4,
 "nbformat_minor": 5
}
