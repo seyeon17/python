{
 "cells": [
  {
   "cell_type": "markdown",
   "id": "790ed6f7-c584-435b-a4f4-ae5ac1559331",
   "metadata": {},
   "source": [
    "#### 4.1.2.4. 배열 형태 변환"
   ]
  },
  {
   "cell_type": "code",
   "execution_count": 1,
   "id": "883caa32-62d6-47a0-add8-cd701274ffdc",
   "metadata": {},
   "outputs": [],
   "source": [
    "import numpy as np"
   ]
  },
  {
   "cell_type": "code",
   "execution_count": 5,
   "id": "650bed35-937a-41a8-b65d-8db7f0d3e9e0",
   "metadata": {},
   "outputs": [
    {
     "name": "stdout",
     "output_type": "stream",
     "text": [
      "[1 2 3 4 5 6]\n"
     ]
    }
   ],
   "source": [
    "# 1차원 배열 -> 2차원 배열(3행 2열)\n",
    "arr = np.array([1, 2, 3, 4, 5, 6])\n",
    "arr.reshape(3, 2)\n",
    "print(arr)  # arr는 그대로임!"
   ]
  },
  {
   "cell_type": "code",
   "execution_count": 8,
   "id": "7eabf84e-3b30-47e7-95af-9c9e666492f0",
   "metadata": {},
   "outputs": [
    {
     "name": "stdout",
     "output_type": "stream",
     "text": [
      "[[[ 0  1  2  3]\n",
      "  [ 4  5  6  7]\n",
      "  [ 8  9 10 11]]\n",
      "\n",
      " [[12 13 14 15]\n",
      "  [16 17 18 19]\n",
      "  [20 21 22 23]]]\n",
      "[ 0  1  2  3  4  5  6  7  8  9 10 11 12 13 14 15 16 17 18 19 20 21 22 23]\n"
     ]
    }
   ],
   "source": [
    "# 1차원 -> 3차원 배열\n",
    "arr = np.arange(24)\n",
    "print(arr.reshape(2, 3, 4))  # 면 2, 행 3, 열 4\n",
    "print(arr)"
   ]
  },
  {
   "cell_type": "code",
   "execution_count": 37,
   "id": "7a7382bd-7eeb-4d76-828a-a6cc3dad105d",
   "metadata": {},
   "outputs": [
    {
     "name": "stdout",
     "output_type": "stream",
     "text": [
      "[1 2 3 4 5 6]\n",
      "[[1 2 3]\n",
      " [4 5 6]]\n",
      "[1 2 3 4 5 6]\n",
      "[[10  2  3]\n",
      " [ 4  5  6]]\n",
      "[1 2 3 4 5 6]\n"
     ]
    }
   ],
   "source": [
    "# 2차원 배열 -> 1차원 배열 (복사본 변환)\n",
    "arr = np.array([\n",
    "    [1, 2, 3],\n",
    "    [4, 5, 6]\n",
    "])\n",
    "\n",
    "print(arr.flatten())\n",
    "\n",
    "f_arr = arr.flatten()\n",
    "print(arr)\n",
    "print(f_arr)\n",
    "\n",
    "arr[0][0] = 10\n",
    "print(arr)\n",
    "print(f_arr)      # 원본은 그대로!"
   ]
  },
  {
   "cell_type": "code",
   "execution_count": 38,
   "id": "0c29bf55-1247-492b-861b-37a4faabcd22",
   "metadata": {},
   "outputs": [
    {
     "name": "stdout",
     "output_type": "stream",
     "text": [
      "[1 2 3 4 5 6]\n",
      "[[1 2 3]\n",
      " [4 5 6]]\n",
      "[1 2 3 4 5 6]\n",
      "[[10  2  3]\n",
      " [ 4  5  6]]\n",
      "[10  2  3  4  5  6]\n"
     ]
    }
   ],
   "source": [
    "# 2차원 배열 -> 1차원 배열 (가능하면 뷰 반환)\n",
    "arr = np.array([\n",
    "    [1, 2, 3],\n",
    "    [4, 5, 6]\n",
    "])\n",
    "\n",
    "print(arr.ravel())\n",
    "\n",
    "r_arr = arr.ravel()\n",
    "print(arr)\n",
    "print(r_arr)\n",
    "\n",
    "arr[0][0] = 10\n",
    "print(arr)\n",
    "print(r_arr)    # 얕은 복사가 된 것, 원본 수정됨."
   ]
  },
  {
   "cell_type": "code",
   "execution_count": 15,
   "id": "34783eda-2961-47dc-929a-23e1f89173af",
   "metadata": {},
   "outputs": [
    {
     "name": "stdout",
     "output_type": "stream",
     "text": [
      "[[1 4]\n",
      " [2 5]\n",
      " [3 6]]\n"
     ]
    }
   ],
   "source": [
    "# 2차원 배열에서 transpose()\n",
    "arr = np.array([\n",
    "    [1, 2, 3],\n",
    "    [4, 5, 6]\n",
    "])\n",
    "\n",
    "print(arr.transpose())"
   ]
  },
  {
   "cell_type": "code",
   "execution_count": 29,
   "id": "096a05dc-c8d6-48e7-ade3-131aabd4fba4",
   "metadata": {},
   "outputs": [
    {
     "name": "stdout",
     "output_type": "stream",
     "text": [
      "[[[ 0  1  2  3]\n",
      "  [ 4  5  6  7]\n",
      "  [ 8  9 10 11]]\n",
      "\n",
      " [[12 13 14 15]\n",
      "  [16 17 18 19]\n",
      "  [20 21 22 23]]]\n",
      "[[[ 0  1  2  3]\n",
      "  [12 13 14 15]]\n",
      "\n",
      " [[ 4  5  6  7]\n",
      "  [16 17 18 19]]\n",
      "\n",
      " [[ 8  9 10 11]\n",
      "  [20 21 22 23]]]\n",
      "(3, 2, 4)\n"
     ]
    }
   ],
   "source": [
    "# 3차원 배열에서 transpose()\n",
    "arr = np.arange(24).reshape(2, 3, 4)\n",
    "\n",
    "# 축 순서 바꾸기 : (0, 1, 2) -> (1, 0, 2)\n",
    "# shape : (3, 2, 4)\n",
    "\n",
    "print(arr)\n",
    "print(arr.transpose(1, 0, 2))          # 3면 2행 4열로 변환 shape\n",
    "print(arr.transpose(1, 0, 2).shape)    # (3, 2, 4)"
   ]
  },
  {
   "cell_type": "code",
   "execution_count": 28,
   "id": "9959300c-a138-42c6-b3b5-c03f8452cb37",
   "metadata": {},
   "outputs": [
    {
     "name": "stdout",
     "output_type": "stream",
     "text": [
      "[[[1 5]\n",
      "  [3 7]]\n",
      "\n",
      " [[2 6]\n",
      "  [4 8]]]\n",
      "(2, 2, 2)\n"
     ]
    }
   ],
   "source": [
    "# 3차원 배열에서 axis 0과 axis 2 교환\n",
    "arr = np.array([\n",
    "    [[1, 2], [3, 4]],\n",
    "    [[5, 6], [7, 8]]\n",
    "])\n",
    "\n",
    "print(np.swapaxes(arr, 0,2))\n",
    "print(np.swapaxes(arr, 0, 2).shape)"
   ]
  },
  {
   "cell_type": "markdown",
   "id": "c93331a7-0788-4c64-8573-7d4123f2955f",
   "metadata": {},
   "source": [
    "#### 4.1.2.6. 배열 복사"
   ]
  },
  {
   "cell_type": "code",
   "execution_count": 33,
   "id": "ea852a6b-a98b-4d03-a865-7aa96b6edc04",
   "metadata": {},
   "outputs": [
    {
     "name": "stdout",
     "output_type": "stream",
     "text": [
      "[0 1 2 3 4 5]\n",
      "[0 1 2 3 4 5]\n",
      "[10  1  2  3  4  5]\n",
      "[10  1  2  3  4  5]\n"
     ]
    }
   ],
   "source": [
    "# 얕은 복사\n",
    "arr = np.arange(6)\n",
    "print(arr)\n",
    "\n",
    "copy_arr = arr.view()\n",
    "print(copy_arr)\n",
    "\n",
    "copy_arr[0] = 10\n",
    "print(arr)\n",
    "print(copy_arr)  # 원본도 같이 바뀜"
   ]
  },
  {
   "cell_type": "code",
   "execution_count": 39,
   "id": "aefb6660-af29-4316-a7a1-d7bf038dccf0",
   "metadata": {},
   "outputs": [
    {
     "name": "stdout",
     "output_type": "stream",
     "text": [
      "[0 1 2 3 4 5]\n",
      "[0 1 2 3 4 5]\n",
      "[0 1 2 3 4 5]\n",
      "[10  1  2  3  4  5]\n"
     ]
    }
   ],
   "source": [
    "# 깊은 복사\n",
    "arr = np.arange(6)\n",
    "print(arr)\n",
    "\n",
    "copy_arr = arr.copy()\n",
    "print(copy_arr)\n",
    "\n",
    "copy_arr[0] = 10\n",
    "print(arr)\n",
    "print(copy_arr)"
   ]
  },
  {
   "cell_type": "markdown",
   "id": "fce54445-0283-4bc9-9e7d-c7fbfea2de61",
   "metadata": {},
   "source": [
    "### 4.1.3. 넘파이 배열 인덱싱과 슬라이싱"
   ]
  },
  {
   "cell_type": "code",
   "execution_count": 43,
   "id": "442c1d0a-3f0a-4c2e-a00b-828f06e8f52b",
   "metadata": {},
   "outputs": [
    {
     "name": "stdout",
     "output_type": "stream",
     "text": [
      "1\n",
      "5\n",
      "[2 3 4]\n",
      "[1 3 5]\n"
     ]
    }
   ],
   "source": [
    "# 1차원 인덱싱과 슬라이싱\n",
    "\n",
    "arr = np.array([1,2,3,4,5])\n",
    "print(arr[0])\n",
    "print(arr[-1])\n",
    "print(arr[1:4])\n",
    "print(arr[::2])"
   ]
  },
  {
   "cell_type": "code",
   "execution_count": 46,
   "id": "13052fde-81ad-40d6-9db3-636b14d497ef",
   "metadata": {},
   "outputs": [
    {
     "name": "stdout",
     "output_type": "stream",
     "text": [
      "[1 2 3 4 5]\n",
      "10\n",
      "[10  2  3  4  5]\n"
     ]
    }
   ],
   "source": [
    "# 인덱싱은 기본적으로 얕은 복사임\n",
    "arr = np.array([1,2,3,4,5])\n",
    "value = arr[0]\n",
    "value = 10\n",
    "print(arr)\n",
    "print(value)\n",
    "\n",
    "arr[0] = 10\n",
    "print(arr)    # 인덱싱이 얕은복사를 하고 있었기에 인덱스 추가가 가능함"
   ]
  },
  {
   "cell_type": "code",
   "execution_count": 45,
   "id": "630d1192-970f-4a98-870c-1d3f47696911",
   "metadata": {},
   "outputs": [
    {
     "name": "stdout",
     "output_type": "stream",
     "text": [
      "[1 2 3 4 5]\n",
      "[2 3 4]\n",
      "[  1 100   3   4   5]\n",
      "[100   3   4]\n"
     ]
    }
   ],
   "source": [
    "# 슬라이싱은 기본적으로 뷰(View)임\n",
    "arr = np.array([1,2,3,4,5])\n",
    "print(arr)\n",
    "\n",
    "sub_arr = arr[1:4]\n",
    "print(sub_arr)\n",
    "\n",
    "sub_arr[0] = 100\n",
    "print(arr)\n",
    "print(sub_arr)"
   ]
  },
  {
   "cell_type": "code",
   "execution_count": 47,
   "id": "08ab8af7-4d38-4f01-b8a6-56102b3caeda",
   "metadata": {},
   "outputs": [
    {
     "name": "stdout",
     "output_type": "stream",
     "text": [
      "[1 2 3 4 5]\n",
      "[2 3 4]\n",
      "[1 2 3 4 5]\n",
      "[100   3   4]\n"
     ]
    }
   ],
   "source": [
    "# copy() 함수를 이용해서 깊은 복사를 해야 원본이 변하지 않음\n",
    "arr = np.array([1,2,3,4,5])\n",
    "print(arr)\n",
    "\n",
    "sub_arr = arr[1:4].copy()\n",
    "print(sub_arr)\n",
    "\n",
    "sub_arr[0] = 100\n",
    "print(arr)\n",
    "print(sub_arr)"
   ]
  },
  {
   "cell_type": "code",
   "execution_count": 57,
   "id": "b4c580f7-7da9-4af3-9be6-5ae3b216a659",
   "metadata": {},
   "outputs": [
    {
     "name": "stdout",
     "output_type": "stream",
     "text": [
      "1\n",
      "1\n",
      "[1 2 3]\n",
      "[1 2 3]\n",
      "[1 4 7]\n",
      "[[4 5]\n",
      " [7 8]]\n"
     ]
    }
   ],
   "source": [
    "# 2차원 인덱싱과 슬라이싱\n",
    "arr = np.array([[1, 2, 3],\n",
    "               [4, 5, 6],\n",
    "               [7, 8, 9]])\n",
    "print(arr[0][0])\n",
    "print(arr[0, 0])\n",
    "print(arr[0])    # 첫번째 행 가져오라는 의미, 열에 대해서는 지정 안했기에\n",
    "print(arr[0, :])\n",
    "print(arr[:, 0]) # 모든 행의 두 번째 열\n",
    "print(arr[1:, :2]) # 두번째 행부터 끝까지, 처음부터 두번째 열까지"
   ]
  },
  {
   "cell_type": "code",
   "execution_count": 52,
   "id": "6261b67c-b7d7-4e18-974a-e9588285e352",
   "metadata": {
    "tags": []
   },
   "outputs": [
    {
     "ename": "TypeError",
     "evalue": "list indices must be integers or slices, not tuple",
     "output_type": "error",
     "traceback": [
      "\u001b[1;31m---------------------------------------------------------------------------\u001b[0m",
      "\u001b[1;31mTypeError\u001b[0m                                 Traceback (most recent call last)",
      "\u001b[1;32m<ipython-input-52-7c54fbd3dea2>\u001b[0m in \u001b[0;36m<module>\u001b[1;34m\u001b[0m\n\u001b[0;32m      1\u001b[0m \u001b[0mlst\u001b[0m \u001b[1;33m=\u001b[0m \u001b[1;33m[\u001b[0m\u001b[1;33m[\u001b[0m\u001b[1;36m1\u001b[0m\u001b[1;33m,\u001b[0m\u001b[1;36m2\u001b[0m\u001b[1;33m,\u001b[0m\u001b[1;36m3\u001b[0m\u001b[1;33m]\u001b[0m\u001b[1;33m,\u001b[0m     \u001b[1;33m[\u001b[0m\u001b[1;36m4\u001b[0m\u001b[1;33m,\u001b[0m\u001b[1;36m5\u001b[0m\u001b[1;33m,\u001b[0m\u001b[1;36m6\u001b[0m\u001b[1;33m]\u001b[0m\u001b[1;33m,\u001b[0m    \u001b[1;33m[\u001b[0m\u001b[1;36m7\u001b[0m\u001b[1;33m,\u001b[0m\u001b[1;36m8\u001b[0m\u001b[1;33m,\u001b[0m\u001b[1;36m9\u001b[0m\u001b[1;33m]\u001b[0m\u001b[1;33m]\u001b[0m\u001b[1;33m\u001b[0m\u001b[1;33m\u001b[0m\u001b[0m\n\u001b[0;32m      2\u001b[0m \u001b[0mlst\u001b[0m\u001b[1;33m[\u001b[0m\u001b[1;36m0\u001b[0m\u001b[1;33m]\u001b[0m\u001b[1;33m[\u001b[0m\u001b[1;36m0\u001b[0m\u001b[1;33m]\u001b[0m\u001b[1;33m\u001b[0m\u001b[1;33m\u001b[0m\u001b[0m\n\u001b[1;32m----> 3\u001b[1;33m \u001b[0mprint\u001b[0m\u001b[1;33m(\u001b[0m\u001b[0mlst\u001b[0m\u001b[1;33m[\u001b[0m\u001b[1;36m0\u001b[0m\u001b[1;33m,\u001b[0m \u001b[1;36m0\u001b[0m\u001b[1;33m]\u001b[0m\u001b[1;33m)\u001b[0m   \u001b[1;31m# 리스트는 이거 안됨!\u001b[0m\u001b[1;33m\u001b[0m\u001b[1;33m\u001b[0m\u001b[0m\n\u001b[0m",
      "\u001b[1;31mTypeError\u001b[0m: list indices must be integers or slices, not tuple"
     ]
    }
   ],
   "source": [
    "lst = [[1,2,3],     [4,5,6],    [7,8,9]]\n",
    "lst[0][0]\n",
    "print(lst[0, 0])   # 리스트는 이거 안됨!"
   ]
  },
  {
   "cell_type": "code",
   "execution_count": 68,
   "id": "98c21af5-2be4-4ecb-b7b9-d17e80e49803",
   "metadata": {},
   "outputs": [
    {
     "name": "stdout",
     "output_type": "stream",
     "text": [
      "[[[ 0  1  2  3]\n",
      "  [ 4  5  6  7]\n",
      "  [ 8  9 10 11]]\n",
      "\n",
      " [[12 13 14 15]\n",
      "  [16 17 18 19]\n",
      "  [20 21 22 23]]]\n",
      "0\n",
      "0\n",
      "[[12 13 14 15]\n",
      " [16 17 18 19]\n",
      " [20 21 22 23]]\n",
      "[20 21 22 23]\n",
      "[20 21 22 23]\n",
      "\n",
      "\n",
      "[[ 4  5  6  7]\n",
      " [16 17 18 19]]\n"
     ]
    }
   ],
   "source": [
    "# 3차원 인덱싱과 슬라이싱\n",
    "arr = np.arange(24).reshape(2,3,4)\n",
    "\n",
    "print(arr)\n",
    "print(arr[0][0][0])\n",
    "print(arr[0, 0, 0]) # 이렇게도 된다! 리스트는 안됨.\n",
    "\n",
    "print(arr[1])       # 두 번째 면의 모든 값\n",
    "print(arr[1][2])   # 두 번째 면의 세번째 행의 모든 값\n",
    "print(arr[1,2])\n",
    "print(\"\\n\")\n",
    "print(arr[:, 1, :])"
   ]
  },
  {
   "cell_type": "code",
   "execution_count": 72,
   "id": "c6ddbb55-a93c-450f-9104-c0c65604f104",
   "metadata": {},
   "outputs": [
    {
     "ename": "TypeError",
     "evalue": "list indices must be integers or slices, not list",
     "output_type": "error",
     "traceback": [
      "\u001b[1;31m---------------------------------------------------------------------------\u001b[0m",
      "\u001b[1;31mTypeError\u001b[0m                                 Traceback (most recent call last)",
      "\u001b[1;32m<ipython-input-72-78d4925d9a54>\u001b[0m in \u001b[0;36m<module>\u001b[1;34m\u001b[0m\n\u001b[0;32m      1\u001b[0m \u001b[0mlst\u001b[0m \u001b[1;33m=\u001b[0m \u001b[1;33m[\u001b[0m\u001b[1;36m1\u001b[0m\u001b[1;33m,\u001b[0m \u001b[1;36m2\u001b[0m\u001b[1;33m,\u001b[0m \u001b[1;36m3\u001b[0m\u001b[1;33m,\u001b[0m \u001b[1;36m4\u001b[0m\u001b[1;33m,\u001b[0m \u001b[1;36m5\u001b[0m\u001b[1;33m]\u001b[0m\u001b[1;33m\u001b[0m\u001b[1;33m\u001b[0m\u001b[0m\n\u001b[0;32m      2\u001b[0m \u001b[1;31m# print(lst[0], lst[3], lst[4])\u001b[0m\u001b[1;33m\u001b[0m\u001b[1;33m\u001b[0m\u001b[1;33m\u001b[0m\u001b[0m\n\u001b[1;32m----> 3\u001b[1;33m \u001b[0mlst\u001b[0m\u001b[1;33m[\u001b[0m\u001b[1;33m[\u001b[0m\u001b[1;36m0\u001b[0m\u001b[1;33m,\u001b[0m\u001b[1;36m3\u001b[0m\u001b[1;33m,\u001b[0m\u001b[1;36m4\u001b[0m\u001b[1;33m]\u001b[0m\u001b[1;33m]\u001b[0m\u001b[1;33m\u001b[0m\u001b[1;33m\u001b[0m\u001b[0m\n\u001b[0m",
      "\u001b[1;31mTypeError\u001b[0m: list indices must be integers or slices, not list"
     ]
    }
   ],
   "source": [
    "lst = [1, 2, 3, 4, 5]\n",
    "# print(lst[0], lst[3], lst[4])\n",
    "lst[[0,3,4]]"
   ]
  },
  {
   "cell_type": "code",
   "execution_count": 74,
   "id": "1ad9c88e-0bde-495d-ba80-778640745bf1",
   "metadata": {},
   "outputs": [
    {
     "name": "stdout",
     "output_type": "stream",
     "text": [
      "[1 4 5]\n"
     ]
    }
   ],
   "source": [
    "# 팬시 인덱싱  (깊은 연산)\n",
    "arr = np.array([1,2,3,4,5])\n",
    "print(arr[[0,3,4]])"
   ]
  },
  {
   "cell_type": "code",
   "execution_count": 79,
   "id": "6207ca0e-4d1f-4714-bfdd-7be551f70ba5",
   "metadata": {},
   "outputs": [
    {
     "name": "stdout",
     "output_type": "stream",
     "text": [
      "[False False False  True  True]\n",
      "[4 5]\n"
     ]
    }
   ],
   "source": [
    "# 불리언 인덱싱  (깊은 연산)\n",
    "arr = np.array([1,2,3,4,5])\n",
    "print(arr > 3)             # bool형 배열\n",
    "print(arr[arr > 3])"
   ]
  },
  {
   "cell_type": "code",
   "execution_count": 83,
   "id": "96737aa4-1eaf-419c-af7d-4d40384f47d6",
   "metadata": {},
   "outputs": [
    {
     "name": "stdout",
     "output_type": "stream",
     "text": [
      "[1, 2, 3, 10, 20, 30]\n"
     ]
    },
    {
     "data": {
      "text/plain": [
       "[11, 22, 33]"
      ]
     },
     "execution_count": 83,
     "metadata": {},
     "output_type": "execute_result"
    }
   ],
   "source": [
    "lst1 = [1,2,3]\n",
    "lst2 = [10,20,30]\n",
    "\n",
    "print(lst1 + lst2)\n",
    "\n",
    "[lst[i]+lst2[i] for i in range(3)]   #[lst1[0] + lst2[0], ...]\n",
    "\n"
   ]
  },
  {
   "cell_type": "code",
   "execution_count": 89,
   "id": "3041966e-1a9d-4ede-800f-da53e2164c67",
   "metadata": {},
   "outputs": [
    {
     "name": "stdout",
     "output_type": "stream",
     "text": [
      "[11 22 33]\n",
      "[ -9 -18 -27]\n",
      "[10 40 90]\n",
      "[0.1 0.1 0.1]\n",
      "[1 2 3]\n"
     ]
    }
   ],
   "source": [
    "arr1 = np.array(lst1)\n",
    "arr2 = np.array(lst2)\n",
    "\n",
    "print(arr1 + arr2)\n",
    "print(arr1 - arr2)\n",
    "print(arr1 * arr2)\n",
    "print(arr1 / arr2)\n",
    "print(arr1 % arr2)"
   ]
  },
  {
   "cell_type": "code",
   "execution_count": 92,
   "id": "e3086476-649b-4f75-83e8-3887d6fc6bc2",
   "metadata": {},
   "outputs": [
    {
     "name": "stdout",
     "output_type": "stream",
     "text": [
      "[5]\n"
     ]
    }
   ],
   "source": [
    "a = np.array(5).reshape(1,)    # 0차원을 1치원으로!\n",
    "a.shape\n",
    "print(a)  "
   ]
  },
  {
   "cell_type": "code",
   "execution_count": 98,
   "id": "17d7f3fc-370e-40c1-9f1b-2ca3180fbce0",
   "metadata": {},
   "outputs": [
    {
     "name": "stdout",
     "output_type": "stream",
     "text": [
      "1 (3,)\n"
     ]
    }
   ],
   "source": [
    "a = np.arange(3)\n",
    "print(a.ndim, a.shape)"
   ]
  },
  {
   "cell_type": "code",
   "execution_count": 99,
   "id": "cb9359f4-69ea-4ba7-b1d7-38a4e32603d7",
   "metadata": {},
   "outputs": [
    {
     "name": "stdout",
     "output_type": "stream",
     "text": [
      "2 (1, 3)\n",
      "[[0 1 2]]\n"
     ]
    }
   ],
   "source": [
    "a2 = np.arange(3).reshape(1,3)\n",
    "print(a2.ndim, a2.shape)\n",
    "print(a2)"
   ]
  },
  {
   "cell_type": "code",
   "execution_count": 100,
   "id": "14394ce2-d45a-48fa-95fd-b6a7373ff58b",
   "metadata": {},
   "outputs": [
    {
     "data": {
      "text/plain": [
       "array([6, 7, 8])"
      ]
     },
     "execution_count": 100,
     "metadata": {},
     "output_type": "execute_result"
    }
   ],
   "source": [
    "# 브로드캐스팅1 : 1차원 + 스칼라\n",
    "arr = np.array([1,2,3])\n",
    "arr + 5  "
   ]
  },
  {
   "cell_type": "code",
   "execution_count": 104,
   "id": "b173904e-748b-4d73-acf4-b28f157b3e0d",
   "metadata": {},
   "outputs": [
    {
     "data": {
      "text/plain": [
       "array([[11, 21, 31, 41],\n",
       "       [12, 22, 32, 42],\n",
       "       [13, 23, 33, 43]])"
      ]
     },
     "execution_count": 104,
     "metadata": {},
     "output_type": "execute_result"
    }
   ],
   "source": [
    "# 브로드캐스팅2 : 차원 수가 다른 경우\n",
    "arr1 = np.array([[1], [2], [3]])  # shape : (3, 1)\n",
    "arr2 = np.array([10,20,30,40])    # shape : (4, ) -> (1, 4)로 간주\n",
    "\n",
    "arr1 + arr2"
   ]
  },
  {
   "cell_type": "code",
   "execution_count": 107,
   "id": "2166de88-5139-4e62-81dc-00aac93c4e2c",
   "metadata": {},
   "outputs": [
    {
     "ename": "ValueError",
     "evalue": "operands could not be broadcast together with shapes (2,3) (4,) ",
     "output_type": "error",
     "traceback": [
      "\u001b[1;31m---------------------------------------------------------------------------\u001b[0m",
      "\u001b[1;31mValueError\u001b[0m                                Traceback (most recent call last)",
      "\u001b[1;32m<ipython-input-107-dec2681c6fee>\u001b[0m in \u001b[0;36m<module>\u001b[1;34m\u001b[0m\n\u001b[0;32m      6\u001b[0m \u001b[1;33m\u001b[0m\u001b[0m\n\u001b[0;32m      7\u001b[0m \u001b[0marr2\u001b[0m \u001b[1;33m=\u001b[0m \u001b[0mnp\u001b[0m\u001b[1;33m.\u001b[0m\u001b[0marray\u001b[0m\u001b[1;33m(\u001b[0m\u001b[1;33m[\u001b[0m\u001b[1;36m10\u001b[0m\u001b[1;33m,\u001b[0m\u001b[1;36m20\u001b[0m\u001b[1;33m,\u001b[0m\u001b[1;36m30\u001b[0m\u001b[1;33m,\u001b[0m\u001b[1;36m40\u001b[0m\u001b[1;33m]\u001b[0m\u001b[1;33m)\u001b[0m   \u001b[1;31m# shape : (4,) -> (1, 4)로 간주\u001b[0m\u001b[1;33m\u001b[0m\u001b[1;33m\u001b[0m\u001b[0m\n\u001b[1;32m----> 8\u001b[1;33m \u001b[0marr1\u001b[0m \u001b[1;33m+\u001b[0m \u001b[0marr2\u001b[0m\u001b[1;33m\u001b[0m\u001b[1;33m\u001b[0m\u001b[0m\n\u001b[0m",
      "\u001b[1;31mValueError\u001b[0m: operands could not be broadcast together with shapes (2,3) (4,) "
     ]
    }
   ],
   "source": [
    "# 브로드캐스팅3: 두 배열의 열의 크기가 다르므로 브로드캐스팅 불가능\n",
    "arr1 = np.array([\n",
    "    [1,2,3],\n",
    "    [4,5,6]\n",
    "])                 # shape : (2, 3)\n",
    "\n",
    "arr2 = np.array([10,20,30,40])   # shape : (4,) -> (1, 4)로 간주\n",
    "arr1 + arr2"
   ]
  },
  {
   "cell_type": "code",
   "execution_count": 109,
   "id": "53051219-1bc5-40a0-a920-4520d067f808",
   "metadata": {
    "collapsed": true,
    "jupyter": {
     "outputs_hidden": true
    },
    "tags": []
   },
   "outputs": [
    {
     "ename": "AttributeError",
     "evalue": "module 'numpy' has no attribute 'arrange'",
     "output_type": "error",
     "traceback": [
      "\u001b[1;31m---------------------------------------------------------------------------\u001b[0m",
      "\u001b[1;31mAttributeError\u001b[0m                            Traceback (most recent call last)",
      "\u001b[1;32m<ipython-input-109-22783bae6b68>\u001b[0m in \u001b[0;36m<module>\u001b[1;34m\u001b[0m\n\u001b[0;32m      1\u001b[0m \u001b[1;31m# 브로드캐스팅: 3차원 + 1차원\u001b[0m\u001b[1;33m\u001b[0m\u001b[1;33m\u001b[0m\u001b[1;33m\u001b[0m\u001b[0m\n\u001b[1;32m----> 2\u001b[1;33m \u001b[0marr1\u001b[0m \u001b[1;33m=\u001b[0m \u001b[0mnp\u001b[0m\u001b[1;33m.\u001b[0m\u001b[0marrange\u001b[0m\u001b[1;33m(\u001b[0m\u001b[1;36m24\u001b[0m\u001b[1;33m)\u001b[0m\u001b[1;33m.\u001b[0m\u001b[0mreshape\u001b[0m\u001b[1;33m(\u001b[0m\u001b[1;36m2\u001b[0m\u001b[1;33m,\u001b[0m \u001b[1;36m3\u001b[0m\u001b[1;33m,\u001b[0m \u001b[1;36m4\u001b[0m\u001b[1;33m)\u001b[0m    \u001b[1;31m#          (2, 3, 4)\u001b[0m\u001b[1;33m\u001b[0m\u001b[1;33m\u001b[0m\u001b[0m\n\u001b[0m\u001b[0;32m      3\u001b[0m \u001b[0marr2\u001b[0m \u001b[1;33m=\u001b[0m \u001b[0mnp\u001b[0m\u001b[1;33m.\u001b[0m\u001b[0marray\u001b[0m\u001b[1;33m(\u001b[0m\u001b[1;33m[\u001b[0m\u001b[1;36m10\u001b[0m\u001b[1;33m,\u001b[0m \u001b[1;36m20\u001b[0m\u001b[1;33m,\u001b[0m \u001b[1;36m30\u001b[0m\u001b[1;33m,\u001b[0m \u001b[1;36m40\u001b[0m\u001b[1;33m]\u001b[0m\u001b[1;33m)\u001b[0m         \u001b[1;31m# (4,)  -> (1, 1, 4)로 간주\u001b[0m\u001b[1;33m\u001b[0m\u001b[1;33m\u001b[0m\u001b[0m\n\u001b[0;32m      4\u001b[0m \u001b[0marr1\u001b[0m \u001b[1;33m+\u001b[0m \u001b[0marr2\u001b[0m\u001b[1;33m\u001b[0m\u001b[1;33m\u001b[0m\u001b[0m\n",
      "\u001b[1;32m~\\anaconda3\\lib\\site-packages\\numpy\\__init__.py\u001b[0m in \u001b[0;36m__getattr__\u001b[1;34m(attr)\u001b[0m\n\u001b[0;32m    301\u001b[0m                 \u001b[1;32mreturn\u001b[0m \u001b[0mTester\u001b[0m\u001b[1;33m\u001b[0m\u001b[1;33m\u001b[0m\u001b[0m\n\u001b[0;32m    302\u001b[0m \u001b[1;33m\u001b[0m\u001b[0m\n\u001b[1;32m--> 303\u001b[1;33m             raise AttributeError(\"module {!r} has no attribute \"\n\u001b[0m\u001b[0;32m    304\u001b[0m                                  \"{!r}\".format(__name__, attr))\n\u001b[0;32m    305\u001b[0m \u001b[1;33m\u001b[0m\u001b[0m\n",
      "\u001b[1;31mAttributeError\u001b[0m: module 'numpy' has no attribute 'arrange'"
     ]
    }
   ],
   "source": [
    "# 브로드캐스팅: 3차원 + 1차원\n",
    "arr1 = np.arrange(24).reshape(2, 3, 4)    #          (2, 3, 4)\n",
    "arr2 = np.array([10, 20, 30, 40])         # (4,)  -> (1, 1, 4)로 간주\n",
    "arr1 + arr2"
   ]
  },
  {
   "cell_type": "code",
   "execution_count": null,
   "id": "8dcd989c-73cb-40d5-88b4-5773d9a0bbee",
   "metadata": {},
   "outputs": [],
   "source": [
    "# 브로드캐스팅 : 3차원 + 1차원\n",
    "arr1 = np.arange(24).reshape(2, 3, 4)      # shape : (2, 3, 4)\n",
    "arr2 = np.array([10, 20, 30, 40])          # shape : (4,) → (1, 1, 4)로 간주\n",
    "\n",
    "print(arr1.shape, arr2.shape)\n",
    "print((arr1 + arr2).shape)                 # shaep : (2, 3, 4)\n",
    "print(arr1 + arr2)"
   ]
  },
  {
   "cell_type": "code",
   "execution_count": null,
   "id": "cad6cf3f-09f0-4607-b940-55f0765db32b",
   "metadata": {},
   "outputs": [],
   "source": []
  },
  {
   "cell_type": "code",
   "execution_count": null,
   "id": "fe6a974f-7c22-4b3d-bb20-a1e6c996de97",
   "metadata": {},
   "outputs": [],
   "source": []
  },
  {
   "cell_type": "code",
   "execution_count": null,
   "id": "562a25a3-ba08-4adc-832f-8415aacc98f0",
   "metadata": {},
   "outputs": [],
   "source": []
  },
  {
   "cell_type": "code",
   "execution_count": null,
   "id": "3c63ad1e-c2e8-46ac-84a1-fb329db4193d",
   "metadata": {},
   "outputs": [],
   "source": []
  }
 ],
 "metadata": {
  "kernelspec": {
   "display_name": "Python 3",
   "language": "python",
   "name": "python3"
  },
  "language_info": {
   "codemirror_mode": {
    "name": "ipython",
    "version": 3
   },
   "file_extension": ".py",
   "mimetype": "text/x-python",
   "name": "python",
   "nbconvert_exporter": "python",
   "pygments_lexer": "ipython3",
   "version": "3.8.8"
  }
 },
 "nbformat": 4,
 "nbformat_minor": 5
}
