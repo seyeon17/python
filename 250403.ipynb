{
 "cells": [
  {
   "cell_type": "markdown",
   "id": "9bc3030c-bd47-4266-9d9f-095d4bee2cb5",
   "metadata": {},
   "source": [
    "## 3.2. 리스트\n",
    "### 3.2.6. 리스트 메소드\n",
    "#### 3.2.6.1. 리스트 삭제"
   ]
  },
  {
   "cell_type": "code",
   "execution_count": 3,
   "id": "16060247-85a2-4cba-af7c-0575d65c3963",
   "metadata": {},
   "outputs": [
    {
     "name": "stdout",
     "output_type": "stream",
     "text": [
      "[11, 12, 13, 15]\n",
      "14\n"
     ]
    }
   ],
   "source": [
    "# 특정 인덱스 값 삭제1\n",
    "\n",
    "lst = [11, 12, 13, 14, 15]\n",
    "result = lst.pop(3)                        # 실행 결과로 삭제한 값을 반환\n",
    "print(lst)                                 # lst 원본 값이 변함\n",
    "print(result)"
   ]
  },
  {
   "cell_type": "code",
   "execution_count": 9,
   "id": "7a44daf8-4535-4f33-aaf4-8ca86e8c2e37",
   "metadata": {},
   "outputs": [
    {
     "ename": "IndexError",
     "evalue": "pop from empty list",
     "output_type": "error",
     "traceback": [
      "\u001b[1;31m---------------------------------------------------------------------------\u001b[0m",
      "\u001b[1;31mIndexError\u001b[0m                                Traceback (most recent call last)",
      "\u001b[1;32m<ipython-input-9-c8a44c25f69e>\u001b[0m in \u001b[0;36m<module>\u001b[1;34m\u001b[0m\n\u001b[1;32m----> 1\u001b[1;33m \u001b[0mresult\u001b[0m \u001b[1;33m=\u001b[0m \u001b[0mlst\u001b[0m\u001b[1;33m.\u001b[0m\u001b[0mpop\u001b[0m\u001b[1;33m(\u001b[0m\u001b[1;33m)\u001b[0m\u001b[1;33m\u001b[0m\u001b[1;33m\u001b[0m\u001b[0m\n\u001b[0m\u001b[0;32m      2\u001b[0m \u001b[0mprint\u001b[0m\u001b[1;33m(\u001b[0m\u001b[0mlst\u001b[0m\u001b[1;33m)\u001b[0m\u001b[1;33m\u001b[0m\u001b[1;33m\u001b[0m\u001b[0m\n\u001b[0;32m      3\u001b[0m \u001b[0mprint\u001b[0m\u001b[1;33m(\u001b[0m\u001b[0mresult\u001b[0m\u001b[1;33m)\u001b[0m\u001b[1;33m\u001b[0m\u001b[1;33m\u001b[0m\u001b[0m\n",
      "\u001b[1;31mIndexError\u001b[0m: pop from empty list"
     ]
    }
   ],
   "source": [
    "result = lst.pop()\n",
    "print(lst)\n",
    "print(result)"
   ]
  },
  {
   "cell_type": "code",
   "execution_count": 10,
   "id": "b16ebc42-5bc8-41fe-aa83-8202ae6ee629",
   "metadata": {},
   "outputs": [
    {
     "name": "stdout",
     "output_type": "stream",
     "text": [
      "[11, 12, 13, 15]\n"
     ]
    }
   ],
   "source": [
    "lst = [11, 12, 13, 14, 15]\n",
    "del lst[3]                                 # 실행 결과로 아무것도 반환하지 않음\n",
    "print(lst)                                 # lst 원본 값이 변함"
   ]
  },
  {
   "cell_type": "code",
   "execution_count": 11,
   "id": "3abaf268-5cbe-4d7d-80af-5b281064bebc",
   "metadata": {},
   "outputs": [
    {
     "ename": "NameError",
     "evalue": "name 'lst' is not defined",
     "output_type": "error",
     "traceback": [
      "\u001b[1;31m---------------------------------------------------------------------------\u001b[0m",
      "\u001b[1;31mNameError\u001b[0m                                 Traceback (most recent call last)",
      "\u001b[1;32m<ipython-input-11-e76bf22fb885>\u001b[0m in \u001b[0;36m<module>\u001b[1;34m\u001b[0m\n\u001b[0;32m      1\u001b[0m \u001b[1;32mdel\u001b[0m \u001b[0mlst\u001b[0m\u001b[1;33m\u001b[0m\u001b[1;33m\u001b[0m\u001b[0m\n\u001b[1;32m----> 2\u001b[1;33m \u001b[0mprint\u001b[0m\u001b[1;33m(\u001b[0m\u001b[0mlst\u001b[0m\u001b[1;33m)\u001b[0m\u001b[1;33m\u001b[0m\u001b[1;33m\u001b[0m\u001b[0m\n\u001b[0m",
      "\u001b[1;31mNameError\u001b[0m: name 'lst' is not defined"
     ]
    }
   ],
   "source": [
    "del lst\n",
    "print(lst)"
   ]
  },
  {
   "cell_type": "code",
   "execution_count": 13,
   "id": "d1f2a715-ea20-4580-abff-4242e914a593",
   "metadata": {},
   "outputs": [
    {
     "name": "stdout",
     "output_type": "stream",
     "text": [
      "[11, 13, 14, 15]\n"
     ]
    }
   ],
   "source": [
    "# 일치하는 값 삭제\n",
    "lst = [11, 12, 13, 14, 15]\n",
    "lst.remove(12)\n",
    "print(lst)"
   ]
  },
  {
   "cell_type": "code",
   "execution_count": 15,
   "id": "c51c10c6-6735-4503-97d6-e4319e4f45ec",
   "metadata": {},
   "outputs": [
    {
     "name": "stdout",
     "output_type": "stream",
     "text": [
      "[11, 12, 11, 15, 15]\n"
     ]
    }
   ],
   "source": [
    "lst = [11, 12, 13, 11, 15, 15]\n",
    "lst.remove(13)\n",
    "print(lst)"
   ]
  },
  {
   "cell_type": "code",
   "execution_count": 16,
   "id": "3b6c1cbc-5dd6-4408-ad9d-af1b75c4f0ba",
   "metadata": {},
   "outputs": [
    {
     "name": "stdout",
     "output_type": "stream",
     "text": [
      "[]\n"
     ]
    }
   ],
   "source": [
    "lst.clear()\n",
    "print(lst)"
   ]
  },
  {
   "cell_type": "markdown",
   "id": "0485daab-db3c-44d1-9a01-d9c7211a4d49",
   "metadata": {},
   "source": [
    "#### 3.2.6.3. 리스트 재배열"
   ]
  },
  {
   "cell_type": "code",
   "execution_count": 18,
   "id": "e8f39b0b-601b-4282-8232-c6e016bf2407",
   "metadata": {},
   "outputs": [
    {
     "name": "stdout",
     "output_type": "stream",
     "text": [
      "[5, 1, 32, 412, 5242, 14, 12]\n"
     ]
    }
   ],
   "source": [
    "# 리스트 역순 재배열\n",
    "lst = [12, 14, 5242, 412, 32, 1, 5]\n",
    "lst.reverse()\n",
    "print(lst)"
   ]
  },
  {
   "cell_type": "code",
   "execution_count": 19,
   "id": "861e4ce7-e791-4df0-9f98-1a54ec84ede7",
   "metadata": {},
   "outputs": [
    {
     "name": "stdout",
     "output_type": "stream",
     "text": [
      "[1, 5, 12, 14, 32, 412, 5242]\n"
     ]
    }
   ],
   "source": [
    "# 리스트 정렬1\n",
    "lst = [12, 14, 5242, 412, 32, 1, 5]\n",
    "lst.sort()                       #오름차순, 원본 값 변함\n",
    "print(lst)"
   ]
  },
  {
   "cell_type": "code",
   "execution_count": 20,
   "id": "35878a53-064f-4f2b-994e-45e572775937",
   "metadata": {},
   "outputs": [
    {
     "name": "stdout",
     "output_type": "stream",
     "text": [
      "[5242, 412, 32, 14, 12, 5, 1]\n"
     ]
    }
   ],
   "source": [
    "lst = [12, 14, 5242, 412, 32, 1, 5]\n",
    "lst.sort(reverse =  True)              #내림차순\n",
    "print(lst)"
   ]
  },
  {
   "cell_type": "markdown",
   "id": "7af596e4-9158-4bf2-90f8-88d6a0be79bd",
   "metadata": {},
   "source": [
    "#### 3.2.6.4. 리스트 검색"
   ]
  },
  {
   "cell_type": "code",
   "execution_count": 25,
   "id": "4144b3d9-8b1e-40e8-b283-a1dcaed84ee1",
   "metadata": {},
   "outputs": [
    {
     "name": "stdout",
     "output_type": "stream",
     "text": [
      "2\n",
      "0\n"
     ]
    }
   ],
   "source": [
    "# 특정 값 개수\n",
    "lst = [1, 2, 3, 4, 5, 1, 6, 7]\n",
    "print(lst.count(1))\n",
    "print(lst.count(9))"
   ]
  },
  {
   "cell_type": "code",
   "execution_count": 27,
   "id": "c310ea4d-49d0-4443-89d9-925f1234b375",
   "metadata": {},
   "outputs": [
    {
     "name": "stdout",
     "output_type": "stream",
     "text": [
      "0\n"
     ]
    },
    {
     "ename": "ValueError",
     "evalue": "9 is not in list",
     "output_type": "error",
     "traceback": [
      "\u001b[1;31m---------------------------------------------------------------------------\u001b[0m",
      "\u001b[1;31mValueError\u001b[0m                                Traceback (most recent call last)",
      "\u001b[1;32m<ipython-input-27-30d0ddc9a0c9>\u001b[0m in \u001b[0;36m<module>\u001b[1;34m\u001b[0m\n\u001b[0;32m      2\u001b[0m \u001b[0mlst\u001b[0m \u001b[1;33m=\u001b[0m \u001b[1;33m[\u001b[0m\u001b[1;36m1\u001b[0m\u001b[1;33m,\u001b[0m \u001b[1;36m2\u001b[0m\u001b[1;33m,\u001b[0m \u001b[1;36m3\u001b[0m\u001b[1;33m,\u001b[0m \u001b[1;36m4\u001b[0m\u001b[1;33m,\u001b[0m \u001b[1;36m5\u001b[0m\u001b[1;33m,\u001b[0m \u001b[1;36m1\u001b[0m\u001b[1;33m,\u001b[0m \u001b[1;36m6\u001b[0m\u001b[1;33m,\u001b[0m \u001b[1;36m7\u001b[0m\u001b[1;33m]\u001b[0m\u001b[1;33m\u001b[0m\u001b[1;33m\u001b[0m\u001b[0m\n\u001b[0;32m      3\u001b[0m \u001b[0mprint\u001b[0m\u001b[1;33m(\u001b[0m\u001b[0mlst\u001b[0m\u001b[1;33m.\u001b[0m\u001b[0mindex\u001b[0m\u001b[1;33m(\u001b[0m\u001b[1;36m1\u001b[0m\u001b[1;33m)\u001b[0m\u001b[1;33m)\u001b[0m\u001b[1;33m\u001b[0m\u001b[1;33m\u001b[0m\u001b[0m\n\u001b[1;32m----> 4\u001b[1;33m \u001b[0mprint\u001b[0m\u001b[1;33m(\u001b[0m\u001b[0mlst\u001b[0m\u001b[1;33m.\u001b[0m\u001b[0mindex\u001b[0m\u001b[1;33m(\u001b[0m\u001b[1;36m9\u001b[0m\u001b[1;33m)\u001b[0m\u001b[1;33m)\u001b[0m\u001b[1;33m\u001b[0m\u001b[1;33m\u001b[0m\u001b[0m\n\u001b[0m",
      "\u001b[1;31mValueError\u001b[0m: 9 is not in list"
     ]
    }
   ],
   "source": [
    "# 특정 값 첫 번째 인덱스\n",
    "lst = [1, 2, 3, 4, 5, 1, 6, 7]\n",
    "print(lst.index(1))\n",
    "print(lst.index(9))         #9라는 값 없어서 못 찾아!"
   ]
  },
  {
   "cell_type": "code",
   "execution_count": 28,
   "id": "7fc2b873-41b0-44b6-9a6b-9bec8d464f12",
   "metadata": {},
   "outputs": [
    {
     "name": "stdout",
     "output_type": "stream",
     "text": [
      "True\n",
      "False\n"
     ]
    }
   ],
   "source": [
    "# 특정 값 찾기\n",
    "lst = [11, 12, 13, 14, 15]\n",
    "print(13 in lst)\n",
    "print(3 in lst)"
   ]
  },
  {
   "cell_type": "markdown",
   "id": "5d6b4ccb-11f0-474d-908d-cbad077fe848",
   "metadata": {},
   "source": [
    "#### 리스트 통계"
   ]
  },
  {
   "cell_type": "code",
   "execution_count": 29,
   "id": "7d94fb60-18d5-41a0-b657-d2c5ec8d6588",
   "metadata": {},
   "outputs": [
    {
     "name": "stdout",
     "output_type": "stream",
     "text": [
      "5\n",
      "65\n",
      "15\n",
      "11\n"
     ]
    }
   ],
   "source": [
    "# 리스트 통계\n",
    "lst = [11, 12, 13, 14, 15]\n",
    "print(len(lst))\n",
    "print(sum(lst))\n",
    "print(max(lst))\n",
    "print(min(lst))"
   ]
  },
  {
   "cell_type": "markdown",
   "id": "74a58c89-5129-4d64-b536-23aafb0df2cb",
   "metadata": {},
   "source": [
    "### 3.2.7. 리스트 컴프리헨션    (시험에 나온다)"
   ]
  },
  {
   "cell_type": "code",
   "execution_count": 31,
   "id": "69d3aab4-d832-4fb3-9c1a-6b5cc96376c4",
   "metadata": {},
   "outputs": [
    {
     "name": "stdout",
     "output_type": "stream",
     "text": [
      "[0, 1, 2, 3, 4, 5, 6, 7, 8, 9]\n"
     ]
    }
   ],
   "source": [
    "# 0~9 정수 저장\n",
    "# 일반적인 반복문 + 리스트\n",
    "result1 = []                      # 이것도 되긴 함!! list(range(10))\n",
    "for i in range(10):\n",
    "    result1.append(i)\n",
    "    \n",
    "print(result1)"
   ]
  },
  {
   "cell_type": "code",
   "execution_count": 35,
   "id": "4bd516c6-b364-4f35-a572-6261052e53f1",
   "metadata": {},
   "outputs": [
    {
     "name": "stdout",
     "output_type": "stream",
     "text": [
      "[0, 2, 4, 6, 8, 10, 12, 14, 16, 18]\n"
     ]
    }
   ],
   "source": [
    "# 리스트 컴프리헨션\n",
    "result2 = [i for i in range(10)]\n",
    "print(result2)"
   ]
  },
  {
   "cell_type": "code",
   "execution_count": 36,
   "id": "ddf8ed46-b795-40c9-9024-1cb6f6bfe5a0",
   "metadata": {},
   "outputs": [
    {
     "data": {
      "text/plain": [
       "[0, 2, 4, 6, 8, 10, 12, 14, 16, 18]"
      ]
     },
     "execution_count": 36,
     "metadata": {},
     "output_type": "execute_result"
    }
   ],
   "source": [
    "[i*2 for i in range(10)]"
   ]
  },
  {
   "cell_type": "code",
   "execution_count": 40,
   "id": "817fd881-bb09-4abe-a623-4c4ca0f7ba33",
   "metadata": {},
   "outputs": [
    {
     "name": "stdout",
     "output_type": "stream",
     "text": [
      "[0, 2, 4, 6, 8]\n"
     ]
    }
   ],
   "source": [
    "# 짝수만 저장 (필터링, if 문과 함께 사용)\n",
    "# 일반적인 반복문 + 리스트\n",
    "result1 = []\n",
    "for i in range(10):\n",
    "    if i % 2 == 0:\n",
    "        result1.append(i)\n",
    "    \n",
    "print(result1)"
   ]
  },
  {
   "cell_type": "code",
   "execution_count": 41,
   "id": "59b5e426-28a1-42d3-88e7-cab968a67a7c",
   "metadata": {},
   "outputs": [
    {
     "name": "stdout",
     "output_type": "stream",
     "text": [
      "[0, 2, 4, 6, 8]\n"
     ]
    }
   ],
   "source": [
    "# 리스트 컴프리헨션\n",
    "result2 = [i for i in range(10) if i % 2 == 0]\n",
    "print(result2)"
   ]
  },
  {
   "cell_type": "code",
   "execution_count": 42,
   "id": "d722a6e4-8e55-4706-bdf7-ac3fb76ad423",
   "metadata": {},
   "outputs": [
    {
     "name": "stdout",
     "output_type": "stream",
     "text": [
      "[0, 2, 4, 6, 8, 'HW', 'Ho', 'Hr', 'Hl', 'Hd', 'eW', 'eo', 'er', 'el', 'ed', 'lW', 'lo', 'lr', 'll', 'ld', 'lW', 'lo', 'lr', 'll', 'ld', 'oW', 'oo', 'or', 'ol', 'od']\n"
     ]
    }
   ],
   "source": [
    "# 두 개의 문자열을 조합하여 새로운 리스트 생성 (중첩 반복문)\n",
    "word1 = \"Hello\"\n",
    "word2 = \"World\"\n",
    "\n",
    "for i in word1:\n",
    "    for j in word2:\n",
    "        result1.append(i+j)\n",
    "        \n",
    "print(result1)"
   ]
  },
  {
   "cell_type": "code",
   "execution_count": 43,
   "id": "1f1e7245-2577-4557-a45b-854ede47c5ca",
   "metadata": {},
   "outputs": [
    {
     "name": "stdout",
     "output_type": "stream",
     "text": [
      "['HW', 'Ho', 'Hr', 'Hl', 'Hd', 'eW', 'eo', 'er', 'el', 'ed', 'lW', 'lo', 'lr', 'll', 'ld', 'lW', 'lo', 'lr', 'll', 'ld', 'oW', 'oo', 'or', 'ol', 'od']\n"
     ]
    }
   ],
   "source": [
    "# 리스트 컴프리헨션\n",
    "result2 = [i+j for i in word1 for j in word2]\n",
    "print(result2)"
   ]
  },
  {
   "cell_type": "code",
   "execution_count": 44,
   "id": "e99be1d2-4840-46ec-b77b-a05438a6c09e",
   "metadata": {},
   "outputs": [
    {
     "data": {
      "text/plain": [
       "['AD', 'AE', 'BD', 'BE', 'BA', 'CD', 'CE', 'CA']"
      ]
     },
     "execution_count": 44,
     "metadata": {},
     "output_type": "execute_result"
    }
   ],
   "source": [
    "# 리스트 컴프리헨션(필터링, 중첩 반복문)\n",
    "\n",
    "case1 = list(\"ABC\")\n",
    "case2 = list(\"DEA\")\n",
    "\n",
    "[i+j for i in case1 for j in case2 if not(i==j)]     # AA는 빼고싶어\n",
    "#[식 for 변수 in 반복범위 for 변수 in 반복범위 if 조건식]"
   ]
  },
  {
   "cell_type": "code",
   "execution_count": 46,
   "id": "0e7dcc06-8a9e-4243-8e13-96af2d9b7d2a",
   "metadata": {},
   "outputs": [
    {
     "name": "stdout",
     "output_type": "stream",
     "text": [
      "['The', 'quick', 'brown', 'fox', 'jumps', 'over', 'the', 'lazy', 'dog']\n"
     ]
    },
    {
     "data": {
      "text/plain": [
       "[['THE', 'the', 3],\n",
       " ['QUICK', 'quick', 5],\n",
       " ['BROWN', 'brown', 5],\n",
       " ['FOX', 'fox', 3],\n",
       " ['JUMPS', 'jumps', 5],\n",
       " ['OVER', 'over', 4],\n",
       " ['THE', 'the', 3],\n",
       " ['LAZY', 'lazy', 4],\n",
       " ['DOG', 'dog', 3]]"
      ]
     },
     "execution_count": 46,
     "metadata": {},
     "output_type": "execute_result"
    }
   ],
   "source": [
    "# 리스트의 각 원소를 대무자, 소문자, 길이로 변환하여 이차원 리스트를 생성\n",
    "# 일반적인 반복문 + 리스트\n",
    "words = \"The quick brown fox jumps over the lazy dog\".split()\n",
    "print(words)\n",
    "\n",
    "word_info1 = []\n",
    "for w in words:\n",
    "    word_info1.append([w.upper(), w.lower(), len(w)])\n",
    "    \n",
    "word_info1"
   ]
  },
  {
   "cell_type": "code",
   "execution_count": 48,
   "id": "92cb0e3d-fcce-4de8-adbe-98c60958853d",
   "metadata": {},
   "outputs": [
    {
     "data": {
      "text/plain": [
       "[['THE', 'the', 3],\n",
       " ['QUICK', 'quick', 5],\n",
       " ['BROWN', 'brown', 5],\n",
       " ['FOX', 'fox', 3],\n",
       " ['JUMPS', 'jumps', 5],\n",
       " ['OVER', 'over', 4],\n",
       " ['THE', 'the', 3],\n",
       " ['LAZY', 'lazy', 4],\n",
       " ['DOG', 'dog', 3]]"
      ]
     },
     "execution_count": 48,
     "metadata": {},
     "output_type": "execute_result"
    }
   ],
   "source": [
    "word_info2 = [[w.upper(), w.lower(), len(w)] for w in words]\n",
    "word_info2"
   ]
  },
  {
   "cell_type": "code",
   "execution_count": 51,
   "id": "be7039fa-6293-4a56-89f4-ee30737f5117",
   "metadata": {},
   "outputs": [
    {
     "name": "stdout",
     "output_type": "stream",
     "text": [
      "['A1', 'A2', 'A3', 'B1', 'B2', 'B3', 'C1', 'C2', 'C3']\n",
      "[['A1', 'B1', 'C1'], ['A2', 'B2', 'C2'], ['A3', 'B3', 'C3']]\n"
     ]
    }
   ],
   "source": [
    "# [주의] 중첩 반복문에서 대괄호의 위치에 따라 리스트의 구조가 달라짐\n",
    "case1 = [\"A\", \"B\", \"C\"]  #list(\"ABC\")\n",
    "case2 = [\"1\", \"2\", \"3\"]  #list(\"123\")\n",
    "\n",
    "# 일차원 리스트, 앞의 for 문이 먼저 실행됨\n",
    "result1 = [i+j for i in case1 for j in case2]\n",
    "print(result1)\n",
    "\n",
    "# 이차원 리스트, 뒤의 for 문이 먼저 실행됨\n",
    "result2 = [[i + j for i in case1] for j in case2]\n",
    "print(result2)"
   ]
  },
  {
   "cell_type": "code",
   "execution_count": 2,
   "id": "5cd38771-3243-43c6-90bf-29dcf4bad147",
   "metadata": {},
   "outputs": [
    {
     "name": "stdout",
     "output_type": "stream",
     "text": [
      "10\n"
     ]
    }
   ],
   "source": [
    "############ 앞부분 날아감.............\n",
    "tpl = (10)\n",
    "print(tpl)"
   ]
  },
  {
   "cell_type": "code",
   "execution_count": 3,
   "id": "76451488-7bcf-4e87-88ab-adcebfaa8d41",
   "metadata": {},
   "outputs": [
    {
     "name": "stdout",
     "output_type": "stream",
     "text": [
      "(10,)\n"
     ]
    }
   ],
   "source": [
    "tpl = (10,)\n",
    "print(tpl)"
   ]
  },
  {
   "cell_type": "code",
   "execution_count": 4,
   "id": "19d08a8a-3868-41c7-9742-80dbbb436a88",
   "metadata": {},
   "outputs": [
    {
     "name": "stdout",
     "output_type": "stream",
     "text": [
      "(10,)\n"
     ]
    }
   ],
   "source": [
    "tpl = 10,\n",
    "print(tpl)"
   ]
  },
  {
   "cell_type": "code",
   "execution_count": 5,
   "id": "f9356641-d82a-4cb0-a7d0-1a50977477fc",
   "metadata": {},
   "outputs": [
    {
     "name": "stdout",
     "output_type": "stream",
     "text": [
      "(1, 3.14, 'Hello', True, [11, 12, 13], (21, 22))\n"
     ]
    }
   ],
   "source": [
    "# 튜플은 다양한 자료형을 저장할 수 있음\n",
    "tpl = 1, 3.14, \"Hello\", True, [11, 12, 13], (21,22)\n",
    "print(tpl)"
   ]
  },
  {
   "cell_type": "code",
   "execution_count": 6,
   "id": "832aeb5f-58b9-4002-b1f1-bfe9f966311d",
   "metadata": {},
   "outputs": [
    {
     "name": "stdout",
     "output_type": "stream",
     "text": [
      "('H', 'e', 'l', 'l', 'o')\n"
     ]
    }
   ],
   "source": [
    "# iterable 객체 사용\n",
    "tpl = tuple(\"Hello\")\n",
    "print(tpl)"
   ]
  },
  {
   "cell_type": "code",
   "execution_count": 7,
   "id": "0d004b86-6153-4aba-b22e-3c3e56751fc6",
   "metadata": {},
   "outputs": [
    {
     "data": {
      "text/plain": [
       "(1, 2, 3, 4, 5, 6)"
      ]
     },
     "execution_count": 7,
     "metadata": {},
     "output_type": "execute_result"
    }
   ],
   "source": [
    "# 튜플 연결\n",
    "tpl1 = 1, 2, 3\n",
    "tpl2 = 4, 5, 6\n",
    "tpl1 + tpl2"
   ]
  },
  {
   "cell_type": "code",
   "execution_count": 9,
   "id": "43bfdf7f-0153-4320-880d-ad0c0906d5d3",
   "metadata": {},
   "outputs": [
    {
     "data": {
      "text/plain": [
       "(1, 2, 3, 4, 5, 6)"
      ]
     },
     "execution_count": 9,
     "metadata": {},
     "output_type": "execute_result"
    }
   ],
   "source": [
    "(1, 2 ,3) + (4, 5 ,6)"
   ]
  },
  {
   "cell_type": "code",
   "execution_count": 12,
   "id": "67703d37-a430-4d2f-8b10-3c372970077b",
   "metadata": {},
   "outputs": [
    {
     "data": {
      "text/plain": [
       "(1, 2, 7, 5, 6)"
      ]
     },
     "execution_count": 12,
     "metadata": {},
     "output_type": "execute_result"
    }
   ],
   "source": [
    "1, 2, 3 + 4, 5, 6    #명백하지 않으니 괄호 생략 불가"
   ]
  },
  {
   "cell_type": "code",
   "execution_count": 13,
   "id": "3610a6e2-5a90-464b-9319-07408605aa90",
   "metadata": {},
   "outputs": [
    {
     "data": {
      "text/plain": [
       "(1, 2, 3)"
      ]
     },
     "execution_count": 13,
     "metadata": {},
     "output_type": "execute_result"
    }
   ],
   "source": [
    "1, 2, 3"
   ]
  },
  {
   "cell_type": "code",
   "execution_count": 14,
   "id": "e1adddf4-8104-45b2-ab2d-31f5e61a36ea",
   "metadata": {},
   "outputs": [
    {
     "data": {
      "text/plain": [
       "(10, 20, 30)"
      ]
     },
     "execution_count": 14,
     "metadata": {},
     "output_type": "execute_result"
    }
   ],
   "source": [
    "x = 10\n",
    "y = 20\n",
    "z = 30\n",
    "x, y, z"
   ]
  },
  {
   "cell_type": "code",
   "execution_count": 16,
   "id": "85890dde-1a9a-468c-aeef-ac2bd59e06ab",
   "metadata": {},
   "outputs": [
    {
     "name": "stdout",
     "output_type": "stream",
     "text": [
      "11 7\n"
     ]
    }
   ],
   "source": [
    "# 튜플 패킹과 언패킹 : 임시변수 없이 두 변수의 값을 쉽게 교환할 수 있음\n",
    "a = 7\n",
    "b = 11\n",
    "\n",
    "a, b = b, a\n",
    "print(a, b)"
   ]
  },
  {
   "cell_type": "code",
   "execution_count": null,
   "id": "138e1ef2-2b9d-482d-9b31-f2897a658a49",
   "metadata": {},
   "outputs": [],
   "source": []
  },
  {
   "cell_type": "code",
   "execution_count": null,
   "id": "359fdc87-d9d6-433c-92ea-427a8e4f14d7",
   "metadata": {},
   "outputs": [],
   "source": []
  },
  {
   "cell_type": "code",
   "execution_count": null,
   "id": "83f44055-3741-4c61-afae-7027c91a1f85",
   "metadata": {},
   "outputs": [],
   "source": []
  },
  {
   "cell_type": "code",
   "execution_count": null,
   "id": "b66bcfe7-1d45-4502-bd73-0e2bb58e0162",
   "metadata": {},
   "outputs": [],
   "source": []
  },
  {
   "cell_type": "code",
   "execution_count": null,
   "id": "4e4a1f92-f682-40b7-8d49-8a3677a115cd",
   "metadata": {},
   "outputs": [],
   "source": []
  },
  {
   "cell_type": "code",
   "execution_count": null,
   "id": "4492e6ac-3244-4799-96aa-9c43aeee6b7c",
   "metadata": {},
   "outputs": [],
   "source": []
  },
  {
   "cell_type": "code",
   "execution_count": null,
   "id": "cc64befc-312c-4940-8268-fa512b6431b8",
   "metadata": {},
   "outputs": [],
   "source": []
  },
  {
   "cell_type": "code",
   "execution_count": null,
   "id": "9e8436dd-ca25-41f3-b973-8cf9c958204f",
   "metadata": {},
   "outputs": [],
   "source": []
  },
  {
   "cell_type": "code",
   "execution_count": null,
   "id": "893b3dd7-9cae-4bd5-abdc-07428f67c4da",
   "metadata": {},
   "outputs": [],
   "source": []
  },
  {
   "cell_type": "code",
   "execution_count": null,
   "id": "2a809c27-791c-481a-ae46-eaff23a18f40",
   "metadata": {},
   "outputs": [],
   "source": []
  },
  {
   "cell_type": "code",
   "execution_count": null,
   "id": "abd1ad9e-e1a3-4535-91f3-1f8d731cebdd",
   "metadata": {},
   "outputs": [],
   "source": []
  },
  {
   "cell_type": "code",
   "execution_count": null,
   "id": "0dcbfd4c-d5d1-4516-b9fb-f4b946744144",
   "metadata": {},
   "outputs": [],
   "source": []
  },
  {
   "cell_type": "code",
   "execution_count": null,
   "id": "0e35a53b-5261-4b47-8b4c-cc683020c9bf",
   "metadata": {},
   "outputs": [],
   "source": []
  },
  {
   "cell_type": "code",
   "execution_count": null,
   "id": "578f3556-5170-4f9b-892f-73f50fab6ce4",
   "metadata": {},
   "outputs": [],
   "source": []
  },
  {
   "cell_type": "code",
   "execution_count": null,
   "id": "aa677082-f249-4c85-b98f-71166ecb1afa",
   "metadata": {},
   "outputs": [],
   "source": []
  },
  {
   "cell_type": "code",
   "execution_count": null,
   "id": "4e52016b-c79e-49f6-b11e-f98e95f01c3f",
   "metadata": {},
   "outputs": [],
   "source": []
  },
  {
   "cell_type": "code",
   "execution_count": null,
   "id": "d3fdae99-bf57-4171-ab6d-231ffbeb1e4a",
   "metadata": {},
   "outputs": [],
   "source": []
  }
 ],
 "metadata": {
  "kernelspec": {
   "display_name": "Python 3",
   "language": "python",
   "name": "python3"
  },
  "language_info": {
   "codemirror_mode": {
    "name": "ipython",
    "version": 3
   },
   "file_extension": ".py",
   "mimetype": "text/x-python",
   "name": "python",
   "nbconvert_exporter": "python",
   "pygments_lexer": "ipython3",
   "version": "3.8.8"
  }
 },
 "nbformat": 4,
 "nbformat_minor": 5
}
