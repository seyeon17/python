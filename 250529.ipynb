{
 "cells": [
  {
   "cell_type": "markdown",
   "id": "208394b3-aab6-44ad-9da6-ce8e24b3266b",
   "metadata": {},
   "source": [
    "# Chapter 5. 클래스\n",
    "## 5.2. 클래스 정의와 인스턴스 구성"
   ]
  },
  {
   "cell_type": "code",
   "execution_count": 23,
   "id": "20f9784b-3384-4a6e-af9e-68bdc188f655",
   "metadata": {},
   "outputs": [],
   "source": [
    "## 클래스 정의1: 은행 계좌\n",
    "# (속성) 잔액\n",
    "# (메소드) 입금, 출금\n",
    "class Account:\n",
    "    # (속성) 잔액 - 초기값을 항상 0으로 설정\n",
    "    # 클래스 변수(클래스 내부에 정의한 변수)는 모든 인스턴스가 공유함 (권장 X)\n",
    "    # balance = 0\n",
    "    \n",
    "    # (속성) 잔액\n",
    "    # 인스턴스마다 독립적인 속성을 가지려면??\n",
    "    # -> 생성자 메소드에서 인스턴스 변수를 정의해야 함\n",
    "    # amount = 0 <- 뭐 없으면 초기값 0, 초기값 있으면 그만큼\n",
    "    def __init__(self, amount = 0):\n",
    "        self.balance = amount\n",
    "        \n",
    "    # (메소드) 입금\n",
    "    def deposit(self, amount):\n",
    "        self.balance += amount \n",
    "        return self.balance\n",
    "    \n",
    "    # (메소드) 출금\n",
    "    def withdraw(self, amount):\n",
    "        self.balance -= amount\n",
    "        return self.balance"
   ]
  },
  {
   "cell_type": "code",
   "execution_count": 26,
   "id": "b0f7b6e7-c810-4e27-af94-f440559ae050",
   "metadata": {},
   "outputs": [
    {
     "data": {
      "text/plain": [
       "50000"
      ]
     },
     "execution_count": 26,
     "metadata": {},
     "output_type": "execute_result"
    }
   ],
   "source": [
    "# 나의 잔액이 5만원에서 시작\n",
    "my_acc = Account(50000)\n",
    "my_acc.balance"
   ]
  },
  {
   "cell_type": "code",
   "execution_count": 27,
   "id": "04dd1827-2a5d-4ff6-8b21-7ecf4690d7f6",
   "metadata": {},
   "outputs": [
    {
     "data": {
      "text/plain": [
       "55000"
      ]
     },
     "execution_count": 27,
     "metadata": {},
     "output_type": "execute_result"
    }
   ],
   "source": [
    "# 기존 잔액 + 입금 5000원 = 55,000원\n",
    "my_acc.deposit(5000)"
   ]
  },
  {
   "cell_type": "code",
   "execution_count": 28,
   "id": "a917b497-b0f8-44d6-abed-d2b5f07ef32b",
   "metadata": {},
   "outputs": [
    {
     "data": {
      "text/plain": [
       "25000"
      ]
     },
     "execution_count": 28,
     "metadata": {},
     "output_type": "execute_result"
    }
   ],
   "source": [
    "my_acc.withdraw(30000)"
   ]
  },
  {
   "cell_type": "code",
   "execution_count": 29,
   "id": "70a9581c-a0bc-4fda-bcf4-1560eecd3699",
   "metadata": {},
   "outputs": [
    {
     "data": {
      "text/plain": [
       "25000"
      ]
     },
     "execution_count": 29,
     "metadata": {},
     "output_type": "execute_result"
    }
   ],
   "source": [
    "my_acc.balance"
   ]
  },
  {
   "cell_type": "code",
   "execution_count": 33,
   "id": "971b4350-ec2d-4cd4-a84d-9367bb0184b7",
   "metadata": {},
   "outputs": [
    {
     "name": "stdout",
     "output_type": "stream",
     "text": [
      "<__main__.Account object at 0x000001FB95686130>\n"
     ]
    }
   ],
   "source": [
    "print(my_acc)"
   ]
  },
  {
   "cell_type": "markdown",
   "id": "19c8b3b8-5558-42eb-8a68-0e48c39844e0",
   "metadata": {},
   "source": [
    "## 5.2. 매직 메소드\n",
    "### 5.3.2. 문자열 표현 메소드"
   ]
  },
  {
   "cell_type": "code",
   "execution_count": 31,
   "id": "81705afb-42ce-40dd-9d40-d9b0f8687f48",
   "metadata": {},
   "outputs": [],
   "source": [
    "import numpy as np"
   ]
  },
  {
   "cell_type": "code",
   "execution_count": 32,
   "id": "0b244c1d-8c86-449e-85a9-f10a81676e50",
   "metadata": {},
   "outputs": [
    {
     "name": "stdout",
     "output_type": "stream",
     "text": [
      "[1 2 3]\n"
     ]
    }
   ],
   "source": [
    "arr = np.array([1,2,3])\n",
    "print(arr)    #__str__() 메소드 자동 호출"
   ]
  },
  {
   "cell_type": "code",
   "execution_count": 35,
   "id": "c7c7146c-da92-402a-b3db-e8b8044a7ac4",
   "metadata": {},
   "outputs": [
    {
     "data": {
      "text/plain": [
       "array([1, 2, 3])"
      ]
     },
     "execution_count": 35,
     "metadata": {},
     "output_type": "execute_result"
    }
   ],
   "source": [
    "arr           #__repr__() 메소드 자동 호출"
   ]
  },
  {
   "cell_type": "code",
   "execution_count": 38,
   "id": "2135b689-9e3c-48b7-9b4d-a39e135235c0",
   "metadata": {},
   "outputs": [
    {
     "name": "stdout",
     "output_type": "stream",
     "text": [
      "10\n"
     ]
    }
   ],
   "source": [
    "a = 10\n",
    "print(a) # --> __str__() 정의가 안되어 있으면? __repr__()대신 호출됨"
   ]
  },
  {
   "cell_type": "code",
   "execution_count": 39,
   "id": "eb50582a-5d61-4127-8634-40026047ccac",
   "metadata": {},
   "outputs": [
    {
     "name": "stdout",
     "output_type": "stream",
     "text": [
      "10\n"
     ]
    }
   ],
   "source": [
    "print(a)"
   ]
  },
  {
   "cell_type": "code",
   "execution_count": 57,
   "id": "75783681-0bee-4f3a-922e-9b7eb2397d45",
   "metadata": {},
   "outputs": [],
   "source": [
    "## 클래스 정의: 책\n",
    "# (속성) 책 제목, 저자 이름, 가격\n",
    "# (메소드) 가격 할인 적용 후 가격 변경\n",
    "\n",
    "class Book:\n",
    "    def __init__(self, title, author, price):\n",
    "        self.title = title\n",
    "        self.author = author\n",
    "        self.price = price\n",
    "        \n",
    "    # percent: 0 ~ 100\n",
    "    def apply_discount(self, percent):\n",
    "        self.price = int(self.price * (1 - percent/100)) # 실수형 -> 정수현(int)로 변경\n",
    "    \n",
    "    # 사람이 읽기 좋은 문자열 표현\n",
    "    def __str__(self):\n",
    "        return f\"Book(title: '{self.title}', author : '{self.author}', price: {self.price}원)\"\n",
    "    \n",
    "    \n",
    "    # 개발자용 문자열 표현\n",
    "    def __repr__(self):\n",
    "        return f\"Book(title='{self.title}', author= '{self.author}', price = '{self.price}')\""
   ]
  },
  {
   "cell_type": "code",
   "execution_count": 64,
   "id": "0ecb1bcd-267e-4aa0-ae87-3a4b8eb7b4f0",
   "metadata": {},
   "outputs": [],
   "source": [
    "new_book = eval(repr(my_book))"
   ]
  },
  {
   "cell_type": "code",
   "execution_count": 65,
   "id": "129897da-670d-4fb1-a0ef-2e37285e608e",
   "metadata": {},
   "outputs": [
    {
     "name": "stdout",
     "output_type": "stream",
     "text": [
      "Book(title: 'Python Programming', author : 'Park', price: 30000원)\n"
     ]
    }
   ],
   "source": [
    "print(new_book)"
   ]
  },
  {
   "cell_type": "code",
   "execution_count": 66,
   "id": "4fe363cb-f11a-4318-84fc-8f0251b274dc",
   "metadata": {},
   "outputs": [
    {
     "data": {
      "text/plain": [
       "'Python Programming'"
      ]
     },
     "execution_count": 66,
     "metadata": {},
     "output_type": "execute_result"
    }
   ],
   "source": [
    "new_book.title"
   ]
  },
  {
   "cell_type": "code",
   "execution_count": null,
   "id": "f4d3df09-2db6-4452-aec1-47b09007a168",
   "metadata": {},
   "outputs": [],
   "source": []
  },
  {
   "cell_type": "code",
   "execution_count": 62,
   "id": "ad5f7267-5a81-4a2c-9954-f197f4fd5e42",
   "metadata": {},
   "outputs": [
    {
     "name": "stdout",
     "output_type": "stream",
     "text": [
      "Book(title: 'Python Programming', author : 'Park', price: 30000원)\n"
     ]
    }
   ],
   "source": [
    "my_book = Book(\"Python Programming\", \"Park\", 30000)\n",
    "print(my_book)"
   ]
  },
  {
   "cell_type": "code",
   "execution_count": 63,
   "id": "6dfc3648-78f4-4273-8e0f-4f6d97a939c4",
   "metadata": {},
   "outputs": [
    {
     "name": "stdout",
     "output_type": "stream",
     "text": [
      "Book(title: 'R Programming', author : 'Kim', price: 20000원)\n"
     ]
    }
   ],
   "source": [
    "your_book = eval('Book(\"R Programming\", \"Kim\", 20000)')\n",
    "print(your_book)"
   ]
  },
  {
   "cell_type": "markdown",
   "id": "6e49a938-99e0-4d21-9a32-c5cac0822817",
   "metadata": {},
   "source": [
    "### 5.3.3. 시퀀스 동작 메소드"
   ]
  },
  {
   "cell_type": "code",
   "execution_count": 69,
   "id": "786477f5-ec3c-40ca-a036-b5ab6171f80d",
   "metadata": {},
   "outputs": [],
   "source": [
    "## 클래스 정의: 음악 플레이리스트\n",
    "class Playlist:\n",
    "    def __init__(self, name, songs):\n",
    "        self.name = name                     # (속성) 플레이리스트 이름\n",
    "        self.songs = songs                   # (속성) 노래 목록 (리스트)\n",
    "        \n",
    "    def add_song(self, song):                # (메소드) 노래 추가\n",
    "        self.songs.append(song)\n",
    "\n",
    "    def __str__(self):\n",
    "        return f\"Playlist '{self.name}' with {len(self)} songs\"\n",
    "\n",
    "    def __repr__(self):\n",
    "        return f\"Playlist('{self.name}', {self.songs})\"\n",
    "    \n",
    "    # len(인스턴스) 할 때 자동으로 호출되는 메소드\n",
    "    # 포함된 원소의 개수 반환\n",
    "    def __len__(self):\n",
    "        return len(self.songs)\n",
    "    \n",
    "    # 인스턴스[index]\n",
    "    # 특정 위치의 원소 반환\n",
    "    def __getitem__(self, index):\n",
    "        return self.songs[index]\n",
    "        \n",
    "    # iterable 객체 반환\n",
    "    def __iter__(self):\n",
    "        return iter(self.songs)\n",
    "    "
   ]
  },
  {
   "cell_type": "code",
   "execution_count": 70,
   "id": "38c40eb9-4a54-4c04-a647-bca93711f088",
   "metadata": {},
   "outputs": [],
   "source": [
    "my_playlist = Playlist(\"My Favorite\", [\"Hype boy\", \"APT\", \"Mantra\"])"
   ]
  },
  {
   "cell_type": "code",
   "execution_count": 73,
   "id": "3c2b8673-00ef-4b8e-bfa7-3f97c3ca2b6c",
   "metadata": {},
   "outputs": [
    {
     "data": {
      "text/plain": [
       "__main__.Playlist"
      ]
     },
     "execution_count": 73,
     "metadata": {},
     "output_type": "execute_result"
    }
   ],
   "source": [
    "Playlist  # __repr__ 메소드 자동 호출"
   ]
  },
  {
   "cell_type": "code",
   "execution_count": null,
   "id": "51afa9fc-8f1b-43a5-80e9-b570ba1602ff",
   "metadata": {},
   "outputs": [],
   "source": [
    "print(my_playlist)   # __str__ 메소드 자동 호출"
   ]
  },
  {
   "cell_type": "code",
   "execution_count": null,
   "id": "a2329e32-f78f-4911-89bb-b154f2b1e343",
   "metadata": {},
   "outputs": [],
   "source": [
    "# len() 함수 적용 -> 플레이리스트에 포함된 노래의 개수\n",
    "len(my_playlist)"
   ]
  },
  {
   "cell_type": "code",
   "execution_count": null,
   "id": "6856f3ea-c54f-4c22-8092-411609072d30",
   "metadata": {},
   "outputs": [],
   "source": [
    "# 인덱싱 -> 플레이리스트에 포함된 노래에 대해 인덱싱\n",
    "my_playlist[1]"
   ]
  },
  {
   "cell_type": "code",
   "execution_count": 74,
   "id": "cf0e415c-728e-4262-981f-76365e76a71b",
   "metadata": {},
   "outputs": [
    {
     "data": {
      "text/plain": [
       "['APT', 'Mantra']"
      ]
     },
     "execution_count": 74,
     "metadata": {},
     "output_type": "execute_result"
    }
   ],
   "source": [
    "my_playlist[1:]"
   ]
  },
  {
   "cell_type": "code",
   "execution_count": null,
   "id": "3634d1aa-a33e-42a3-9166-8555cc6dd37f",
   "metadata": {},
   "outputs": [],
   "source": [
    "# __iter__() 메소드 자동 호출\n",
    "for song in my_playlist:\n",
    "    print(song)"
   ]
  },
  {
   "cell_type": "code",
   "execution_count": null,
   "id": "e705665c-efcc-48e8-b54b-c2f7e9d22fe1",
   "metadata": {},
   "outputs": [],
   "source": []
  }
 ],
 "metadata": {
  "kernelspec": {
   "display_name": "Python 3",
   "language": "python",
   "name": "python3"
  },
  "language_info": {
   "codemirror_mode": {
    "name": "ipython",
    "version": 3
   },
   "file_extension": ".py",
   "mimetype": "text/x-python",
   "name": "python",
   "nbconvert_exporter": "python",
   "pygments_lexer": "ipython3",
   "version": "3.8.8"
  }
 },
 "nbformat": 4,
 "nbformat_minor": 5
}
