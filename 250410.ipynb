{
 "cells": [
  {
   "cell_type": "markdown",
   "id": "33eb40ae-f36f-4b61-accb-40843e352e90",
   "metadata": {},
   "source": [
    "# 3. 자료구조\n",
    "## 3.5. 딕셔너리\n",
    "### 3.5.1. 딕셔너리 생성"
   ]
  },
  {
   "cell_type": "code",
   "execution_count": 1,
   "id": "1ec8930e-ab8e-4dcf-9d97-dc074e509742",
   "metadata": {},
   "outputs": [
    {
     "name": "stdout",
     "output_type": "stream",
     "text": [
      "{'a': 1, 'b': 2, 'c': 3}\n"
     ]
    }
   ],
   "source": [
    "# 딕셔너리 생성1\n",
    "dct = {'a': 1, 'b': 2, 'c': 3}\n",
    "print(dct)"
   ]
  },
  {
   "cell_type": "code",
   "execution_count": 2,
   "id": "8d490351-1837-44e1-95c0-bf9b61748f0f",
   "metadata": {},
   "outputs": [
    {
     "data": {
      "text/plain": [
       "{}"
      ]
     },
     "execution_count": 2,
     "metadata": {},
     "output_type": "execute_result"
    }
   ],
   "source": [
    "# 빈 딕셔너리 생성\n",
    "{}"
   ]
  },
  {
   "cell_type": "code",
   "execution_count": 5,
   "id": "ac572bcb-3340-4e21-bb5d-23572cd99152",
   "metadata": {},
   "outputs": [
    {
     "name": "stdout",
     "output_type": "stream",
     "text": [
      "{'a': 'Hello', 'b': 2, 'c': 3}\n"
     ]
    }
   ],
   "source": [
    "# 딕셔너리 생성2: 키는 중복될 수 없음\n",
    "dct = {'a': 1, 'b': 2, 'c': 3, 'a': 3.14, 'a': \"Hello\"}\n",
    "print(dct)            # 키는 중복될 수 없으니 a에 가장 마지막에 저장된 값이 저장됨."
   ]
  },
  {
   "cell_type": "code",
   "execution_count": 6,
   "id": "96a734cd-edc3-4937-8cb1-a6cb29f39962",
   "metadata": {},
   "outputs": [
    {
     "name": "stdout",
     "output_type": "stream",
     "text": [
      "{'a': 1, 'b': 2, 'c': 3}\n"
     ]
    }
   ],
   "source": [
    "# 딕셔너리 생성3\n",
    "dct = dict(a=1, b=2, c=3)\n",
    "print(dct)"
   ]
  },
  {
   "cell_type": "code",
   "execution_count": 7,
   "id": "4295058a-df97-4560-88f8-a340925c2b70",
   "metadata": {},
   "outputs": [
    {
     "name": "stdout",
     "output_type": "stream",
     "text": [
      "{'x': 100, 'y': 200}\n"
     ]
    }
   ],
   "source": [
    "# 딕셔너리 생성4 : (key, value) 쌍으로 된 리스트 사용\n",
    "dct = dict([('x', 100), ('y', 200)])\n",
    "print(dct)"
   ]
  },
  {
   "cell_type": "code",
   "execution_count": null,
   "id": "21e66a09-2d72-4c50-86b7-f1b790238ab4",
   "metadata": {},
   "outputs": [],
   "source": []
  },
  {
   "cell_type": "code",
   "execution_count": 8,
   "id": "301fc7ca-56ee-4692-a3a3-3b2f8cb7ad99",
   "metadata": {},
   "outputs": [
    {
     "name": "stdout",
     "output_type": "stream",
     "text": [
      "{'name': 'Alice', 'age': 28, 'city': 'Jeonju'}\n"
     ]
    }
   ],
   "source": [
    "# 딕셔너리 생성5: zip() 함수 사용\n",
    "keys = ['name', 'age', 'city']\n",
    "values = ['Alice', 28, 'Jeonju']\n",
    "dct = dict(zip(keys, values))\n",
    "print(dct)"
   ]
  },
  {
   "cell_type": "code",
   "execution_count": 12,
   "id": "156acb8f-c883-4281-9151-cf643e17cdb8",
   "metadata": {},
   "outputs": [
    {
     "name": "stdout",
     "output_type": "stream",
     "text": [
      "{0: 'apple', 1: 'banana', 2: 'cherry'}\n"
     ]
    }
   ],
   "source": [
    "# 딕셔너리 생성6: enumerate() 함수 사용\n",
    "fruits = ['apple', 'banana', 'cherry']\n",
    "dct = dict(enumerate(fruits))\n",
    "print(dct)"
   ]
  },
  {
   "cell_type": "code",
   "execution_count": 10,
   "id": "ec79e87b-7387-4c03-923b-e987f2679454",
   "metadata": {},
   "outputs": [
    {
     "name": "stdout",
     "output_type": "stream",
     "text": [
      "Alice\n",
      "28\n"
     ]
    }
   ],
   "source": [
    "# 키를 이용한 접근\n",
    "info = {'name': 'Alice', 'age': 28, 'city': 'Jeonju'}\n",
    "print(info['name'])\n",
    "print(info['age'])"
   ]
  },
  {
   "cell_type": "code",
   "execution_count": 11,
   "id": "0cb43fee-3ff6-48ea-862b-c086d58d7c14",
   "metadata": {},
   "outputs": [
    {
     "name": "stdout",
     "output_type": "stream",
     "text": [
      "{'name': 'Alice', 'age': 28, 'city': 'Iksan'}\n"
     ]
    }
   ],
   "source": [
    "# 딕셔너리는 가변형 객체이므로 키를 이용한 수정이 가능함\n",
    "info = {'name': 'Alice', 'age': 28, 'city': 'Jeonju'}\n",
    "info['city'] = 'Iksan'\n",
    "print(info)"
   ]
  },
  {
   "cell_type": "code",
   "execution_count": 14,
   "id": "16c6b820-9bd9-4beb-a480-beb73630cd3b",
   "metadata": {},
   "outputs": [
    {
     "name": "stdout",
     "output_type": "stream",
     "text": [
      "{'name': 'Alice', 'age': 28, 'city': 'Iksan', 'email': 'alice123@gmail.com'}\n"
     ]
    }
   ],
   "source": [
    "# 새로운 키-값 쌍 추가\n",
    "info['email'] = 'alice123@gmail.com'\n",
    "print(info)"
   ]
  },
  {
   "cell_type": "markdown",
   "id": "98d57da3-2c49-4d99-88c5-06c1b9e943e3",
   "metadata": {},
   "source": [
    "### 3.5.2. 딕셔너리 값 접근"
   ]
  },
  {
   "cell_type": "code",
   "execution_count": 16,
   "id": "9f220f9f-7af0-4aff-8578-cafc2c3b3be0",
   "metadata": {},
   "outputs": [
    {
     "data": {
      "text/plain": [
       "['name', 'age', 'city']"
      ]
     },
     "execution_count": 16,
     "metadata": {},
     "output_type": "execute_result"
    }
   ],
   "source": [
    "# 모든 키 확인\n",
    "info = {'name': 'Alice', 'age': 28, 'city': 'Jeonju'}\n",
    "list(info.keys())"
   ]
  },
  {
   "cell_type": "code",
   "execution_count": 17,
   "id": "a1423f2e-6e9d-4bea-ac4c-3748c1010ac9",
   "metadata": {},
   "outputs": [
    {
     "data": {
      "text/plain": [
       "['Alice', 28, 'Jeonju']"
      ]
     },
     "execution_count": 17,
     "metadata": {},
     "output_type": "execute_result"
    }
   ],
   "source": [
    "# 모든 값 확인\n",
    "list(info.values())"
   ]
  },
  {
   "cell_type": "code",
   "execution_count": 18,
   "id": "be657575-71fe-4d49-bf48-2d195d5a2806",
   "metadata": {},
   "outputs": [
    {
     "data": {
      "text/plain": [
       "[('name', 'Alice'), ('age', 28), ('city', 'Jeonju')]"
      ]
     },
     "execution_count": 18,
     "metadata": {},
     "output_type": "execute_result"
    }
   ],
   "source": [
    "# (키, 값)쌍\n",
    "list(info.items())"
   ]
  },
  {
   "cell_type": "code",
   "execution_count": 22,
   "id": "0eda16e7-ffaa-4b41-8c75-be260530615e",
   "metadata": {},
   "outputs": [
    {
     "name": "stdout",
     "output_type": "stream",
     "text": [
      "Alice\n",
      "None\n"
     ]
    }
   ],
   "source": [
    "# 키를 이용한 값 조회\n",
    "print(info.get('name'))\n",
    "print(info.get('hobby'))"
   ]
  },
  {
   "cell_type": "code",
   "execution_count": 25,
   "id": "13462f61-5634-43de-8d0e-f1a39fa7ab72",
   "metadata": {},
   "outputs": [
    {
     "name": "stdout",
     "output_type": "stream",
     "text": [
      "True\n",
      "False\n",
      "False\n"
     ]
    }
   ],
   "source": [
    "# 특정 키 찾기\n",
    "print('age' in info)\n",
    "print('hobby' in info)\n",
    "print(28 in info)        # 키를 확인하는 거라 false로 나옴"
   ]
  },
  {
   "cell_type": "markdown",
   "id": "d33f0fdf-9377-4959-bfab-a609645ab278",
   "metadata": {},
   "source": [
    "#### 3.5.3.2. 딕셔너리 추가/삭제"
   ]
  },
  {
   "cell_type": "code",
   "execution_count": 27,
   "id": "1fcfde51-d7d8-49ac-b8ff-3b1638463199",
   "metadata": {},
   "outputs": [
    {
     "name": "stdout",
     "output_type": "stream",
     "text": [
      "{'name': 'Alice', 'age': 29, 'city': 'Jeonju'}\n"
     ]
    }
   ],
   "source": [
    "# 원소 추가 및 수정1\n",
    "info = {'name': 'Alice', 'age': 28}\n",
    "info.update({'age': 29, 'city': 'Jeonju'})\n",
    "print(info)"
   ]
  },
  {
   "cell_type": "code",
   "execution_count": 29,
   "id": "3a7a2e8c-1ce0-421e-a42c-d6cb5c445695",
   "metadata": {},
   "outputs": [
    {
     "name": "stdout",
     "output_type": "stream",
     "text": [
      "{'name': 'Alice', 'age': 29, 'city': 'Jeonju'}\n"
     ]
    }
   ],
   "source": [
    "# 원소 추가 및 수정2\n",
    "info = {'name': 'Alice', 'age': 28}\n",
    "info.update(age=29, city='Jeonju')\n",
    "print(info)"
   ]
  },
  {
   "cell_type": "code",
   "execution_count": 30,
   "id": "a5d69e97-d653-4d32-ad04-a7d706eaa2f3",
   "metadata": {},
   "outputs": [
    {
     "name": "stdout",
     "output_type": "stream",
     "text": [
      "{'name': 'Alice', 'city': 'Jeonju'}\n",
      "28\n"
     ]
    }
   ],
   "source": [
    "# 특정 키의 값 삭제1\n",
    "info = {'name': 'Alice', 'age': 28, 'city': 'Jeonju'}\n",
    "age = info.pop('age')\n",
    "print(info)\n",
    "print(age)"
   ]
  },
  {
   "cell_type": "code",
   "execution_count": 32,
   "id": "a4a1985e-ee1d-4a0d-a838-0070deaeda03",
   "metadata": {},
   "outputs": [],
   "source": [
    "# info.pop('email')\n",
    "# 오류 발생! 키에러"
   ]
  },
  {
   "cell_type": "code",
   "execution_count": 33,
   "id": "a743a02a-72a9-4bd9-a9d1-5074d4dd9e1c",
   "metadata": {},
   "outputs": [
    {
     "name": "stdout",
     "output_type": "stream",
     "text": [
      "{'name': 'Alice', 'age': 28}\n",
      "('city', 'Jeonju')\n"
     ]
    }
   ],
   "source": [
    "# 마지막 (키, 값) 쌍 삭제\n",
    "info = {'name': 'Alice', 'age': 28, 'city': 'Jeonju'}\n",
    "last_item = info.popitem()\n",
    "print(info)\n",
    "print(last_item)"
   ]
  },
  {
   "cell_type": "code",
   "execution_count": 35,
   "id": "3a1720f9-70c0-40d0-929e-2f1abbb80264",
   "metadata": {},
   "outputs": [
    {
     "name": "stdout",
     "output_type": "stream",
     "text": [
      "{'name': 'Alice', 'city': 'Jeonju'}\n"
     ]
    }
   ],
   "source": [
    "# 특정 키의 원소 삭제1\n",
    "info = {'name': 'Alice', 'age': 28, 'city': 'Jeonju'}\n",
    "del info['age']\n",
    "print(info)"
   ]
  },
  {
   "cell_type": "code",
   "execution_count": 38,
   "id": "3dd2f1c3-7f17-41dd-80b1-a84d3f8ae645",
   "metadata": {},
   "outputs": [],
   "source": [
    "# 특정 키의 원소 삭제2\n",
    "# del info['hobby']"
   ]
  },
  {
   "cell_type": "markdown",
   "id": "6b3f540d-8333-4239-bd48-415aca6f4960",
   "metadata": {},
   "source": [
    "### 3.5.4. 딕셔너리 패킹과 언패킹\n",
    "#### 3.5.4.1. 패킹과 언패킹의 개념"
   ]
  },
  {
   "cell_type": "code",
   "execution_count": 41,
   "id": "ef68e3f9-9d8f-4b85-a658-8552aec1d6b7",
   "metadata": {},
   "outputs": [
    {
     "name": "stdout",
     "output_type": "stream",
     "text": [
      "name: Alice\n",
      "age: 28\n",
      "city: Jeonju\n"
     ]
    }
   ],
   "source": [
    "# 키워드 가변 인수와 패킹, 언패킹\n",
    "def print_info(**kwargs):\n",
    "    for key, value in kwargs.items():\n",
    "        print(f\"{key}: {value}\")\n",
    "        \n",
    "info = {'name': 'Alice', 'age': 28, 'city': 'Jeonju'}\n",
    "print_info(**info)           # 딕셔너리를 언패킹해서 함수에 전달"
   ]
  },
  {
   "cell_type": "markdown",
   "id": "5e7d34c8-c6f4-4188-9597-d63982f36df2",
   "metadata": {},
   "source": [
    "### 3.5.5. 딕셔너리 컴프리헨션"
   ]
  },
  {
   "cell_type": "code",
   "execution_count": 46,
   "id": "00be43c8-77ea-476e-90a4-7f0c4e9afbc5",
   "metadata": {},
   "outputs": [
    {
     "data": {
      "text/plain": [
       "{'H': 1, 'e': 1, 'l': 2, 'o': 1}"
      ]
     },
     "execution_count": 46,
     "metadata": {},
     "output_type": "execute_result"
    }
   ],
   "source": [
    "# 문자 개수 세기\n",
    "word = \"Hello\"\n",
    "[char for char in word]\n",
    "[word.count(char) for char in word]\n",
    "\n",
    "{char: word.count(char) for char in word}"
   ]
  },
  {
   "cell_type": "code",
   "execution_count": 49,
   "id": "b358436d-4b69-4b31-84bb-1cf5e877ac39",
   "metadata": {},
   "outputs": [
    {
     "name": "stdout",
     "output_type": "stream",
     "text": [
      "{'name': 'Alice', 'age': 28, 'city': 'Jeonju'}\n"
     ]
    }
   ],
   "source": [
    "# 두 리스트를 키와 값으로 합치기\n",
    "keys = ['name', 'age', 'city']\n",
    "values = ['Alice', 28, 'Jeonju']\n",
    "info = {k: v for k, v in zip(keys, values)}\n",
    "print(info)"
   ]
  },
  {
   "cell_type": "code",
   "execution_count": 51,
   "id": "76295725-cd5d-44e8-8f76-a20353e6b611",
   "metadata": {},
   "outputs": [
    {
     "name": "stdout",
     "output_type": "stream",
     "text": [
      "{0: 'apple', 1: 'banana', 2: 'cherry'}\n"
     ]
    }
   ],
   "source": [
    "# 리스트를 인덱스와 함께 딕셔너리로 변환\n",
    "fruits = ['apple', 'banana', 'cherry']\n",
    "dct = {i: fruit for i, fruit in enumerate(fruits)}\n",
    "print(dct)"
   ]
  },
  {
   "cell_type": "code",
   "execution_count": 54,
   "id": "df300425-bc30-410a-b3c1-c252300e4790",
   "metadata": {},
   "outputs": [
    {
     "data": {
      "text/plain": [
       "{'Alice': 85, 'Bob': 92, 'David': 90}"
      ]
     },
     "execution_count": 54,
     "metadata": {},
     "output_type": "execute_result"
    }
   ],
   "source": [
    "scores = {'Alice': 85, 'Bob': 92, 'Chalie': 77, 'David': 90}\n",
    "{name: score for name, score in scores.items() if score >= 80}"
   ]
  },
  {
   "cell_type": "code",
   "execution_count": 59,
   "id": "07334996-c5d4-4fbd-a360-5b8a02f0692f",
   "metadata": {},
   "outputs": [
    {
     "data": {
      "text/plain": [
       "{'apple': 950.0, 'banana': 760.0, 'cherry': 1425.0}"
      ]
     },
     "execution_count": 59,
     "metadata": {},
     "output_type": "execute_result"
    }
   ],
   "source": [
    "# 가격(값)에 5%의 할인 적용\n",
    "prices = {'apple': 1000, 'banana': 800, 'cherry': 1500}\n",
    "{item: price*0.95 for item, price in prices.items()}"
   ]
  },
  {
   "cell_type": "markdown",
   "id": "d2181966-2e04-429c-b930-007b316a414e",
   "metadata": {},
   "source": [
    "# 4. 라이브러리\n",
    "## 4.1. Numpy 라이브러리\n",
    "### 4.1.1. 넘파이 배열\n",
    "#### 4.1.1.2. 넘파이 배열 생성"
   ]
  },
  {
   "cell_type": "code",
   "execution_count": 63,
   "id": "4a26c0fa-75a3-40b6-afb3-3cfd46fb62c8",
   "metadata": {},
   "outputs": [],
   "source": [
    "# 넘파이 설치 !pip install numpy"
   ]
  },
  {
   "cell_type": "code",
   "execution_count": 64,
   "id": "a060e5c5-a1b8-4d32-aff8-db1845151a64",
   "metadata": {},
   "outputs": [],
   "source": [
    "import numpy as np"
   ]
  },
  {
   "cell_type": "code",
   "execution_count": 65,
   "id": "787f62e7-baa8-45d2-9ebb-683a28248146",
   "metadata": {},
   "outputs": [
    {
     "name": "stdout",
     "output_type": "stream",
     "text": [
      "[1 2 3]\n"
     ]
    }
   ],
   "source": [
    "arr = np.array([1,2,3])\n",
    "print(arr)"
   ]
  },
  {
   "cell_type": "code",
   "execution_count": 70,
   "id": "a798815f-7bff-46d8-b8e9-69c7e140f292",
   "metadata": {},
   "outputs": [
    {
     "name": "stdout",
     "output_type": "stream",
     "text": [
      "[0. 0. 0. 0. 0.]\n"
     ]
    }
   ],
   "source": [
    "arr = np.zeros(5)\n",
    "print(arr)"
   ]
  },
  {
   "cell_type": "code",
   "execution_count": 72,
   "id": "bbd2659c-1b55-4b00-ac95-d360fbd07b60",
   "metadata": {},
   "outputs": [
    {
     "name": "stdout",
     "output_type": "stream",
     "text": [
      "[1. 1. 1.]\n",
      "<class 'numpy.ndarray'>\n"
     ]
    }
   ],
   "source": [
    "arr = np.ones(3)\n",
    "print(arr)\n",
    "print(type(arr))"
   ]
  },
  {
   "cell_type": "code",
   "execution_count": 73,
   "id": "9e31d760-2106-495f-ab44-9bc20f45e5b5",
   "metadata": {},
   "outputs": [
    {
     "name": "stdout",
     "output_type": "stream",
     "text": [
      "[5 5]\n"
     ]
    }
   ],
   "source": [
    "#arr = np.full(내가 채울 값, 몇 개 원소)\n",
    "arr = np.full(2, 5)\n",
    "print(arr)"
   ]
  },
  {
   "cell_type": "code",
   "execution_count": 75,
   "id": "e0e1bae1-4d02-4852-b93d-56a01d610cd8",
   "metadata": {},
   "outputs": [
    {
     "data": {
      "text/plain": [
       "[1, 3, 5, 7, 9]"
      ]
     },
     "execution_count": 75,
     "metadata": {},
     "output_type": "execute_result"
    }
   ],
   "source": [
    "list(range(1, 11, 2))     # 실수는 안됨! 1.5 XX 정수만 가능"
   ]
  },
  {
   "cell_type": "code",
   "execution_count": 79,
   "id": "5637c8e6-529a-4541-b13d-b60f2392a58e",
   "metadata": {},
   "outputs": [
    {
     "name": "stdout",
     "output_type": "stream",
     "text": [
      "[ 0.5  1.5  2.5  3.5  4.5  5.5  6.5  7.5  8.5  9.5 10.5]\n"
     ]
    }
   ],
   "source": [
    "arr = np.arange(0.5, 11.5, 1)\n",
    "print(arr)                         # 실수도 된다"
   ]
  },
  {
   "cell_type": "code",
   "execution_count": 80,
   "id": "66927822-7d7e-45f4-9ca1-4aa8dca53df9",
   "metadata": {},
   "outputs": [
    {
     "name": "stdout",
     "output_type": "stream",
     "text": [
      "[0.   0.25 0.5  0.75 1.  ]\n"
     ]
    }
   ],
   "source": [
    "arr = np.linspace(0, 1, 5)\n",
    "print(arr)"
   ]
  },
  {
   "cell_type": "code",
   "execution_count": 84,
   "id": "59a6f661-3ca3-4642-9ff5-d6227db6ef0b",
   "metadata": {},
   "outputs": [
    {
     "name": "stdout",
     "output_type": "stream",
     "text": [
      "[[0. 1. 0. 0.]\n",
      " [0. 0. 1. 0.]\n",
      " [0. 0. 0. 1.]]\n"
     ]
    }
   ],
   "source": [
    "arr = np.eye(3, 4, k=1)        # 행과 열의 개수 지정 가능\n",
    "print(arr)                     # k를 이용해서 1 어디서 시작할지 바꿀 수 O"
   ]
  },
  {
   "cell_type": "code",
   "execution_count": 82,
   "id": "b5ffe04e-c85b-4587-881b-cbeccf435cdd",
   "metadata": {},
   "outputs": [
    {
     "name": "stdout",
     "output_type": "stream",
     "text": [
      "[[1. 0. 0.]\n",
      " [0. 1. 0.]\n",
      " [0. 0. 1.]]\n"
     ]
    }
   ],
   "source": [
    "arr - np.identity(3)\n",
    "print(arr)"
   ]
  },
  {
   "cell_type": "code",
   "execution_count": null,
   "id": "fa941e65-c540-4bb9-8893-862ac55681d6",
   "metadata": {},
   "outputs": [],
   "source": []
  },
  {
   "cell_type": "code",
   "execution_count": null,
   "id": "aab2fabc-c37b-4b0a-b4f5-be91fd06d09c",
   "metadata": {},
   "outputs": [],
   "source": []
  },
  {
   "cell_type": "code",
   "execution_count": null,
   "id": "a207c2fc-c2c4-49af-b1d3-dfd399e22e12",
   "metadata": {},
   "outputs": [],
   "source": []
  },
  {
   "cell_type": "code",
   "execution_count": null,
   "id": "209390e7-34dc-4b6e-8a17-6e65839e9e27",
   "metadata": {},
   "outputs": [],
   "source": []
  },
  {
   "cell_type": "code",
   "execution_count": null,
   "id": "405ee429-b8e7-472d-af56-01119689347d",
   "metadata": {},
   "outputs": [],
   "source": []
  },
  {
   "cell_type": "code",
   "execution_count": null,
   "id": "b90a38ca-709c-46b3-90b1-41d7c2ceb0d0",
   "metadata": {},
   "outputs": [],
   "source": []
  },
  {
   "cell_type": "code",
   "execution_count": null,
   "id": "c9616bd0-ab07-4aa2-b03a-3d41806cb230",
   "metadata": {},
   "outputs": [],
   "source": []
  },
  {
   "cell_type": "code",
   "execution_count": null,
   "id": "fc4ca4c5-2c22-4a5f-990d-46e0bac87f53",
   "metadata": {},
   "outputs": [],
   "source": []
  },
  {
   "cell_type": "code",
   "execution_count": null,
   "id": "28ab6ef3-be06-4463-b358-18c4b6770d66",
   "metadata": {},
   "outputs": [],
   "source": []
  },
  {
   "cell_type": "code",
   "execution_count": null,
   "id": "dc3534c6-fc9f-44d7-89fc-6b32f1558428",
   "metadata": {},
   "outputs": [],
   "source": []
  },
  {
   "cell_type": "code",
   "execution_count": null,
   "id": "cf984e25-73f3-4266-8268-4a3ec3c73849",
   "metadata": {},
   "outputs": [],
   "source": []
  },
  {
   "cell_type": "code",
   "execution_count": null,
   "id": "d96e2bec-22e0-43a2-ba11-826a07db6106",
   "metadata": {},
   "outputs": [],
   "source": []
  },
  {
   "cell_type": "code",
   "execution_count": null,
   "id": "a7d67ba7-8118-4a2b-8165-d7cc3058dc5f",
   "metadata": {},
   "outputs": [],
   "source": []
  },
  {
   "cell_type": "code",
   "execution_count": null,
   "id": "d9d4e00e-9211-41c8-9328-921105aa68e7",
   "metadata": {},
   "outputs": [],
   "source": []
  },
  {
   "cell_type": "code",
   "execution_count": null,
   "id": "c7d04510-bd50-43e2-9f59-7605e787ebe8",
   "metadata": {},
   "outputs": [],
   "source": []
  },
  {
   "cell_type": "code",
   "execution_count": null,
   "id": "984387c4-6e50-462b-95f3-d3d4f8080202",
   "metadata": {},
   "outputs": [],
   "source": []
  },
  {
   "cell_type": "code",
   "execution_count": null,
   "id": "88af0532-3419-4cca-865b-e0d7894a001d",
   "metadata": {},
   "outputs": [],
   "source": []
  },
  {
   "cell_type": "code",
   "execution_count": null,
   "id": "881ffe27-0b07-4747-9182-0f1de01404d6",
   "metadata": {},
   "outputs": [],
   "source": []
  },
  {
   "cell_type": "code",
   "execution_count": null,
   "id": "208cbc23-ce26-4d8e-8de3-4f636853e75c",
   "metadata": {},
   "outputs": [],
   "source": []
  },
  {
   "cell_type": "code",
   "execution_count": null,
   "id": "bdbb80f3-25ec-4415-8631-d2fb0821dc3c",
   "metadata": {},
   "outputs": [],
   "source": []
  },
  {
   "cell_type": "code",
   "execution_count": null,
   "id": "f8bf7fbd-b371-4dbd-b036-71072cd1bbee",
   "metadata": {},
   "outputs": [],
   "source": []
  },
  {
   "cell_type": "code",
   "execution_count": null,
   "id": "4553accf-1027-4499-abad-85184ecd47d8",
   "metadata": {},
   "outputs": [],
   "source": []
  },
  {
   "cell_type": "code",
   "execution_count": null,
   "id": "331285b0-c6e4-48c3-be0b-1e4f7729d9bb",
   "metadata": {},
   "outputs": [],
   "source": []
  },
  {
   "cell_type": "code",
   "execution_count": null,
   "id": "b8c303bb-4491-44bd-ae7f-3c0bc8df64ba",
   "metadata": {},
   "outputs": [],
   "source": []
  },
  {
   "cell_type": "code",
   "execution_count": null,
   "id": "5d180aba-c3ec-4a21-b367-3ee5edd15045",
   "metadata": {},
   "outputs": [],
   "source": []
  },
  {
   "cell_type": "code",
   "execution_count": null,
   "id": "9e1de129-86c6-44f8-8224-3741febc03dc",
   "metadata": {},
   "outputs": [],
   "source": []
  },
  {
   "cell_type": "code",
   "execution_count": null,
   "id": "43e1cc46-98a2-4b7e-8903-b4c73ec0cea7",
   "metadata": {},
   "outputs": [],
   "source": []
  },
  {
   "cell_type": "code",
   "execution_count": null,
   "id": "f2219c20-45cb-48a7-95d8-5f06ad4a2b4a",
   "metadata": {},
   "outputs": [],
   "source": []
  },
  {
   "cell_type": "code",
   "execution_count": null,
   "id": "0f1f76b0-3f0a-49e5-98f4-94e44784ceec",
   "metadata": {},
   "outputs": [],
   "source": []
  },
  {
   "cell_type": "code",
   "execution_count": null,
   "id": "0e420b39-6156-4562-baf8-ec6bfcbbf41e",
   "metadata": {},
   "outputs": [],
   "source": []
  },
  {
   "cell_type": "code",
   "execution_count": null,
   "id": "1478aa6f-926c-4f05-b459-6858c40a0b01",
   "metadata": {},
   "outputs": [],
   "source": []
  },
  {
   "cell_type": "code",
   "execution_count": null,
   "id": "bb744fd3-2cae-4881-9316-c91472ba6795",
   "metadata": {},
   "outputs": [],
   "source": []
  },
  {
   "cell_type": "code",
   "execution_count": null,
   "id": "371897c0-ff44-4a39-8208-2770251d5074",
   "metadata": {},
   "outputs": [],
   "source": []
  },
  {
   "cell_type": "code",
   "execution_count": null,
   "id": "21c2e3fe-c858-4df7-a29c-63e8055c23d4",
   "metadata": {},
   "outputs": [],
   "source": []
  },
  {
   "cell_type": "code",
   "execution_count": null,
   "id": "5b690d33-c17f-46e8-940c-220c5a96d2d5",
   "metadata": {},
   "outputs": [],
   "source": []
  },
  {
   "cell_type": "code",
   "execution_count": null,
   "id": "9c8674e2-2b08-4985-82a8-6bc4446e0828",
   "metadata": {},
   "outputs": [],
   "source": []
  },
  {
   "cell_type": "code",
   "execution_count": null,
   "id": "33779344-45b6-4a11-8488-f86c9f45454c",
   "metadata": {},
   "outputs": [],
   "source": []
  },
  {
   "cell_type": "code",
   "execution_count": null,
   "id": "1bde5f69-61b8-4478-a21f-447d1d5bd39c",
   "metadata": {},
   "outputs": [],
   "source": []
  }
 ],
 "metadata": {
  "kernelspec": {
   "display_name": "Python 3",
   "language": "python",
   "name": "python3"
  },
  "language_info": {
   "codemirror_mode": {
    "name": "ipython",
    "version": 3
   },
   "file_extension": ".py",
   "mimetype": "text/x-python",
   "name": "python",
   "nbconvert_exporter": "python",
   "pygments_lexer": "ipython3",
   "version": "3.8.8"
  }
 },
 "nbformat": 4,
 "nbformat_minor": 5
}
