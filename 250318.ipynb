{
 "cells": [
  {
   "cell_type": "code",
   "execution_count": 2,
   "id": "7877a6af-c7e2-4fb2-99d8-e8c09d5fecb7",
   "metadata": {},
   "outputs": [
    {
     "name": "stdout",
     "output_type": "stream",
     "text": [
      "82는 짝수입니다.\n"
     ]
    }
   ],
   "source": [
    "# 무작위로 1~100 사이의 정수를 생성힌 후, 짝수인지 홀수인지 판단\n",
    "\n",
    "import random\n",
    "\n",
    "a = random.randint(1, 100)\n",
    "\n",
    "if a % 2 == 0:\n",
    "    print(f'{a}는 짝수입니다.')\n",
    "    \n",
    "else:\n",
    "    print(f'{a}는 홀수입니다.')\n"
   ]
  },
  {
   "cell_type": "code",
   "execution_count": 3,
   "id": "3d8cc5e2-38ad-4c13-ad18-d939639220a5",
   "metadata": {},
   "outputs": [
    {
     "name": "stdout",
     "output_type": "stream",
     "text": [
      "입장료: 3500.0\n",
      "입장료: 3500.0\n"
     ]
    }
   ],
   "source": [
    "# 놀이공원 기본 입장료는 5,000원임\n",
    "# 8세 미만은 기본 입장료 30% 할인, 65세 이상은 기본 입장료 20% 할인 적용함\n",
    "# 연령이 주어졌을 때, 놀이공원 입장료 산출\n",
    "\n",
    "# 나이가 8세 미만이면 5000곱하기0.7\n",
    "# 8살 이상~65세 미만 5000\n",
    "# 나이가 65세 이상이면 5000곱하기 0.8\n",
    "fee = 5000\n",
    "age = 7\n",
    "if age < 8:\n",
    "    print('입장료:', fee*0.7)\n",
    "elif 8 <= age and age < 65:\n",
    "    print('입장료:', fee)\n",
    "    \n",
    "    \n",
    "# 이렇게 써도 되고 elif age < 65:  \n",
    "# print('입장료:', fee) 이렇게 써도 됨. \n",
    "if age < 8:\n",
    "    print('입장료:', fee*0.7)\n",
    "elif age < 65:\n",
    "    print('입장료:', fee)\n",
    "else: \n",
    "    print('입장료',fee*0.8)"
   ]
  },
  {
   "cell_type": "code",
   "execution_count": 4,
   "id": "bce2ac6b-9118-49d0-ae59-a6ffb04e7328",
   "metadata": {},
   "outputs": [
    {
     "data": {
      "text/plain": [
       "\u001b[1;31mInit signature:\u001b[0m \u001b[0mrange\u001b[0m\u001b[1;33m(\u001b[0m\u001b[0mself\u001b[0m\u001b[1;33m,\u001b[0m \u001b[1;33m/\u001b[0m\u001b[1;33m,\u001b[0m \u001b[1;33m*\u001b[0m\u001b[0margs\u001b[0m\u001b[1;33m,\u001b[0m \u001b[1;33m**\u001b[0m\u001b[0mkwargs\u001b[0m\u001b[1;33m)\u001b[0m\u001b[1;33m\u001b[0m\u001b[1;33m\u001b[0m\u001b[0m\n",
       "\u001b[1;31mDocstring:\u001b[0m     \n",
       "range(stop) -> range object\n",
       "range(start, stop[, step]) -> range object\n",
       "\n",
       "Return an object that produces a sequence of integers from start (inclusive)\n",
       "to stop (exclusive) by step.  range(i, j) produces i, i+1, i+2, ..., j-1.\n",
       "start defaults to 0, and stop is omitted!  range(4) produces 0, 1, 2, 3.\n",
       "These are exactly the valid indices for a list of 4 elements.\n",
       "When step is given, it specifies the increment (or decrement).\n",
       "\u001b[1;31mType:\u001b[0m           type\n",
       "\u001b[1;31mSubclasses:\u001b[0m     \n"
      ]
     },
     "metadata": {},
     "output_type": "display_data"
    }
   ],
   "source": [
    "range?"
   ]
  },
  {
   "cell_type": "code",
   "execution_count": 5,
   "id": "e12dadc6-5f18-4a9d-8f23-37a63b138228",
   "metadata": {},
   "outputs": [
    {
     "name": "stdout",
     "output_type": "stream",
     "text": [
      "Hello\n",
      "Hello\n",
      "Hello\n"
     ]
    }
   ],
   "source": [
    "# 문자열을 3번 반복해서 출력\n",
    "for i in range(3):\n",
    "    print(\"Hello\")"
   ]
  },
  {
   "cell_type": "code",
   "execution_count": 9,
   "id": "206eba09-2117-40fe-bbb6-2fc88b44c6d3",
   "metadata": {},
   "outputs": [
    {
     "name": "stdout",
     "output_type": "stream",
     "text": [
      "0\n",
      "1\n",
      "2\n",
      "3\n",
      "4\n"
     ]
    }
   ],
   "source": [
    "# 반복범위의 값을 출력1\n",
    "for i in range(5):\n",
    "    print(i)\n"
   ]
  },
  {
   "cell_type": "code",
   "execution_count": 10,
   "id": "f97f7097-4dfe-4e05-ac96-175968939efa",
   "metadata": {},
   "outputs": [
    {
     "name": "stdout",
     "output_type": "stream",
     "text": [
      "W\n",
      "o\n",
      "r\n",
      "l\n",
      "d\n"
     ]
    }
   ],
   "source": [
    "# 반복 범위의 값을 출력2\n",
    "for i in \"World\":\n",
    "    print(i)"
   ]
  },
  {
   "cell_type": "code",
   "execution_count": 20,
   "id": "144bff18-91ef-4d95-b5fd-e6993e1bb484",
   "metadata": {},
   "outputs": [
    {
     "name": "stdout",
     "output_type": "stream",
     "text": [
      "2\n",
      "6\n",
      "12\n",
      "20\n",
      "30\n",
      "42\n",
      "56\n",
      "72\n",
      "90\n",
      "110\n",
      "132\n",
      "156\n",
      "182\n",
      "210\n",
      "240\n",
      "272\n",
      "306\n",
      "342\n",
      "380\n",
      "420\n",
      "462\n",
      "506\n",
      "552\n",
      "600\n",
      "650\n",
      "702\n",
      "756\n",
      "812\n",
      "870\n",
      "930\n",
      "992\n",
      "1056\n",
      "1122\n",
      "1190\n",
      "1260\n",
      "1332\n",
      "1406\n",
      "1482\n",
      "1560\n",
      "1640\n",
      "1722\n",
      "1806\n",
      "1892\n",
      "1980\n",
      "2070\n",
      "2162\n",
      "2256\n",
      "2352\n",
      "2450\n",
      "2550\n",
      "2652\n",
      "2756\n",
      "2862\n",
      "2970\n",
      "3080\n",
      "3192\n",
      "3306\n",
      "3422\n",
      "3540\n",
      "3660\n",
      "3782\n",
      "3906\n",
      "4032\n",
      "4160\n",
      "4290\n",
      "4422\n",
      "4556\n",
      "4692\n",
      "4830\n",
      "4970\n",
      "5112\n",
      "5256\n",
      "5402\n",
      "5550\n",
      "5700\n",
      "5852\n",
      "6006\n",
      "6162\n",
      "6320\n",
      "6480\n",
      "6642\n",
      "6806\n",
      "6972\n",
      "7140\n",
      "7310\n",
      "7482\n",
      "7656\n",
      "7832\n",
      "8010\n",
      "8190\n",
      "8372\n",
      "8556\n",
      "8742\n",
      "8930\n",
      "9120\n",
      "9312\n",
      "9506\n",
      "9702\n",
      "9900\n",
      "10100\n"
     ]
    }
   ],
   "source": [
    "# 1~100 정수의 합 계산 100 포함해야되니까 101로 적어야 돼\n",
    "sum = 0\n",
    "\n",
    "\n",
    "\n",
    "for i in range(1, 101):\n",
    "    sum = sum + i\n",
    "    sum += i      # sum = sum + i\n",
    "    print(sum)\n",
    " #   if i == 1:\n",
    "  #      sum = i\n",
    "   #     else:\n",
    "      #      sum = sum + i\n",
    "    #첫번째 반복 - sum = i\n",
    "   # 두번째 반복 - sum = sum + i\n",
    "   # 세번째 반복 - sum = sum + i\n",
    "    "
   ]
  }
 ],
 "metadata": {
  "kernelspec": {
   "display_name": "Python 3",
   "language": "python",
   "name": "python3"
  },
  "language_info": {
   "codemirror_mode": {
    "name": "ipython",
    "version": 3
   },
   "file_extension": ".py",
   "mimetype": "text/x-python",
   "name": "python",
   "nbconvert_exporter": "python",
   "pygments_lexer": "ipython3",
   "version": "3.8.8"
  }
 },
 "nbformat": 4,
 "nbformat_minor": 5
}
