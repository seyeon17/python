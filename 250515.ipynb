{
 "cells": [
  {
   "cell_type": "markdown",
   "id": "c411b841-5157-4070-94b2-03ef1c978279",
   "metadata": {},
   "source": [
    "#### 4.2.4.2. 수식 및 조건식 기반 데이터 처리"
   ]
  },
  {
   "cell_type": "code",
   "execution_count": 17,
   "id": "b57e202c-5b7a-407f-abba-5ed431ab077e",
   "metadata": {},
   "outputs": [],
   "source": [
    "import numpy as np\n",
    "import pandas as pd\n",
    "import seaborn as sns"
   ]
  },
  {
   "cell_type": "code",
   "execution_count": 3,
   "id": "804020f5-50ac-4b19-8698-c08d20909e88",
   "metadata": {},
   "outputs": [],
   "source": [
    "tips = sns.load_dataset('tips')"
   ]
  },
  {
   "cell_type": "code",
   "execution_count": 4,
   "id": "cb9de3c4-ed42-414c-9204-7f1f27ef1762",
   "metadata": {},
   "outputs": [
    {
     "data": {
      "text/html": [
       "<div>\n",
       "<style scoped>\n",
       "    .dataframe tbody tr th:only-of-type {\n",
       "        vertical-align: middle;\n",
       "    }\n",
       "\n",
       "    .dataframe tbody tr th {\n",
       "        vertical-align: top;\n",
       "    }\n",
       "\n",
       "    .dataframe thead th {\n",
       "        text-align: right;\n",
       "    }\n",
       "</style>\n",
       "<table border=\"1\" class=\"dataframe\">\n",
       "  <thead>\n",
       "    <tr style=\"text-align: right;\">\n",
       "      <th></th>\n",
       "      <th>total_bill</th>\n",
       "      <th>tip</th>\n",
       "      <th>sex</th>\n",
       "      <th>smoker</th>\n",
       "      <th>day</th>\n",
       "      <th>time</th>\n",
       "      <th>size</th>\n",
       "    </tr>\n",
       "  </thead>\n",
       "  <tbody>\n",
       "    <tr>\n",
       "      <th>2</th>\n",
       "      <td>21.01</td>\n",
       "      <td>3.50</td>\n",
       "      <td>Male</td>\n",
       "      <td>No</td>\n",
       "      <td>Sun</td>\n",
       "      <td>Dinner</td>\n",
       "      <td>3</td>\n",
       "    </tr>\n",
       "    <tr>\n",
       "      <th>3</th>\n",
       "      <td>23.68</td>\n",
       "      <td>3.31</td>\n",
       "      <td>Male</td>\n",
       "      <td>No</td>\n",
       "      <td>Sun</td>\n",
       "      <td>Dinner</td>\n",
       "      <td>2</td>\n",
       "    </tr>\n",
       "    <tr>\n",
       "      <th>4</th>\n",
       "      <td>24.59</td>\n",
       "      <td>3.61</td>\n",
       "      <td>Female</td>\n",
       "      <td>No</td>\n",
       "      <td>Sun</td>\n",
       "      <td>Dinner</td>\n",
       "      <td>4</td>\n",
       "    </tr>\n",
       "    <tr>\n",
       "      <th>5</th>\n",
       "      <td>25.29</td>\n",
       "      <td>4.71</td>\n",
       "      <td>Male</td>\n",
       "      <td>No</td>\n",
       "      <td>Sun</td>\n",
       "      <td>Dinner</td>\n",
       "      <td>4</td>\n",
       "    </tr>\n",
       "    <tr>\n",
       "      <th>7</th>\n",
       "      <td>26.88</td>\n",
       "      <td>3.12</td>\n",
       "      <td>Male</td>\n",
       "      <td>No</td>\n",
       "      <td>Sun</td>\n",
       "      <td>Dinner</td>\n",
       "      <td>4</td>\n",
       "    </tr>\n",
       "    <tr>\n",
       "      <th>...</th>\n",
       "      <td>...</td>\n",
       "      <td>...</td>\n",
       "      <td>...</td>\n",
       "      <td>...</td>\n",
       "      <td>...</td>\n",
       "      <td>...</td>\n",
       "      <td>...</td>\n",
       "    </tr>\n",
       "    <tr>\n",
       "      <th>237</th>\n",
       "      <td>32.83</td>\n",
       "      <td>1.17</td>\n",
       "      <td>Male</td>\n",
       "      <td>Yes</td>\n",
       "      <td>Sat</td>\n",
       "      <td>Dinner</td>\n",
       "      <td>2</td>\n",
       "    </tr>\n",
       "    <tr>\n",
       "      <th>238</th>\n",
       "      <td>35.83</td>\n",
       "      <td>4.67</td>\n",
       "      <td>Female</td>\n",
       "      <td>No</td>\n",
       "      <td>Sat</td>\n",
       "      <td>Dinner</td>\n",
       "      <td>3</td>\n",
       "    </tr>\n",
       "    <tr>\n",
       "      <th>239</th>\n",
       "      <td>29.03</td>\n",
       "      <td>5.92</td>\n",
       "      <td>Male</td>\n",
       "      <td>No</td>\n",
       "      <td>Sat</td>\n",
       "      <td>Dinner</td>\n",
       "      <td>3</td>\n",
       "    </tr>\n",
       "    <tr>\n",
       "      <th>240</th>\n",
       "      <td>27.18</td>\n",
       "      <td>2.00</td>\n",
       "      <td>Female</td>\n",
       "      <td>Yes</td>\n",
       "      <td>Sat</td>\n",
       "      <td>Dinner</td>\n",
       "      <td>2</td>\n",
       "    </tr>\n",
       "    <tr>\n",
       "      <th>241</th>\n",
       "      <td>22.67</td>\n",
       "      <td>2.00</td>\n",
       "      <td>Male</td>\n",
       "      <td>Yes</td>\n",
       "      <td>Sat</td>\n",
       "      <td>Dinner</td>\n",
       "      <td>2</td>\n",
       "    </tr>\n",
       "  </tbody>\n",
       "</table>\n",
       "<p>97 rows × 7 columns</p>\n",
       "</div>"
      ],
      "text/plain": [
       "     total_bill   tip     sex smoker  day    time  size\n",
       "2         21.01  3.50    Male     No  Sun  Dinner     3\n",
       "3         23.68  3.31    Male     No  Sun  Dinner     2\n",
       "4         24.59  3.61  Female     No  Sun  Dinner     4\n",
       "5         25.29  4.71    Male     No  Sun  Dinner     4\n",
       "7         26.88  3.12    Male     No  Sun  Dinner     4\n",
       "..          ...   ...     ...    ...  ...     ...   ...\n",
       "237       32.83  1.17    Male    Yes  Sat  Dinner     2\n",
       "238       35.83  4.67  Female     No  Sat  Dinner     3\n",
       "239       29.03  5.92    Male     No  Sat  Dinner     3\n",
       "240       27.18  2.00  Female    Yes  Sat  Dinner     2\n",
       "241       22.67  2.00    Male    Yes  Sat  Dinner     2\n",
       "\n",
       "[97 rows x 7 columns]"
      ]
     },
     "execution_count": 4,
     "metadata": {},
     "output_type": "execute_result"
    }
   ],
   "source": [
    "# 단일 조건 필터링: 식사 금액이 20달러 이상인 경우\n",
    "tips.query('total_bill >= 20')"
   ]
  },
  {
   "cell_type": "code",
   "execution_count": 7,
   "id": "19e35735-2c25-49ac-a279-0695b5c7fafe",
   "metadata": {},
   "outputs": [
    {
     "data": {
      "text/html": [
       "<div>\n",
       "<style scoped>\n",
       "    .dataframe tbody tr th:only-of-type {\n",
       "        vertical-align: middle;\n",
       "    }\n",
       "\n",
       "    .dataframe tbody tr th {\n",
       "        vertical-align: top;\n",
       "    }\n",
       "\n",
       "    .dataframe thead th {\n",
       "        text-align: right;\n",
       "    }\n",
       "</style>\n",
       "<table border=\"1\" class=\"dataframe\">\n",
       "  <thead>\n",
       "    <tr style=\"text-align: right;\">\n",
       "      <th></th>\n",
       "      <th>total_bill</th>\n",
       "      <th>tip</th>\n",
       "      <th>sex</th>\n",
       "      <th>smoker</th>\n",
       "      <th>day</th>\n",
       "      <th>time</th>\n",
       "      <th>size</th>\n",
       "    </tr>\n",
       "  </thead>\n",
       "  <tbody>\n",
       "    <tr>\n",
       "      <th>77</th>\n",
       "      <td>27.20</td>\n",
       "      <td>4.00</td>\n",
       "      <td>Male</td>\n",
       "      <td>No</td>\n",
       "      <td>Thur</td>\n",
       "      <td>Lunch</td>\n",
       "      <td>4</td>\n",
       "    </tr>\n",
       "    <tr>\n",
       "      <th>85</th>\n",
       "      <td>34.83</td>\n",
       "      <td>5.17</td>\n",
       "      <td>Female</td>\n",
       "      <td>No</td>\n",
       "      <td>Thur</td>\n",
       "      <td>Lunch</td>\n",
       "      <td>4</td>\n",
       "    </tr>\n",
       "    <tr>\n",
       "      <th>119</th>\n",
       "      <td>24.08</td>\n",
       "      <td>2.92</td>\n",
       "      <td>Female</td>\n",
       "      <td>No</td>\n",
       "      <td>Thur</td>\n",
       "      <td>Lunch</td>\n",
       "      <td>4</td>\n",
       "    </tr>\n",
       "    <tr>\n",
       "      <th>125</th>\n",
       "      <td>29.80</td>\n",
       "      <td>4.20</td>\n",
       "      <td>Female</td>\n",
       "      <td>No</td>\n",
       "      <td>Thur</td>\n",
       "      <td>Lunch</td>\n",
       "      <td>6</td>\n",
       "    </tr>\n",
       "    <tr>\n",
       "      <th>129</th>\n",
       "      <td>22.82</td>\n",
       "      <td>2.18</td>\n",
       "      <td>Male</td>\n",
       "      <td>No</td>\n",
       "      <td>Thur</td>\n",
       "      <td>Lunch</td>\n",
       "      <td>3</td>\n",
       "    </tr>\n",
       "    <tr>\n",
       "      <th>141</th>\n",
       "      <td>34.30</td>\n",
       "      <td>6.70</td>\n",
       "      <td>Male</td>\n",
       "      <td>No</td>\n",
       "      <td>Thur</td>\n",
       "      <td>Lunch</td>\n",
       "      <td>6</td>\n",
       "    </tr>\n",
       "    <tr>\n",
       "      <th>142</th>\n",
       "      <td>41.19</td>\n",
       "      <td>5.00</td>\n",
       "      <td>Male</td>\n",
       "      <td>No</td>\n",
       "      <td>Thur</td>\n",
       "      <td>Lunch</td>\n",
       "      <td>5</td>\n",
       "    </tr>\n",
       "    <tr>\n",
       "      <th>143</th>\n",
       "      <td>27.05</td>\n",
       "      <td>5.00</td>\n",
       "      <td>Female</td>\n",
       "      <td>No</td>\n",
       "      <td>Thur</td>\n",
       "      <td>Lunch</td>\n",
       "      <td>6</td>\n",
       "    </tr>\n",
       "    <tr>\n",
       "      <th>146</th>\n",
       "      <td>18.64</td>\n",
       "      <td>1.36</td>\n",
       "      <td>Female</td>\n",
       "      <td>No</td>\n",
       "      <td>Thur</td>\n",
       "      <td>Lunch</td>\n",
       "      <td>3</td>\n",
       "    </tr>\n",
       "    <tr>\n",
       "      <th>197</th>\n",
       "      <td>43.11</td>\n",
       "      <td>5.00</td>\n",
       "      <td>Female</td>\n",
       "      <td>Yes</td>\n",
       "      <td>Thur</td>\n",
       "      <td>Lunch</td>\n",
       "      <td>4</td>\n",
       "    </tr>\n",
       "    <tr>\n",
       "      <th>200</th>\n",
       "      <td>18.71</td>\n",
       "      <td>4.00</td>\n",
       "      <td>Male</td>\n",
       "      <td>Yes</td>\n",
       "      <td>Thur</td>\n",
       "      <td>Lunch</td>\n",
       "      <td>3</td>\n",
       "    </tr>\n",
       "    <tr>\n",
       "      <th>204</th>\n",
       "      <td>20.53</td>\n",
       "      <td>4.00</td>\n",
       "      <td>Male</td>\n",
       "      <td>Yes</td>\n",
       "      <td>Thur</td>\n",
       "      <td>Lunch</td>\n",
       "      <td>4</td>\n",
       "    </tr>\n",
       "    <tr>\n",
       "      <th>205</th>\n",
       "      <td>16.47</td>\n",
       "      <td>3.23</td>\n",
       "      <td>Female</td>\n",
       "      <td>Yes</td>\n",
       "      <td>Thur</td>\n",
       "      <td>Lunch</td>\n",
       "      <td>3</td>\n",
       "    </tr>\n",
       "  </tbody>\n",
       "</table>\n",
       "</div>"
      ],
      "text/plain": [
       "     total_bill   tip     sex smoker   day   time  size\n",
       "77        27.20  4.00    Male     No  Thur  Lunch     4\n",
       "85        34.83  5.17  Female     No  Thur  Lunch     4\n",
       "119       24.08  2.92  Female     No  Thur  Lunch     4\n",
       "125       29.80  4.20  Female     No  Thur  Lunch     6\n",
       "129       22.82  2.18    Male     No  Thur  Lunch     3\n",
       "141       34.30  6.70    Male     No  Thur  Lunch     6\n",
       "142       41.19  5.00    Male     No  Thur  Lunch     5\n",
       "143       27.05  5.00  Female     No  Thur  Lunch     6\n",
       "146       18.64  1.36  Female     No  Thur  Lunch     3\n",
       "197       43.11  5.00  Female    Yes  Thur  Lunch     4\n",
       "200       18.71  4.00    Male    Yes  Thur  Lunch     3\n",
       "204       20.53  4.00    Male    Yes  Thur  Lunch     4\n",
       "205       16.47  3.23  Female    Yes  Thur  Lunch     3"
      ]
     },
     "execution_count": 7,
     "metadata": {},
     "output_type": "execute_result"
    }
   ],
   "source": [
    "# 다중 조건 필터링: 식사 인원 수가 3명 이상이고, 목요일에 방문한 경우\n",
    "# tips.query('size >= 3 and day == \"Thur\"')\n",
    "tips.query('(size >= 3)  & (day == \"Thur\")')"
   ]
  },
  {
   "cell_type": "code",
   "execution_count": 10,
   "id": "abf00480-50d8-4f91-b658-d225d308c991",
   "metadata": {},
   "outputs": [
    {
     "data": {
      "text/html": [
       "<div>\n",
       "<style scoped>\n",
       "    .dataframe tbody tr th:only-of-type {\n",
       "        vertical-align: middle;\n",
       "    }\n",
       "\n",
       "    .dataframe tbody tr th {\n",
       "        vertical-align: top;\n",
       "    }\n",
       "\n",
       "    .dataframe thead th {\n",
       "        text-align: right;\n",
       "    }\n",
       "</style>\n",
       "<table border=\"1\" class=\"dataframe\">\n",
       "  <thead>\n",
       "    <tr style=\"text-align: right;\">\n",
       "      <th></th>\n",
       "      <th>total_bill</th>\n",
       "      <th>tip</th>\n",
       "      <th>sex</th>\n",
       "      <th>smoker</th>\n",
       "      <th>day</th>\n",
       "      <th>time</th>\n",
       "      <th>size</th>\n",
       "    </tr>\n",
       "  </thead>\n",
       "  <tbody>\n",
       "    <tr>\n",
       "      <th>0</th>\n",
       "      <td>16.99</td>\n",
       "      <td>1.01</td>\n",
       "      <td>Female</td>\n",
       "      <td>No</td>\n",
       "      <td>Sun</td>\n",
       "      <td>Dinner</td>\n",
       "      <td>2</td>\n",
       "    </tr>\n",
       "    <tr>\n",
       "      <th>1</th>\n",
       "      <td>10.34</td>\n",
       "      <td>1.66</td>\n",
       "      <td>Male</td>\n",
       "      <td>No</td>\n",
       "      <td>Sun</td>\n",
       "      <td>Dinner</td>\n",
       "      <td>3</td>\n",
       "    </tr>\n",
       "    <tr>\n",
       "      <th>2</th>\n",
       "      <td>21.01</td>\n",
       "      <td>3.50</td>\n",
       "      <td>Male</td>\n",
       "      <td>No</td>\n",
       "      <td>Sun</td>\n",
       "      <td>Dinner</td>\n",
       "      <td>3</td>\n",
       "    </tr>\n",
       "    <tr>\n",
       "      <th>3</th>\n",
       "      <td>23.68</td>\n",
       "      <td>3.31</td>\n",
       "      <td>Male</td>\n",
       "      <td>No</td>\n",
       "      <td>Sun</td>\n",
       "      <td>Dinner</td>\n",
       "      <td>2</td>\n",
       "    </tr>\n",
       "    <tr>\n",
       "      <th>4</th>\n",
       "      <td>24.59</td>\n",
       "      <td>3.61</td>\n",
       "      <td>Female</td>\n",
       "      <td>No</td>\n",
       "      <td>Sun</td>\n",
       "      <td>Dinner</td>\n",
       "      <td>4</td>\n",
       "    </tr>\n",
       "    <tr>\n",
       "      <th>...</th>\n",
       "      <td>...</td>\n",
       "      <td>...</td>\n",
       "      <td>...</td>\n",
       "      <td>...</td>\n",
       "      <td>...</td>\n",
       "      <td>...</td>\n",
       "      <td>...</td>\n",
       "    </tr>\n",
       "    <tr>\n",
       "      <th>238</th>\n",
       "      <td>35.83</td>\n",
       "      <td>4.67</td>\n",
       "      <td>Female</td>\n",
       "      <td>No</td>\n",
       "      <td>Sat</td>\n",
       "      <td>Dinner</td>\n",
       "      <td>3</td>\n",
       "    </tr>\n",
       "    <tr>\n",
       "      <th>240</th>\n",
       "      <td>27.18</td>\n",
       "      <td>2.00</td>\n",
       "      <td>Female</td>\n",
       "      <td>Yes</td>\n",
       "      <td>Sat</td>\n",
       "      <td>Dinner</td>\n",
       "      <td>2</td>\n",
       "    </tr>\n",
       "    <tr>\n",
       "      <th>241</th>\n",
       "      <td>22.67</td>\n",
       "      <td>2.00</td>\n",
       "      <td>Male</td>\n",
       "      <td>Yes</td>\n",
       "      <td>Sat</td>\n",
       "      <td>Dinner</td>\n",
       "      <td>2</td>\n",
       "    </tr>\n",
       "    <tr>\n",
       "      <th>242</th>\n",
       "      <td>17.82</td>\n",
       "      <td>1.75</td>\n",
       "      <td>Male</td>\n",
       "      <td>No</td>\n",
       "      <td>Sat</td>\n",
       "      <td>Dinner</td>\n",
       "      <td>2</td>\n",
       "    </tr>\n",
       "    <tr>\n",
       "      <th>243</th>\n",
       "      <td>18.78</td>\n",
       "      <td>3.00</td>\n",
       "      <td>Female</td>\n",
       "      <td>No</td>\n",
       "      <td>Thur</td>\n",
       "      <td>Dinner</td>\n",
       "      <td>2</td>\n",
       "    </tr>\n",
       "  </tbody>\n",
       "</table>\n",
       "<p>216 rows × 7 columns</p>\n",
       "</div>"
      ],
      "text/plain": [
       "     total_bill   tip     sex smoker   day    time  size\n",
       "0         16.99  1.01  Female     No   Sun  Dinner     2\n",
       "1         10.34  1.66    Male     No   Sun  Dinner     3\n",
       "2         21.01  3.50    Male     No   Sun  Dinner     3\n",
       "3         23.68  3.31    Male     No   Sun  Dinner     2\n",
       "4         24.59  3.61  Female     No   Sun  Dinner     4\n",
       "..          ...   ...     ...    ...   ...     ...   ...\n",
       "238       35.83  4.67  Female     No   Sat  Dinner     3\n",
       "240       27.18  2.00  Female    Yes   Sat  Dinner     2\n",
       "241       22.67  2.00    Male    Yes   Sat  Dinner     2\n",
       "242       17.82  1.75    Male     No   Sat  Dinner     2\n",
       "243       18.78  3.00  Female     No  Thur  Dinner     2\n",
       "\n",
       "[216 rows x 7 columns]"
      ]
     },
     "execution_count": 10,
     "metadata": {},
     "output_type": "execute_result"
    }
   ],
   "source": [
    "# 외부 변수 사용: 기준 팁 금액 미만인 경우\n",
    "min_tip_required = 5\n",
    "tips.query('tip < @min_tip_required')  # @ 꼭 써야 함!"
   ]
  },
  {
   "cell_type": "code",
   "execution_count": 14,
   "id": "c08684a7-fb2e-48f3-9927-9ee96862f3fc",
   "metadata": {},
   "outputs": [
    {
     "name": "stdout",
     "output_type": "stream",
     "text": [
      "216\n"
     ]
    },
    {
     "data": {
      "text/plain": [
       "216"
      ]
     },
     "execution_count": 14,
     "metadata": {},
     "output_type": "execute_result"
    }
   ],
   "source": [
    "# 기준 팁 금액보다 적게준 경우는 216팀임.\n",
    "tips.query('tip < @min_tip_required').shape[0]\n",
    "len(tips.query('tip < @min_tip_required'))"
   ]
  },
  {
   "cell_type": "markdown",
   "id": "f5b72705-00f5-43ac-b4eb-9d67f643d0b7",
   "metadata": {},
   "source": [
    "### 4.2.5. 시계열 데이터 처리\n",
    "#### 4.2.5.1. 시계열 데이터"
   ]
  },
  {
   "cell_type": "code",
   "execution_count": 18,
   "id": "5dccad3e-e2b4-4a99-a257-26480bfc9168",
   "metadata": {},
   "outputs": [
    {
     "data": {
      "text/plain": [
       "Timestamp('2023-05-15 09:21:00')"
      ]
     },
     "execution_count": 18,
     "metadata": {},
     "output_type": "execute_result"
    }
   ],
   "source": [
    "# 타임스탬프\n",
    "pd.Timestamp('2023-05-15 09:21')"
   ]
  },
  {
   "cell_type": "code",
   "execution_count": 20,
   "id": "661fc8d5-2d45-49e9-a71f-eb1294852032",
   "metadata": {},
   "outputs": [
    {
     "data": {
      "text/plain": [
       "Period('2025-05', 'M')"
      ]
     },
     "execution_count": 20,
     "metadata": {},
     "output_type": "execute_result"
    }
   ],
   "source": [
    "# 타임 기간\n",
    "pd.Period('2025-05', freq = 'M')"
   ]
  },
  {
   "cell_type": "code",
   "execution_count": 21,
   "id": "cdb15517-50e8-46da-8d55-29283854a8bb",
   "metadata": {},
   "outputs": [
    {
     "data": {
      "text/plain": [
       "Timedelta('2 days 05:00:00')"
      ]
     },
     "execution_count": 21,
     "metadata": {},
     "output_type": "execute_result"
    }
   ],
   "source": [
    "# 시간 델타\n",
    "pd.Timedelta(days = 2, hours = 5)"
   ]
  },
  {
   "cell_type": "markdown",
   "id": "5d7f3495-0fe0-4fc7-bdde-d738dd7e42bc",
   "metadata": {},
   "source": [
    "#### 4.2.5.2. 시계열 데이터 형식 변환"
   ]
  },
  {
   "cell_type": "code",
   "execution_count": 22,
   "id": "9e1cf178-bcaa-4047-8fe6-0d10af0869f4",
   "metadata": {},
   "outputs": [
    {
     "data": {
      "text/plain": [
       "DatetimeIndex(['2025-03-02', '2025-03-03', '2025-03-04'], dtype='datetime64[ns]', freq=None)"
      ]
     },
     "execution_count": 22,
     "metadata": {},
     "output_type": "execute_result"
    }
   ],
   "source": [
    "# Timestamp1: 문자열 리스트 사용\n",
    "pd.to_datetime(['2025-03-02', '2025-03-03', '2025-03-04'])"
   ]
  },
  {
   "cell_type": "code",
   "execution_count": 24,
   "id": "9f65a344-42dd-4b4b-b6d1-5ac3a53146c7",
   "metadata": {},
   "outputs": [
    {
     "data": {
      "text/plain": [
       "DatetimeIndex(['2025-03-02', '2025-03-03', '2025-03-04'], dtype='datetime64[ns]', freq=None)"
      ]
     },
     "execution_count": 24,
     "metadata": {},
     "output_type": "execute_result"
    }
   ],
   "source": [
    "#Timestamp2: 명시적 형식 지정\n",
    "pd.to_datetime(['March 2, 2025', 'March 3, 2025', 'March 4, 2025'], format='%B %d, %Y')"
   ]
  },
  {
   "cell_type": "code",
   "execution_count": 26,
   "id": "0f6b4742-73bc-4cdb-9f22-64856c94317c",
   "metadata": {},
   "outputs": [
    {
     "data": {
      "text/plain": [
       "DatetimeIndex(['2025-03-02', 'NaT'], dtype='datetime64[ns]', freq=None)"
      ]
     },
     "execution_count": 26,
     "metadata": {},
     "output_type": "execute_result"
    }
   ],
   "source": [
    "# Timestamp3: 오류 발생시 NaT 처리\n",
    "pd.to_datetime(['2025-03-02', 'not a data'], errors = \"coerce\")"
   ]
  },
  {
   "cell_type": "code",
   "execution_count": 32,
   "id": "42432f65-50b8-4441-8534-0cd85ee22be2",
   "metadata": {},
   "outputs": [
    {
     "data": {
      "text/plain": [
       "0   2025-03-02\n",
       "1   2025-05-05\n",
       "dtype: datetime64[ns]"
      ]
     },
     "execution_count": 32,
     "metadata": {},
     "output_type": "execute_result"
    }
   ],
   "source": [
    "# Timestamp4: 정수 데이터프레임 사용\n",
    "df = pd.DataFrame({\n",
    "    \"year\": [2025, 2025],\n",
    "    \"month\": [3, 5],\n",
    "    \"day\": [2, 5]\n",
    "})\n",
    "\n",
    "pd.to_datetime(df)"
   ]
  },
  {
   "cell_type": "code",
   "execution_count": 35,
   "id": "c7d07421-cc66-4d08-a4e1-bc9671c5b278",
   "metadata": {},
   "outputs": [
    {
     "data": {
      "text/plain": [
       "Period('2025-03', 'M')"
      ]
     },
     "execution_count": 35,
     "metadata": {},
     "output_type": "execute_result"
    }
   ],
   "source": [
    "# Period: 2025년 3월 1일 ~ 31일 (한 달)\n",
    "pd.to_datetime('2025-03', format = '%Y-%m').to_period('M')"
   ]
  },
  {
   "cell_type": "code",
   "execution_count": 37,
   "id": "8dd823b3-6352-4be7-a112-afb653640759",
   "metadata": {},
   "outputs": [
    {
     "data": {
      "text/plain": [
       "Timedelta('74 days 00:00:00')"
      ]
     },
     "execution_count": 37,
     "metadata": {},
     "output_type": "execute_result"
    }
   ],
   "source": [
    "# Timedelta\n",
    "pd.to_datetime('2025-05-15') - pd.to_datetime('2025-03-02')  # 74일 지남"
   ]
  },
  {
   "cell_type": "code",
   "execution_count": 42,
   "id": "7fb518dd-417e-4ca5-9771-9ca1e3278f12",
   "metadata": {},
   "outputs": [
    {
     "data": {
      "text/plain": [
       "DatetimeIndex(['2025-03-02', '2025-03-03', '2025-03-04', '2025-03-05',\n",
       "               '2025-03-06'],\n",
       "              dtype='datetime64[ns]', freq='D')"
      ]
     },
     "execution_count": 42,
     "metadata": {},
     "output_type": "execute_result"
    }
   ],
   "source": [
    "# 하루씩 증가하는 날짜 시퀀스\n",
    "pd.date_range('2025-03-02', periods = 5, freq = 'D')"
   ]
  },
  {
   "cell_type": "code",
   "execution_count": 44,
   "id": "ee834672-8a65-46d5-982c-55d2e8ade8fb",
   "metadata": {},
   "outputs": [
    {
     "data": {
      "text/plain": [
       "DatetimeIndex(['2025-05-18', '2025-05-25', '2025-06-01', '2025-06-08',\n",
       "               '2025-06-15'],\n",
       "              dtype='datetime64[ns]', freq='W-SUN')"
      ]
     },
     "execution_count": 44,
     "metadata": {},
     "output_type": "execute_result"
    }
   ],
   "source": [
    "# 일주일씩 증가하는 날짜 시퀀스(일요일 기준)\n",
    "pd.date_range('2025-05-15', periods = 5, freq = 'W')"
   ]
  },
  {
   "cell_type": "code",
   "execution_count": 58,
   "id": "b971022a-b9b8-4323-917a-798e3cad3e4d",
   "metadata": {},
   "outputs": [
    {
     "data": {
      "text/plain": [
       "DatetimeIndex(['2025-05-31', '2025-06-30', '2025-07-31', '2025-08-31',\n",
       "               '2025-09-30'],\n",
       "              dtype='datetime64[ns]', freq='M')"
      ]
     },
     "execution_count": 58,
     "metadata": {},
     "output_type": "execute_result"
    }
   ],
   "source": [
    "# 힌 달씩 증가하는 날짜 시퀀스(월말 기준)\n",
    "pd.date_range('2025-05-15', periods = 5, freq ='M')"
   ]
  },
  {
   "cell_type": "code",
   "execution_count": 52,
   "id": "e3c42b60-d7fb-44ad-9549-fa0e60af1c95",
   "metadata": {},
   "outputs": [
    {
     "data": {
      "text/plain": [
       "PeriodIndex(['2025-03', '2025-04', '2025-05'], dtype='period[M]', freq='M')"
      ]
     },
     "execution_count": 52,
     "metadata": {},
     "output_type": "execute_result"
    }
   ],
   "source": [
    "# 2025년 3월부터 시작하여 3개월 동안의 기간\n",
    "pd.period_range('2025-03', periods = 3, freq = 'M')"
   ]
  },
  {
   "cell_type": "code",
   "execution_count": 55,
   "id": "0b1aa0d7-7023-412a-a18c-b2686169fbc6",
   "metadata": {},
   "outputs": [
    {
     "data": {
      "text/plain": [
       "TimedeltaIndex(['0 days 00:00:00', '0 days 01:00:00', '0 days 02:00:00',\n",
       "                '0 days 03:00:00', '0 days 04:00:00'],\n",
       "               dtype='timedelta64[ns]', freq='H')"
      ]
     },
     "execution_count": 55,
     "metadata": {},
     "output_type": "execute_result"
    }
   ],
   "source": [
    "# 1시간 간격의 시간 델타 시퀀스\n",
    "pd.timedelta_range(start = '0s', periods = 5, freq = 'h')"
   ]
  },
  {
   "cell_type": "markdown",
   "id": "3d9c7474-58da-482d-8966-8fe4c6228dca",
   "metadata": {},
   "source": [
    "#### 4.2.5.3. 시계열 데이터 인덱스와 필터링"
   ]
  },
  {
   "cell_type": "code",
   "execution_count": 69,
   "id": "3c57d8b4-b8f8-413a-8596-3d1373e9116f",
   "metadata": {},
   "outputs": [
    {
     "data": {
      "text/plain": [
       "22"
      ]
     },
     "execution_count": 69,
     "metadata": {},
     "output_type": "execute_result"
    }
   ],
   "source": [
    "# 시계열 데이터 인덱스 설정\n",
    "date_rng = pd.date_range(start= '2024-12-20', end = '2025-1-10', freq = 'D')\n",
    "len(date_rng)"
   ]
  },
  {
   "cell_type": "code",
   "execution_count": 70,
   "id": "eaf3641c-1343-4ea3-8b0f-b6824b45e32a",
   "metadata": {},
   "outputs": [
    {
     "data": {
      "text/plain": [
       "array([85, 35, 78, 86, 61, 89, 99, 10, 98, 29, 16, 84, 20, 74, 20, 45, 70,\n",
       "       84, 62, 43, 51, 94])"
      ]
     },
     "execution_count": 70,
     "metadata": {},
     "output_type": "execute_result"
    }
   ],
   "source": [
    "np.random.randint(0, 100, size = 22)"
   ]
  },
  {
   "cell_type": "code",
   "execution_count": 72,
   "id": "deb99e49-6ed3-47cd-b743-75f34ced98b2",
   "metadata": {},
   "outputs": [
    {
     "data": {
      "text/html": [
       "<div>\n",
       "<style scoped>\n",
       "    .dataframe tbody tr th:only-of-type {\n",
       "        vertical-align: middle;\n",
       "    }\n",
       "\n",
       "    .dataframe tbody tr th {\n",
       "        vertical-align: top;\n",
       "    }\n",
       "\n",
       "    .dataframe thead th {\n",
       "        text-align: right;\n",
       "    }\n",
       "</style>\n",
       "<table border=\"1\" class=\"dataframe\">\n",
       "  <thead>\n",
       "    <tr style=\"text-align: right;\">\n",
       "      <th></th>\n",
       "      <th>value</th>\n",
       "    </tr>\n",
       "  </thead>\n",
       "  <tbody>\n",
       "    <tr>\n",
       "      <th>2024-12-20</th>\n",
       "      <td>92</td>\n",
       "    </tr>\n",
       "    <tr>\n",
       "      <th>2024-12-21</th>\n",
       "      <td>49</td>\n",
       "    </tr>\n",
       "    <tr>\n",
       "      <th>2024-12-22</th>\n",
       "      <td>97</td>\n",
       "    </tr>\n",
       "    <tr>\n",
       "      <th>2024-12-23</th>\n",
       "      <td>51</td>\n",
       "    </tr>\n",
       "    <tr>\n",
       "      <th>2024-12-24</th>\n",
       "      <td>2</td>\n",
       "    </tr>\n",
       "    <tr>\n",
       "      <th>2024-12-25</th>\n",
       "      <td>22</td>\n",
       "    </tr>\n",
       "    <tr>\n",
       "      <th>2024-12-26</th>\n",
       "      <td>22</td>\n",
       "    </tr>\n",
       "    <tr>\n",
       "      <th>2024-12-27</th>\n",
       "      <td>27</td>\n",
       "    </tr>\n",
       "    <tr>\n",
       "      <th>2024-12-28</th>\n",
       "      <td>67</td>\n",
       "    </tr>\n",
       "    <tr>\n",
       "      <th>2024-12-29</th>\n",
       "      <td>85</td>\n",
       "    </tr>\n",
       "    <tr>\n",
       "      <th>2024-12-30</th>\n",
       "      <td>52</td>\n",
       "    </tr>\n",
       "    <tr>\n",
       "      <th>2024-12-31</th>\n",
       "      <td>24</td>\n",
       "    </tr>\n",
       "    <tr>\n",
       "      <th>2025-01-01</th>\n",
       "      <td>12</td>\n",
       "    </tr>\n",
       "    <tr>\n",
       "      <th>2025-01-02</th>\n",
       "      <td>54</td>\n",
       "    </tr>\n",
       "    <tr>\n",
       "      <th>2025-01-03</th>\n",
       "      <td>43</td>\n",
       "    </tr>\n",
       "    <tr>\n",
       "      <th>2025-01-04</th>\n",
       "      <td>1</td>\n",
       "    </tr>\n",
       "    <tr>\n",
       "      <th>2025-01-05</th>\n",
       "      <td>84</td>\n",
       "    </tr>\n",
       "    <tr>\n",
       "      <th>2025-01-06</th>\n",
       "      <td>4</td>\n",
       "    </tr>\n",
       "    <tr>\n",
       "      <th>2025-01-07</th>\n",
       "      <td>82</td>\n",
       "    </tr>\n",
       "    <tr>\n",
       "      <th>2025-01-08</th>\n",
       "      <td>24</td>\n",
       "    </tr>\n",
       "    <tr>\n",
       "      <th>2025-01-09</th>\n",
       "      <td>63</td>\n",
       "    </tr>\n",
       "    <tr>\n",
       "      <th>2025-01-10</th>\n",
       "      <td>67</td>\n",
       "    </tr>\n",
       "  </tbody>\n",
       "</table>\n",
       "</div>"
      ],
      "text/plain": [
       "            value\n",
       "2024-12-20     92\n",
       "2024-12-21     49\n",
       "2024-12-22     97\n",
       "2024-12-23     51\n",
       "2024-12-24      2\n",
       "2024-12-25     22\n",
       "2024-12-26     22\n",
       "2024-12-27     27\n",
       "2024-12-28     67\n",
       "2024-12-29     85\n",
       "2024-12-30     52\n",
       "2024-12-31     24\n",
       "2025-01-01     12\n",
       "2025-01-02     54\n",
       "2025-01-03     43\n",
       "2025-01-04      1\n",
       "2025-01-05     84\n",
       "2025-01-06      4\n",
       "2025-01-07     82\n",
       "2025-01-08     24\n",
       "2025-01-09     63\n",
       "2025-01-10     67"
      ]
     },
     "execution_count": 72,
     "metadata": {},
     "output_type": "execute_result"
    }
   ],
   "source": [
    "df = pd.DataFrame({'value': np.random.randint(0, 100, size = len(date_rng))}, index = date_rng)\n",
    "df"
   ]
  },
  {
   "cell_type": "code",
   "execution_count": 74,
   "id": "04032622-c8e8-4fea-9e9c-deefd2d7cb49",
   "metadata": {},
   "outputs": [
    {
     "name": "stdout",
     "output_type": "stream",
     "text": [
      "            value\n",
      "2025-01-01     12\n",
      "2025-01-02     54\n",
      "2025-01-03     43\n",
      "2025-01-04      1\n",
      "2025-01-05     84\n",
      "2025-01-06      4\n",
      "2025-01-07     82\n",
      "2025-01-08     24\n",
      "2025-01-09     63\n",
      "2025-01-10     67\n"
     ]
    }
   ],
   "source": [
    "# 날짜 기반 필터링: 특정 연도 데이터\n",
    "print(df.loc['2025'])"
   ]
  },
  {
   "cell_type": "code",
   "execution_count": 73,
   "id": "d157c3c2-97e1-4066-afcc-572bd933007c",
   "metadata": {},
   "outputs": [
    {
     "data": {
      "text/html": [
       "<div>\n",
       "<style scoped>\n",
       "    .dataframe tbody tr th:only-of-type {\n",
       "        vertical-align: middle;\n",
       "    }\n",
       "\n",
       "    .dataframe tbody tr th {\n",
       "        vertical-align: top;\n",
       "    }\n",
       "\n",
       "    .dataframe thead th {\n",
       "        text-align: right;\n",
       "    }\n",
       "</style>\n",
       "<table border=\"1\" class=\"dataframe\">\n",
       "  <thead>\n",
       "    <tr style=\"text-align: right;\">\n",
       "      <th></th>\n",
       "      <th>value</th>\n",
       "    </tr>\n",
       "  </thead>\n",
       "  <tbody>\n",
       "    <tr>\n",
       "      <th>2025-01-04</th>\n",
       "      <td>1</td>\n",
       "    </tr>\n",
       "    <tr>\n",
       "      <th>2025-01-05</th>\n",
       "      <td>84</td>\n",
       "    </tr>\n",
       "    <tr>\n",
       "      <th>2025-01-06</th>\n",
       "      <td>4</td>\n",
       "    </tr>\n",
       "    <tr>\n",
       "      <th>2025-01-07</th>\n",
       "      <td>82</td>\n",
       "    </tr>\n",
       "    <tr>\n",
       "      <th>2025-01-08</th>\n",
       "      <td>24</td>\n",
       "    </tr>\n",
       "    <tr>\n",
       "      <th>2025-01-09</th>\n",
       "      <td>63</td>\n",
       "    </tr>\n",
       "    <tr>\n",
       "      <th>2025-01-10</th>\n",
       "      <td>67</td>\n",
       "    </tr>\n",
       "  </tbody>\n",
       "</table>\n",
       "</div>"
      ],
      "text/plain": [
       "            value\n",
       "2025-01-04      1\n",
       "2025-01-05     84\n",
       "2025-01-06      4\n",
       "2025-01-07     82\n",
       "2025-01-08     24\n",
       "2025-01-09     63\n",
       "2025-01-10     67"
      ]
     },
     "execution_count": 73,
     "metadata": {},
     "output_type": "execute_result"
    }
   ],
   "source": [
    "# 날짜 기반 필터링: 특정 날짜 이후 데이터\n",
    "df.loc['2025-01-04':]"
   ]
  },
  {
   "cell_type": "code",
   "execution_count": 75,
   "id": "e445ed4c-b907-4b94-a9bd-5f31ee1a8966",
   "metadata": {},
   "outputs": [
    {
     "data": {
      "text/html": [
       "<div>\n",
       "<style scoped>\n",
       "    .dataframe tbody tr th:only-of-type {\n",
       "        vertical-align: middle;\n",
       "    }\n",
       "\n",
       "    .dataframe tbody tr th {\n",
       "        vertical-align: top;\n",
       "    }\n",
       "\n",
       "    .dataframe thead th {\n",
       "        text-align: right;\n",
       "    }\n",
       "</style>\n",
       "<table border=\"1\" class=\"dataframe\">\n",
       "  <thead>\n",
       "    <tr style=\"text-align: right;\">\n",
       "      <th></th>\n",
       "      <th>value</th>\n",
       "    </tr>\n",
       "  </thead>\n",
       "  <tbody>\n",
       "    <tr>\n",
       "      <th>2024-12-24</th>\n",
       "      <td>2</td>\n",
       "    </tr>\n",
       "    <tr>\n",
       "      <th>2024-12-25</th>\n",
       "      <td>22</td>\n",
       "    </tr>\n",
       "    <tr>\n",
       "      <th>2024-12-26</th>\n",
       "      <td>22</td>\n",
       "    </tr>\n",
       "    <tr>\n",
       "      <th>2024-12-27</th>\n",
       "      <td>27</td>\n",
       "    </tr>\n",
       "    <tr>\n",
       "      <th>2024-12-28</th>\n",
       "      <td>67</td>\n",
       "    </tr>\n",
       "    <tr>\n",
       "      <th>2024-12-29</th>\n",
       "      <td>85</td>\n",
       "    </tr>\n",
       "    <tr>\n",
       "      <th>2024-12-30</th>\n",
       "      <td>52</td>\n",
       "    </tr>\n",
       "    <tr>\n",
       "      <th>2024-12-31</th>\n",
       "      <td>24</td>\n",
       "    </tr>\n",
       "  </tbody>\n",
       "</table>\n",
       "</div>"
      ],
      "text/plain": [
       "            value\n",
       "2024-12-24      2\n",
       "2024-12-25     22\n",
       "2024-12-26     22\n",
       "2024-12-27     27\n",
       "2024-12-28     67\n",
       "2024-12-29     85\n",
       "2024-12-30     52\n",
       "2024-12-31     24"
      ]
     },
     "execution_count": 75,
     "metadata": {},
     "output_type": "execute_result"
    }
   ],
   "source": [
    "df.loc['2024-12-24': '2024-12-31']"
   ]
  },
  {
   "cell_type": "code",
   "execution_count": 80,
   "id": "0ca8cfc2-36b4-4098-aa37-b5272decb089",
   "metadata": {},
   "outputs": [
    {
     "data": {
      "text/plain": [
       "Index(['December', 'December', 'December', 'December', 'December', 'December',\n",
       "       'December', 'December', 'December', 'December', 'December', 'December',\n",
       "       'January', 'January', 'January', 'January', 'January', 'January',\n",
       "       'January', 'January', 'January', 'January'],\n",
       "      dtype='object')"
      ]
     },
     "execution_count": 80,
     "metadata": {},
     "output_type": "execute_result"
    }
   ],
   "source": [
    "df.index.month_name()  # 월의 이름이 숫자가 아닌 영어로 나옴"
   ]
  },
  {
   "cell_type": "code",
   "execution_count": 82,
   "id": "729efd0f-d9c1-4ca8-b0c0-92f68a1d8bf9",
   "metadata": {},
   "outputs": [
    {
     "data": {
      "text/plain": [
       "Index(['Friday', 'Saturday', 'Sunday', 'Monday', 'Tuesday', 'Wednesday',\n",
       "       'Thursday', 'Friday', 'Saturday', 'Sunday', 'Monday', 'Tuesday',\n",
       "       'Wednesday', 'Thursday', 'Friday', 'Saturday', 'Sunday', 'Monday',\n",
       "       'Tuesday', 'Wednesday', 'Thursday', 'Friday'],\n",
       "      dtype='object')"
      ]
     },
     "execution_count": 82,
     "metadata": {},
     "output_type": "execute_result"
    }
   ],
   "source": [
    "df.index.day_name()"
   ]
  },
  {
   "cell_type": "code",
   "execution_count": 85,
   "id": "7d8ceade-085e-4fe7-a82d-5e4115ef88f2",
   "metadata": {},
   "outputs": [
    {
     "data": {
      "text/plain": [
       "Int64Index([4, 5, 6, 0, 1, 2, 3, 4, 5, 6, 0, 1, 2, 3, 4, 5, 6, 0, 1, 2, 3, 4], dtype='int64')"
      ]
     },
     "execution_count": 85,
     "metadata": {},
     "output_type": "execute_result"
    }
   ],
   "source": [
    "# 0 = 월요일\n",
    "df.index.dayofweek"
   ]
  },
  {
   "cell_type": "code",
   "execution_count": 88,
   "id": "4f125d3c-4f5f-406e-bcea-72e52658650d",
   "metadata": {},
   "outputs": [
    {
     "data": {
      "text/html": [
       "<div>\n",
       "<style scoped>\n",
       "    .dataframe tbody tr th:only-of-type {\n",
       "        vertical-align: middle;\n",
       "    }\n",
       "\n",
       "    .dataframe tbody tr th {\n",
       "        vertical-align: top;\n",
       "    }\n",
       "\n",
       "    .dataframe thead th {\n",
       "        text-align: right;\n",
       "    }\n",
       "</style>\n",
       "<table border=\"1\" class=\"dataframe\">\n",
       "  <thead>\n",
       "    <tr style=\"text-align: right;\">\n",
       "      <th></th>\n",
       "      <th>value</th>\n",
       "    </tr>\n",
       "  </thead>\n",
       "  <tbody>\n",
       "    <tr>\n",
       "      <th>2025-01-10</th>\n",
       "      <td>67</td>\n",
       "    </tr>\n",
       "    <tr>\n",
       "      <th>2025-01-09</th>\n",
       "      <td>63</td>\n",
       "    </tr>\n",
       "    <tr>\n",
       "      <th>2025-01-08</th>\n",
       "      <td>24</td>\n",
       "    </tr>\n",
       "    <tr>\n",
       "      <th>2025-01-07</th>\n",
       "      <td>82</td>\n",
       "    </tr>\n",
       "    <tr>\n",
       "      <th>2025-01-06</th>\n",
       "      <td>4</td>\n",
       "    </tr>\n",
       "    <tr>\n",
       "      <th>2025-01-05</th>\n",
       "      <td>84</td>\n",
       "    </tr>\n",
       "    <tr>\n",
       "      <th>2025-01-04</th>\n",
       "      <td>1</td>\n",
       "    </tr>\n",
       "    <tr>\n",
       "      <th>2025-01-03</th>\n",
       "      <td>43</td>\n",
       "    </tr>\n",
       "    <tr>\n",
       "      <th>2025-01-02</th>\n",
       "      <td>54</td>\n",
       "    </tr>\n",
       "    <tr>\n",
       "      <th>2025-01-01</th>\n",
       "      <td>12</td>\n",
       "    </tr>\n",
       "    <tr>\n",
       "      <th>2024-12-31</th>\n",
       "      <td>24</td>\n",
       "    </tr>\n",
       "    <tr>\n",
       "      <th>2024-12-30</th>\n",
       "      <td>52</td>\n",
       "    </tr>\n",
       "    <tr>\n",
       "      <th>2024-12-29</th>\n",
       "      <td>85</td>\n",
       "    </tr>\n",
       "    <tr>\n",
       "      <th>2024-12-28</th>\n",
       "      <td>67</td>\n",
       "    </tr>\n",
       "    <tr>\n",
       "      <th>2024-12-27</th>\n",
       "      <td>27</td>\n",
       "    </tr>\n",
       "    <tr>\n",
       "      <th>2024-12-26</th>\n",
       "      <td>22</td>\n",
       "    </tr>\n",
       "    <tr>\n",
       "      <th>2024-12-25</th>\n",
       "      <td>22</td>\n",
       "    </tr>\n",
       "    <tr>\n",
       "      <th>2024-12-24</th>\n",
       "      <td>2</td>\n",
       "    </tr>\n",
       "    <tr>\n",
       "      <th>2024-12-23</th>\n",
       "      <td>51</td>\n",
       "    </tr>\n",
       "    <tr>\n",
       "      <th>2024-12-22</th>\n",
       "      <td>97</td>\n",
       "    </tr>\n",
       "    <tr>\n",
       "      <th>2024-12-21</th>\n",
       "      <td>49</td>\n",
       "    </tr>\n",
       "    <tr>\n",
       "      <th>2024-12-20</th>\n",
       "      <td>92</td>\n",
       "    </tr>\n",
       "  </tbody>\n",
       "</table>\n",
       "</div>"
      ],
      "text/plain": [
       "            value\n",
       "2025-01-10     67\n",
       "2025-01-09     63\n",
       "2025-01-08     24\n",
       "2025-01-07     82\n",
       "2025-01-06      4\n",
       "2025-01-05     84\n",
       "2025-01-04      1\n",
       "2025-01-03     43\n",
       "2025-01-02     54\n",
       "2025-01-01     12\n",
       "2024-12-31     24\n",
       "2024-12-30     52\n",
       "2024-12-29     85\n",
       "2024-12-28     67\n",
       "2024-12-27     27\n",
       "2024-12-26     22\n",
       "2024-12-25     22\n",
       "2024-12-24      2\n",
       "2024-12-23     51\n",
       "2024-12-22     97\n",
       "2024-12-21     49\n",
       "2024-12-20     92"
      ]
     },
     "execution_count": 88,
     "metadata": {},
     "output_type": "execute_result"
    }
   ],
   "source": [
    "df.sort_index(ascending = False)  # 날짜 내림차순"
   ]
  },
  {
   "cell_type": "markdown",
   "id": "ce92f8d3-6fec-486d-8cf5-304a7a0e6541",
   "metadata": {},
   "source": [
    "#### 4.2.5.4. 시계열 데이터 처리 및 시각화"
   ]
  },
  {
   "cell_type": "code",
   "execution_count": 89,
   "id": "f0c33227-f3ae-4032-9609-7038c296c697",
   "metadata": {},
   "outputs": [],
   "source": [
    "flights = sns.load_dataset('flights')"
   ]
  },
  {
   "cell_type": "code",
   "execution_count": 90,
   "id": "622d1f06-4551-4aed-af67-546a0c79ccf8",
   "metadata": {},
   "outputs": [
    {
     "name": "stdout",
     "output_type": "stream",
     "text": [
      "<class 'pandas.core.frame.DataFrame'>\n",
      "RangeIndex: 144 entries, 0 to 143\n",
      "Data columns (total 3 columns):\n",
      " #   Column      Non-Null Count  Dtype   \n",
      "---  ------      --------------  -----   \n",
      " 0   year        144 non-null    int64   \n",
      " 1   month       144 non-null    category\n",
      " 2   passengers  144 non-null    int64   \n",
      "dtypes: category(1), int64(2)\n",
      "memory usage: 2.9 KB\n"
     ]
    }
   ],
   "source": [
    "flights.info()"
   ]
  },
  {
   "cell_type": "code",
   "execution_count": 91,
   "id": "f3b0d18e-ca16-47ea-a66e-5d6e8c7e22fb",
   "metadata": {},
   "outputs": [
    {
     "data": {
      "text/plain": [
       "<bound method NDFrame.head of      year month  passengers\n",
       "0    1949   Jan         112\n",
       "1    1949   Feb         118\n",
       "2    1949   Mar         132\n",
       "3    1949   Apr         129\n",
       "4    1949   May         121\n",
       "..    ...   ...         ...\n",
       "139  1960   Aug         606\n",
       "140  1960   Sep         508\n",
       "141  1960   Oct         461\n",
       "142  1960   Nov         390\n",
       "143  1960   Dec         432\n",
       "\n",
       "[144 rows x 3 columns]>"
      ]
     },
     "execution_count": 91,
     "metadata": {},
     "output_type": "execute_result"
    }
   ],
   "source": [
    "flights.head"
   ]
  },
  {
   "cell_type": "code",
   "execution_count": 100,
   "id": "8285027c-84ae-4bc8-854f-5846c64fec3c",
   "metadata": {},
   "outputs": [
    {
     "data": {
      "text/plain": [
       "0      1949-Jan\n",
       "1      1949-Feb\n",
       "2      1949-Mar\n",
       "3      1949-Apr\n",
       "4      1949-May\n",
       "         ...   \n",
       "139    1960-Aug\n",
       "140    1960-Sep\n",
       "141    1960-Oct\n",
       "142    1960-Nov\n",
       "143    1960-Dec\n",
       "Length: 144, dtype: object"
      ]
     },
     "execution_count": 100,
     "metadata": {},
     "output_type": "execute_result"
    }
   ],
   "source": [
    "flights['year'].astype(str) + '-' + flights['month'].astype(str)"
   ]
  },
  {
   "cell_type": "code",
   "execution_count": 103,
   "id": "957e749c-5a1a-49f0-8b40-97791385bd14",
   "metadata": {},
   "outputs": [
    {
     "data": {
      "text/html": [
       "<div>\n",
       "<style scoped>\n",
       "    .dataframe tbody tr th:only-of-type {\n",
       "        vertical-align: middle;\n",
       "    }\n",
       "\n",
       "    .dataframe tbody tr th {\n",
       "        vertical-align: top;\n",
       "    }\n",
       "\n",
       "    .dataframe thead th {\n",
       "        text-align: right;\n",
       "    }\n",
       "</style>\n",
       "<table border=\"1\" class=\"dataframe\">\n",
       "  <thead>\n",
       "    <tr style=\"text-align: right;\">\n",
       "      <th></th>\n",
       "      <th>year</th>\n",
       "      <th>month</th>\n",
       "      <th>passengers</th>\n",
       "      <th>date</th>\n",
       "    </tr>\n",
       "  </thead>\n",
       "  <tbody>\n",
       "    <tr>\n",
       "      <th>0</th>\n",
       "      <td>1949</td>\n",
       "      <td>Jan</td>\n",
       "      <td>112</td>\n",
       "      <td>1949-01-01</td>\n",
       "    </tr>\n",
       "    <tr>\n",
       "      <th>1</th>\n",
       "      <td>1949</td>\n",
       "      <td>Feb</td>\n",
       "      <td>118</td>\n",
       "      <td>1949-02-01</td>\n",
       "    </tr>\n",
       "    <tr>\n",
       "      <th>2</th>\n",
       "      <td>1949</td>\n",
       "      <td>Mar</td>\n",
       "      <td>132</td>\n",
       "      <td>1949-03-01</td>\n",
       "    </tr>\n",
       "    <tr>\n",
       "      <th>3</th>\n",
       "      <td>1949</td>\n",
       "      <td>Apr</td>\n",
       "      <td>129</td>\n",
       "      <td>1949-04-01</td>\n",
       "    </tr>\n",
       "    <tr>\n",
       "      <th>4</th>\n",
       "      <td>1949</td>\n",
       "      <td>May</td>\n",
       "      <td>121</td>\n",
       "      <td>1949-05-01</td>\n",
       "    </tr>\n",
       "  </tbody>\n",
       "</table>\n",
       "</div>"
      ],
      "text/plain": [
       "   year month  passengers       date\n",
       "0  1949   Jan         112 1949-01-01\n",
       "1  1949   Feb         118 1949-02-01\n",
       "2  1949   Mar         132 1949-03-01\n",
       "3  1949   Apr         129 1949-04-01\n",
       "4  1949   May         121 1949-05-01"
      ]
     },
     "execution_count": 103,
     "metadata": {},
     "output_type": "execute_result"
    }
   ],
   "source": [
    "flights['date'] = pd.to_datetime(flights['year'].astype(str) + '-' + flights['month'].astype(str), format=\"%Y-%b\")\n",
    "flights.head()"
   ]
  },
  {
   "cell_type": "code",
   "execution_count": 105,
   "id": "7cdb3809-fa48-4ac2-b31c-f9b3af83aeef",
   "metadata": {},
   "outputs": [],
   "source": [
    "flights.set_index('date', inplace = True)"
   ]
  },
  {
   "cell_type": "code",
   "execution_count": 108,
   "id": "4c12c845-5560-4310-97b7-8118236f49b0",
   "metadata": {},
   "outputs": [],
   "source": [
    "flights.drop(['year', 'month'], axis = 1, inplace = True) "
   ]
  },
  {
   "cell_type": "code",
   "execution_count": 109,
   "id": "f6806e55-f77f-44c6-9926-6e1a7dd81049",
   "metadata": {},
   "outputs": [
    {
     "data": {
      "text/html": [
       "<div>\n",
       "<style scoped>\n",
       "    .dataframe tbody tr th:only-of-type {\n",
       "        vertical-align: middle;\n",
       "    }\n",
       "\n",
       "    .dataframe tbody tr th {\n",
       "        vertical-align: top;\n",
       "    }\n",
       "\n",
       "    .dataframe thead th {\n",
       "        text-align: right;\n",
       "    }\n",
       "</style>\n",
       "<table border=\"1\" class=\"dataframe\">\n",
       "  <thead>\n",
       "    <tr style=\"text-align: right;\">\n",
       "      <th></th>\n",
       "      <th>passengers</th>\n",
       "    </tr>\n",
       "    <tr>\n",
       "      <th>date</th>\n",
       "      <th></th>\n",
       "    </tr>\n",
       "  </thead>\n",
       "  <tbody>\n",
       "    <tr>\n",
       "      <th>1949-01-01</th>\n",
       "      <td>112</td>\n",
       "    </tr>\n",
       "    <tr>\n",
       "      <th>1949-02-01</th>\n",
       "      <td>118</td>\n",
       "    </tr>\n",
       "    <tr>\n",
       "      <th>1949-03-01</th>\n",
       "      <td>132</td>\n",
       "    </tr>\n",
       "    <tr>\n",
       "      <th>1949-04-01</th>\n",
       "      <td>129</td>\n",
       "    </tr>\n",
       "    <tr>\n",
       "      <th>1949-05-01</th>\n",
       "      <td>121</td>\n",
       "    </tr>\n",
       "  </tbody>\n",
       "</table>\n",
       "</div>"
      ],
      "text/plain": [
       "            passengers\n",
       "date                  \n",
       "1949-01-01         112\n",
       "1949-02-01         118\n",
       "1949-03-01         132\n",
       "1949-04-01         129\n",
       "1949-05-01         121"
      ]
     },
     "execution_count": 109,
     "metadata": {},
     "output_type": "execute_result"
    }
   ],
   "source": [
    "flights.head()"
   ]
  },
  {
   "cell_type": "code",
   "execution_count": 122,
   "id": "05fc490c-5a5d-49e3-933c-eea5870a964c",
   "metadata": {},
   "outputs": [],
   "source": [
    "# 리샘플링: 월별 데이터 -> 연간 데이터(연도별 총합)\n",
    "annual_passengers =  flights.resample('Y').sum()"
   ]
  },
  {
   "cell_type": "code",
   "execution_count": 128,
   "id": "e9524097-0032-489f-8298-6e6e295c1e2e",
   "metadata": {},
   "outputs": [],
   "source": [
    "# 시간 이동: 직전 분시ㅡ대비 승객 수 증감률\n",
    "# ((현재 분기 승객 수) - (직전 분기 승객 수)) / (직전 분기 승객 수) * 100\n",
    "quarterly = flights ['passengers'].resample('Q').sum()\n",
    "previous_quarter = quarterly.shift(1)\n",
    "change_rate = (quarterly-previous_quarter) / previous_quarter * 100"
   ]
  },
  {
   "cell_type": "code",
   "execution_count": 131,
   "id": "31ac8d3a-e3a2-449b-9351-20b7b5021c73",
   "metadata": {},
   "outputs": [
    {
     "data": {
      "text/html": [
       "<div>\n",
       "<style scoped>\n",
       "    .dataframe tbody tr th:only-of-type {\n",
       "        vertical-align: middle;\n",
       "    }\n",
       "\n",
       "    .dataframe tbody tr th {\n",
       "        vertical-align: top;\n",
       "    }\n",
       "\n",
       "    .dataframe thead th {\n",
       "        text-align: right;\n",
       "    }\n",
       "</style>\n",
       "<table border=\"1\" class=\"dataframe\">\n",
       "  <thead>\n",
       "    <tr style=\"text-align: right;\">\n",
       "      <th></th>\n",
       "      <th>quarterly_passengers</th>\n",
       "      <th>previous_quarter</th>\n",
       "      <th>change_rete</th>\n",
       "    </tr>\n",
       "    <tr>\n",
       "      <th>date</th>\n",
       "      <th></th>\n",
       "      <th></th>\n",
       "      <th></th>\n",
       "    </tr>\n",
       "  </thead>\n",
       "  <tbody>\n",
       "    <tr>\n",
       "      <th>1949-03-31</th>\n",
       "      <td>362</td>\n",
       "      <td>NaN</td>\n",
       "      <td>NaN</td>\n",
       "    </tr>\n",
       "    <tr>\n",
       "      <th>1949-06-30</th>\n",
       "      <td>385</td>\n",
       "      <td>362.0</td>\n",
       "      <td>6.353591</td>\n",
       "    </tr>\n",
       "    <tr>\n",
       "      <th>1949-09-30</th>\n",
       "      <td>432</td>\n",
       "      <td>385.0</td>\n",
       "      <td>12.207792</td>\n",
       "    </tr>\n",
       "    <tr>\n",
       "      <th>1949-12-31</th>\n",
       "      <td>341</td>\n",
       "      <td>432.0</td>\n",
       "      <td>-21.064815</td>\n",
       "    </tr>\n",
       "    <tr>\n",
       "      <th>1950-03-31</th>\n",
       "      <td>382</td>\n",
       "      <td>341.0</td>\n",
       "      <td>12.023460</td>\n",
       "    </tr>\n",
       "    <tr>\n",
       "      <th>1950-06-30</th>\n",
       "      <td>409</td>\n",
       "      <td>382.0</td>\n",
       "      <td>7.068063</td>\n",
       "    </tr>\n",
       "    <tr>\n",
       "      <th>1950-09-30</th>\n",
       "      <td>498</td>\n",
       "      <td>409.0</td>\n",
       "      <td>21.760391</td>\n",
       "    </tr>\n",
       "    <tr>\n",
       "      <th>1950-12-31</th>\n",
       "      <td>387</td>\n",
       "      <td>498.0</td>\n",
       "      <td>-22.289157</td>\n",
       "    </tr>\n",
       "    <tr>\n",
       "      <th>1951-03-31</th>\n",
       "      <td>473</td>\n",
       "      <td>387.0</td>\n",
       "      <td>22.222222</td>\n",
       "    </tr>\n",
       "    <tr>\n",
       "      <th>1951-06-30</th>\n",
       "      <td>513</td>\n",
       "      <td>473.0</td>\n",
       "      <td>8.456660</td>\n",
       "    </tr>\n",
       "    <tr>\n",
       "      <th>1951-09-30</th>\n",
       "      <td>582</td>\n",
       "      <td>513.0</td>\n",
       "      <td>13.450292</td>\n",
       "    </tr>\n",
       "    <tr>\n",
       "      <th>1951-12-31</th>\n",
       "      <td>474</td>\n",
       "      <td>582.0</td>\n",
       "      <td>-18.556701</td>\n",
       "    </tr>\n",
       "    <tr>\n",
       "      <th>1952-03-31</th>\n",
       "      <td>544</td>\n",
       "      <td>474.0</td>\n",
       "      <td>14.767932</td>\n",
       "    </tr>\n",
       "    <tr>\n",
       "      <th>1952-06-30</th>\n",
       "      <td>582</td>\n",
       "      <td>544.0</td>\n",
       "      <td>6.985294</td>\n",
       "    </tr>\n",
       "    <tr>\n",
       "      <th>1952-09-30</th>\n",
       "      <td>681</td>\n",
       "      <td>582.0</td>\n",
       "      <td>17.010309</td>\n",
       "    </tr>\n",
       "    <tr>\n",
       "      <th>1952-12-31</th>\n",
       "      <td>557</td>\n",
       "      <td>681.0</td>\n",
       "      <td>-18.208517</td>\n",
       "    </tr>\n",
       "    <tr>\n",
       "      <th>1953-03-31</th>\n",
       "      <td>628</td>\n",
       "      <td>557.0</td>\n",
       "      <td>12.746858</td>\n",
       "    </tr>\n",
       "    <tr>\n",
       "      <th>1953-06-30</th>\n",
       "      <td>707</td>\n",
       "      <td>628.0</td>\n",
       "      <td>12.579618</td>\n",
       "    </tr>\n",
       "    <tr>\n",
       "      <th>1953-09-30</th>\n",
       "      <td>773</td>\n",
       "      <td>707.0</td>\n",
       "      <td>9.335219</td>\n",
       "    </tr>\n",
       "    <tr>\n",
       "      <th>1953-12-31</th>\n",
       "      <td>592</td>\n",
       "      <td>773.0</td>\n",
       "      <td>-23.415265</td>\n",
       "    </tr>\n",
       "    <tr>\n",
       "      <th>1954-03-31</th>\n",
       "      <td>627</td>\n",
       "      <td>592.0</td>\n",
       "      <td>5.912162</td>\n",
       "    </tr>\n",
       "    <tr>\n",
       "      <th>1954-06-30</th>\n",
       "      <td>725</td>\n",
       "      <td>627.0</td>\n",
       "      <td>15.629984</td>\n",
       "    </tr>\n",
       "    <tr>\n",
       "      <th>1954-09-30</th>\n",
       "      <td>854</td>\n",
       "      <td>725.0</td>\n",
       "      <td>17.793103</td>\n",
       "    </tr>\n",
       "    <tr>\n",
       "      <th>1954-12-31</th>\n",
       "      <td>661</td>\n",
       "      <td>854.0</td>\n",
       "      <td>-22.599532</td>\n",
       "    </tr>\n",
       "    <tr>\n",
       "      <th>1955-03-31</th>\n",
       "      <td>742</td>\n",
       "      <td>661.0</td>\n",
       "      <td>12.254160</td>\n",
       "    </tr>\n",
       "    <tr>\n",
       "      <th>1955-06-30</th>\n",
       "      <td>854</td>\n",
       "      <td>742.0</td>\n",
       "      <td>15.094340</td>\n",
       "    </tr>\n",
       "    <tr>\n",
       "      <th>1955-09-30</th>\n",
       "      <td>1023</td>\n",
       "      <td>854.0</td>\n",
       "      <td>19.789227</td>\n",
       "    </tr>\n",
       "    <tr>\n",
       "      <th>1955-12-31</th>\n",
       "      <td>789</td>\n",
       "      <td>1023.0</td>\n",
       "      <td>-22.873900</td>\n",
       "    </tr>\n",
       "    <tr>\n",
       "      <th>1956-03-31</th>\n",
       "      <td>878</td>\n",
       "      <td>789.0</td>\n",
       "      <td>11.280101</td>\n",
       "    </tr>\n",
       "    <tr>\n",
       "      <th>1956-06-30</th>\n",
       "      <td>1005</td>\n",
       "      <td>878.0</td>\n",
       "      <td>14.464692</td>\n",
       "    </tr>\n",
       "    <tr>\n",
       "      <th>1956-09-30</th>\n",
       "      <td>1173</td>\n",
       "      <td>1005.0</td>\n",
       "      <td>16.716418</td>\n",
       "    </tr>\n",
       "    <tr>\n",
       "      <th>1956-12-31</th>\n",
       "      <td>883</td>\n",
       "      <td>1173.0</td>\n",
       "      <td>-24.722933</td>\n",
       "    </tr>\n",
       "    <tr>\n",
       "      <th>1957-03-31</th>\n",
       "      <td>972</td>\n",
       "      <td>883.0</td>\n",
       "      <td>10.079275</td>\n",
       "    </tr>\n",
       "    <tr>\n",
       "      <th>1957-06-30</th>\n",
       "      <td>1125</td>\n",
       "      <td>972.0</td>\n",
       "      <td>15.740741</td>\n",
       "    </tr>\n",
       "    <tr>\n",
       "      <th>1957-09-30</th>\n",
       "      <td>1336</td>\n",
       "      <td>1125.0</td>\n",
       "      <td>18.755556</td>\n",
       "    </tr>\n",
       "    <tr>\n",
       "      <th>1957-12-31</th>\n",
       "      <td>988</td>\n",
       "      <td>1336.0</td>\n",
       "      <td>-26.047904</td>\n",
       "    </tr>\n",
       "    <tr>\n",
       "      <th>1958-03-31</th>\n",
       "      <td>1020</td>\n",
       "      <td>988.0</td>\n",
       "      <td>3.238866</td>\n",
       "    </tr>\n",
       "    <tr>\n",
       "      <th>1958-06-30</th>\n",
       "      <td>1146</td>\n",
       "      <td>1020.0</td>\n",
       "      <td>12.352941</td>\n",
       "    </tr>\n",
       "    <tr>\n",
       "      <th>1958-09-30</th>\n",
       "      <td>1400</td>\n",
       "      <td>1146.0</td>\n",
       "      <td>22.164049</td>\n",
       "    </tr>\n",
       "    <tr>\n",
       "      <th>1958-12-31</th>\n",
       "      <td>1006</td>\n",
       "      <td>1400.0</td>\n",
       "      <td>-28.142857</td>\n",
       "    </tr>\n",
       "    <tr>\n",
       "      <th>1959-03-31</th>\n",
       "      <td>1108</td>\n",
       "      <td>1006.0</td>\n",
       "      <td>10.139165</td>\n",
       "    </tr>\n",
       "    <tr>\n",
       "      <th>1959-06-30</th>\n",
       "      <td>1288</td>\n",
       "      <td>1108.0</td>\n",
       "      <td>16.245487</td>\n",
       "    </tr>\n",
       "    <tr>\n",
       "      <th>1959-09-30</th>\n",
       "      <td>1570</td>\n",
       "      <td>1288.0</td>\n",
       "      <td>21.894410</td>\n",
       "    </tr>\n",
       "    <tr>\n",
       "      <th>1959-12-31</th>\n",
       "      <td>1174</td>\n",
       "      <td>1570.0</td>\n",
       "      <td>-25.222930</td>\n",
       "    </tr>\n",
       "    <tr>\n",
       "      <th>1960-03-31</th>\n",
       "      <td>1227</td>\n",
       "      <td>1174.0</td>\n",
       "      <td>4.514480</td>\n",
       "    </tr>\n",
       "    <tr>\n",
       "      <th>1960-06-30</th>\n",
       "      <td>1468</td>\n",
       "      <td>1227.0</td>\n",
       "      <td>19.641402</td>\n",
       "    </tr>\n",
       "    <tr>\n",
       "      <th>1960-09-30</th>\n",
       "      <td>1736</td>\n",
       "      <td>1468.0</td>\n",
       "      <td>18.256131</td>\n",
       "    </tr>\n",
       "    <tr>\n",
       "      <th>1960-12-31</th>\n",
       "      <td>1283</td>\n",
       "      <td>1736.0</td>\n",
       "      <td>-26.094470</td>\n",
       "    </tr>\n",
       "  </tbody>\n",
       "</table>\n",
       "</div>"
      ],
      "text/plain": [
       "            quarterly_passengers  previous_quarter  change_rete\n",
       "date                                                           \n",
       "1949-03-31                   362               NaN          NaN\n",
       "1949-06-30                   385             362.0     6.353591\n",
       "1949-09-30                   432             385.0    12.207792\n",
       "1949-12-31                   341             432.0   -21.064815\n",
       "1950-03-31                   382             341.0    12.023460\n",
       "1950-06-30                   409             382.0     7.068063\n",
       "1950-09-30                   498             409.0    21.760391\n",
       "1950-12-31                   387             498.0   -22.289157\n",
       "1951-03-31                   473             387.0    22.222222\n",
       "1951-06-30                   513             473.0     8.456660\n",
       "1951-09-30                   582             513.0    13.450292\n",
       "1951-12-31                   474             582.0   -18.556701\n",
       "1952-03-31                   544             474.0    14.767932\n",
       "1952-06-30                   582             544.0     6.985294\n",
       "1952-09-30                   681             582.0    17.010309\n",
       "1952-12-31                   557             681.0   -18.208517\n",
       "1953-03-31                   628             557.0    12.746858\n",
       "1953-06-30                   707             628.0    12.579618\n",
       "1953-09-30                   773             707.0     9.335219\n",
       "1953-12-31                   592             773.0   -23.415265\n",
       "1954-03-31                   627             592.0     5.912162\n",
       "1954-06-30                   725             627.0    15.629984\n",
       "1954-09-30                   854             725.0    17.793103\n",
       "1954-12-31                   661             854.0   -22.599532\n",
       "1955-03-31                   742             661.0    12.254160\n",
       "1955-06-30                   854             742.0    15.094340\n",
       "1955-09-30                  1023             854.0    19.789227\n",
       "1955-12-31                   789            1023.0   -22.873900\n",
       "1956-03-31                   878             789.0    11.280101\n",
       "1956-06-30                  1005             878.0    14.464692\n",
       "1956-09-30                  1173            1005.0    16.716418\n",
       "1956-12-31                   883            1173.0   -24.722933\n",
       "1957-03-31                   972             883.0    10.079275\n",
       "1957-06-30                  1125             972.0    15.740741\n",
       "1957-09-30                  1336            1125.0    18.755556\n",
       "1957-12-31                   988            1336.0   -26.047904\n",
       "1958-03-31                  1020             988.0     3.238866\n",
       "1958-06-30                  1146            1020.0    12.352941\n",
       "1958-09-30                  1400            1146.0    22.164049\n",
       "1958-12-31                  1006            1400.0   -28.142857\n",
       "1959-03-31                  1108            1006.0    10.139165\n",
       "1959-06-30                  1288            1108.0    16.245487\n",
       "1959-09-30                  1570            1288.0    21.894410\n",
       "1959-12-31                  1174            1570.0   -25.222930\n",
       "1960-03-31                  1227            1174.0     4.514480\n",
       "1960-06-30                  1468            1227.0    19.641402\n",
       "1960-09-30                  1736            1468.0    18.256131\n",
       "1960-12-31                  1283            1736.0   -26.094470"
      ]
     },
     "execution_count": 131,
     "metadata": {},
     "output_type": "execute_result"
    }
   ],
   "source": [
    "quarterly_df = pd.DataFrame({\n",
    "    'quarterly_passengers' : quarterly,\n",
    "    'previous_quarter' : previous_quarter,\n",
    "    'change_rete' : change_rate\n",
    "})\n",
    "\n",
    "quarterly_df"
   ]
  },
  {
   "cell_type": "code",
   "execution_count": 134,
   "id": "8cd8edbc-034f-46c0-84a4-e64262ce10b0",
   "metadata": {},
   "outputs": [],
   "source": [
    "# 롤링 윈도우: 12개월 단순 이동 평균\n",
    "flights['moving_avg_12months'] = flights['passengers'].rolling(window = 12).mean()"
   ]
  }
 ],
 "metadata": {
  "kernelspec": {
   "display_name": "Python 3",
   "language": "python",
   "name": "python3"
  },
  "language_info": {
   "codemirror_mode": {
    "name": "ipython",
    "version": 3
   },
   "file_extension": ".py",
   "mimetype": "text/x-python",
   "name": "python",
   "nbconvert_exporter": "python",
   "pygments_lexer": "ipython3",
   "version": "3.8.8"
  }
 },
 "nbformat": 4,
 "nbformat_minor": 5
}
