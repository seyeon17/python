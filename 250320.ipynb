{
 "cells": [
  {
   "cell_type": "code",
   "execution_count": null,
   "id": "00d1c6c3-0f91-4a01-bce1-ad75ee3d9c05",
   "metadata": {},
   "outputs": [],
   "source": [
    "# 1~100 정수의 합 계산\n",
    "sum = 0\n",
    "num = 1\n",
    "\n",
    "\n",
    "while 조건식:\n",
    "    sum = sum + 변수(1,2,3,4,...,100)\n",
    "    \n",
    "    첫번째 반복에서는 sum = 1\n",
    "    두번째 반복에서는 sum = sum + 2\n",
    "    세번째 반복에서는 sum = sum + 3"
   ]
  },
  {
   "cell_type": "code",
   "execution_count": 1,
   "id": "ab7dd8d1-ad8b-479e-ac27-780f9e1276b4",
   "metadata": {},
   "outputs": [
    {
     "name": "stdout",
     "output_type": "stream",
     "text": [
      "5050\n"
     ]
    }
   ],
   "source": [
    "# 1~100 정수의 합 계산\n",
    "sum = 0\n",
    "num = 1\n",
    "\n",
    "\n",
    "while num <= 100:\n",
    "    sum += num\n",
    "    num += 1\n",
    "    \n",
    "print(sum)"
   ]
  },
  {
   "cell_type": "code",
   "execution_count": 3,
   "id": "8af0e0b8-2404-4bf2-9090-b5301a341800",
   "metadata": {},
   "outputs": [
    {
     "name": "stdout",
     "output_type": "stream",
     "text": [
      "9 x 1 = 9\n",
      "9 x 2 = 18\n",
      "9 x 3 = 27\n",
      "9 x 4 = 36\n",
      "9 x 5 = 45\n",
      "9 x 6 = 54\n",
      "9 x 7 = 63\n",
      "9 x 8 = 72\n",
      "9 x 9 = 81\n"
     ]
    }
   ],
   "source": [
    "# 구구단 9단 출력\n",
    "num = 1\n",
    "\n",
    "while num <= 9:\n",
    "    print(f'9 x {num} = {9*num}')\n",
    "    num += 1"
   ]
  },
  {
   "cell_type": "markdown",
   "id": "b6c78e82-13b7-4d47-93c7-6488670d890b",
   "metadata": {},
   "source": [
    "<b> 2.4. 함수"
   ]
  },
  {
   "cell_type": "code",
   "execution_count": 5,
   "id": "d4113c5f-3b14-45d1-8a71-ab7933dd58f8",
   "metadata": {},
   "outputs": [
    {
     "ename": "NameError",
     "evalue": "name 'x' is not defined",
     "output_type": "error",
     "traceback": [
      "\u001b[1;31m---------------------------------------------------------------------------\u001b[0m",
      "\u001b[1;31mNameError\u001b[0m                                 Traceback (most recent call last)",
      "\u001b[1;32m<ipython-input-5-d7052409292c>\u001b[0m in \u001b[0;36m<module>\u001b[1;34m\u001b[0m\n\u001b[0;32m      6\u001b[0m \u001b[0madd1\u001b[0m\u001b[1;33m(\u001b[0m\u001b[1;36m1\u001b[0m\u001b[1;33m,\u001b[0m\u001b[1;36m2\u001b[0m\u001b[1;33m)\u001b[0m\u001b[1;33m\u001b[0m\u001b[1;33m\u001b[0m\u001b[0m\n\u001b[0;32m      7\u001b[0m \u001b[1;33m\u001b[0m\u001b[0m\n\u001b[1;32m----> 8\u001b[1;33m \u001b[0mprint\u001b[0m\u001b[1;33m(\u001b[0m\u001b[0mx\u001b[0m\u001b[1;33m)\u001b[0m\u001b[1;33m\u001b[0m\u001b[1;33m\u001b[0m\u001b[0m\n\u001b[0m\u001b[0;32m      9\u001b[0m \u001b[0mprint\u001b[0m\u001b[1;33m(\u001b[0m\u001b[0my\u001b[0m\u001b[1;33m)\u001b[0m\u001b[1;33m\u001b[0m\u001b[1;33m\u001b[0m\u001b[0m\n",
      "\u001b[1;31mNameError\u001b[0m: name 'x' is not defined"
     ]
    }
   ],
   "source": [
    "# 함수정의\n",
    "def add1(x, y):\n",
    "    sum = x + y\n",
    "    return sum\n",
    "\n",
    "add1(1,2)\n",
    "\n",
    "# print(x) 1과 2가 출력되지 않음...\n",
    "# print(y) 이 함수 내에서만 사용할 수 있는 변수여서 출력되지 않는 것.\n"
   ]
  },
  {
   "cell_type": "code",
   "execution_count": 6,
   "id": "2682f193-c111-4a04-a58c-5937801dc2e6",
   "metadata": {},
   "outputs": [
    {
     "name": "stdout",
     "output_type": "stream",
     "text": [
      "함수 호출 전입니다.\n",
      "Hello!\n",
      "함수 호출 후입니다.\n"
     ]
    }
   ],
   "source": [
    "# 매개변수 X, 반환값 X\n",
    "def func():\n",
    "    print(\"Hello!\")\n",
    "    \n",
    "print(\"함수 호출 전입니다.\")\n",
    "func()\n",
    "print(\"함수 호출 후입니다.\")"
   ]
  },
  {
   "cell_type": "code",
   "execution_count": 8,
   "id": "770f2144-fde2-40cd-9cb8-6ea4c7f2297d",
   "metadata": {},
   "outputs": [
    {
     "name": "stdout",
     "output_type": "stream",
     "text": [
      "30\n"
     ]
    }
   ],
   "source": [
    "# 매개변수 O, 반환값 X\n",
    "def add1(x,y):\n",
    "    print(x+y)\n",
    "    \n",
    "add1(10,20)\n"
   ]
  },
  {
   "cell_type": "code",
   "execution_count": 9,
   "id": "96a56ad6-cdb8-424c-bd9d-ee1a78c4218b",
   "metadata": {},
   "outputs": [
    {
     "name": "stdout",
     "output_type": "stream",
     "text": [
      "30\n",
      "None\n"
     ]
    }
   ],
   "source": [
    "def add1(x,y):\n",
    "    print(x+y)\n",
    "    \n",
    "res1 = add1(10,20)\n",
    "print(res1)"
   ]
  },
  {
   "cell_type": "code",
   "execution_count": 10,
   "id": "d968b88a-8308-43d2-97d9-994d82902d38",
   "metadata": {},
   "outputs": [
    {
     "data": {
      "text/plain": [
       "30"
      ]
     },
     "execution_count": 10,
     "metadata": {},
     "output_type": "execute_result"
    }
   ],
   "source": [
    "# 매개변수 O, 반환값 O\n",
    "def add2(x,y):\n",
    "    return x+y\n",
    "\n",
    "add2(10,20)  "
   ]
  },
  {
   "cell_type": "code",
   "execution_count": 11,
   "id": "1aa9b8ab-91e4-48b7-87c9-fe131d0eba71",
   "metadata": {},
   "outputs": [
    {
     "name": "stdout",
     "output_type": "stream",
     "text": [
      "30\n"
     ]
    }
   ],
   "source": [
    "# 매개변수 O, 반환값 O\n",
    "def add2(x,y):\n",
    "    return x+y\n",
    "res2 = add2(10,20)\n",
    "print(res2)"
   ]
  },
  {
   "cell_type": "code",
   "execution_count": 13,
   "id": "988f35eb-bcf3-4adf-bbd4-e3c12a2f6057",
   "metadata": {},
   "outputs": [
    {
     "name": "stdout",
     "output_type": "stream",
     "text": [
      "5\n",
      "5\n",
      "5\n"
     ]
    }
   ],
   "source": [
    "# 매개변수 X, 반환값 O\n",
    "# y = 5\n",
    "\n",
    "def func1():\n",
    "    return 5\n",
    "\n",
    "print(func1())\n",
    "print(func1())\n",
    "print(func1())"
   ]
  },
  {
   "cell_type": "code",
   "execution_count": 14,
   "id": "04818fc9-6757-4c93-958e-2816ba5bf5d6",
   "metadata": {},
   "outputs": [
    {
     "data": {
      "text/plain": [
       "37.77777777777778"
      ]
     },
     "execution_count": 14,
     "metadata": {},
     "output_type": "execute_result"
    }
   ],
   "source": [
    "## 화씨온도를 섭씨온도로 변환하는 함수\n",
    "# (섭씨온도) = (화씨온도 - 32) × 5/9\n",
    "def f_to_c(fahrenheit):\n",
    "    return (fahrenheit-32) * 5/9\n",
    "\n",
    "f_to_c(100)"
   ]
  },
  {
   "cell_type": "markdown",
   "id": "5a3a8724-bbb3-4b9b-b4f3-cbdd1342d7c9",
   "metadata": {},
   "source": [
    "<b> 2.5. 문자열"
   ]
  },
  {
   "cell_type": "code",
   "execution_count": 16,
   "id": "1fb3bd47-5c2b-4e02-829c-68cfc32db377",
   "metadata": {},
   "outputs": [
    {
     "name": "stdout",
     "output_type": "stream",
     "text": [
      "안녕하세요\n",
      "Hello\n"
     ]
    }
   ],
   "source": [
    "# 문자열 생성\n",
    "print(\"안녕하세요\")\n",
    "print(\"Hello\")"
   ]
  },
  {
   "cell_type": "code",
   "execution_count": 19,
   "id": "7c440226-5d6c-4e1a-be72-91515fc5e35f",
   "metadata": {},
   "outputs": [
    {
     "name": "stdout",
     "output_type": "stream",
     "text": [
      "\"안녕하세요\"라고 말했습니다.\n",
      "'날씨가 좋다'라고 생각했습니다.\n"
     ]
    }
   ],
   "source": [
    "# 문자열 내부에 따옴표 넣기\n",
    "print('\"안녕하세요\"라고 말했습니다.')\n",
    "print(\"'날씨가 좋다'라고 생각했습니다.\")"
   ]
  },
  {
   "cell_type": "code",
   "execution_count": 21,
   "id": "a4fd5df6-e45a-494e-b134-fd52d3493668",
   "metadata": {},
   "outputs": [
    {
     "name": "stdout",
     "output_type": "stream",
     "text": [
      "\"안녕하세요\"라고 말했습니다.\n",
      "'날씨가 좋다'라고 생각했습니다.\n"
     ]
    }
   ],
   "source": [
    "# escape 문자 사용1 역슬러시는 원화기호\n",
    "print(\"\\\"안녕하세요\\\"라고 말했습니다.\")\n",
    "print('\\'날씨가 좋다\\'라고 생각했습니다.')"
   ]
  },
  {
   "cell_type": "code",
   "execution_count": 22,
   "id": "aff900d7-1e91-4a0f-a795-633a2e8bacfb",
   "metadata": {},
   "outputs": [
    {
     "name": "stdout",
     "output_type": "stream",
     "text": [
      "Hello\n",
      "World\n"
     ]
    }
   ],
   "source": [
    "# 이스케이프 문자 사용2\n",
    "print(\"Hello\\nWorld\")"
   ]
  },
  {
   "cell_type": "code",
   "execution_count": 23,
   "id": "c4e61a87-03d4-44a4-871a-2328e2fa16a0",
   "metadata": {},
   "outputs": [
    {
     "name": "stdout",
     "output_type": "stream",
     "text": [
      "Hello\tWorld\n"
     ]
    }
   ],
   "source": [
    "# 이스케이프 문자 사용3\n",
    "print(\"Hello\\tWorld\")"
   ]
  },
  {
   "cell_type": "code",
   "execution_count": 25,
   "id": "561e46fe-2ec1-47a6-b7d9-71c26f2a6576",
   "metadata": {},
   "outputs": [
    {
     "name": "stdout",
     "output_type": "stream",
     "text": [
      "동해물과 백두산이 마르고 닳도록\n",
      "하느님이 보우하사 우리나라 만세\n",
      "무궁화 삼천리 화려강산\n",
      "대한사람 대한으로 길이 보전하세\n"
     ]
    }
   ],
   "source": [
    "# 여러 줄 문자열 만들기 : 세 번 반복한 따옴표로 감쌈 작은따옴표 큰 따옴표 상관없.\n",
    "print(\"\"\"동해물과 백두산이 마르고 닳도록\n",
    "하느님이 보우하사 우리나라 만세\n",
    "무궁화 삼천리 화려강산\n",
    "대한사람 대한으로 길이 보전하세\"\"\")"
   ]
  },
  {
   "cell_type": "code",
   "execution_count": 28,
   "id": "bd22ee2d-c90e-47b8-8a2d-9d674bd9d945",
   "metadata": {},
   "outputs": [
    {
     "name": "stdout",
     "output_type": "stream",
     "text": [
      "Hello World\n"
     ]
    }
   ],
   "source": [
    "# 문자열 연결\n",
    "print(\"Hello \" + \"World\")"
   ]
  },
  {
   "cell_type": "code",
   "execution_count": 29,
   "id": "d571f846-994d-47f1-b34e-12753cabe561",
   "metadata": {},
   "outputs": [
    {
     "ename": "TypeError",
     "evalue": "can only concatenate str (not \"int\") to str",
     "output_type": "error",
     "traceback": [
      "\u001b[1;31m---------------------------------------------------------------------------\u001b[0m",
      "\u001b[1;31mTypeError\u001b[0m                                 Traceback (most recent call last)",
      "\u001b[1;32m<ipython-input-29-6231c8aefe90>\u001b[0m in \u001b[0;36m<module>\u001b[1;34m\u001b[0m\n\u001b[0;32m      1\u001b[0m \u001b[1;31m# 문자열 연결 연산자는 문자열과 숫자를 연결할 수 없음.\u001b[0m\u001b[1;33m\u001b[0m\u001b[1;33m\u001b[0m\u001b[1;33m\u001b[0m\u001b[0m\n\u001b[0;32m      2\u001b[0m \u001b[0mscore\u001b[0m \u001b[1;33m=\u001b[0m \u001b[1;36m99\u001b[0m\u001b[1;33m\u001b[0m\u001b[1;33m\u001b[0m\u001b[0m\n\u001b[1;32m----> 3\u001b[1;33m \u001b[0mprint\u001b[0m\u001b[1;33m(\u001b[0m\u001b[1;34m\"성적은\"\u001b[0m \u001b[1;33m+\u001b[0m \u001b[0mscore\u001b[0m \u001b[1;33m+\u001b[0m \u001b[1;34m\"입니다.\"\u001b[0m\u001b[1;33m)\u001b[0m\u001b[1;33m\u001b[0m\u001b[1;33m\u001b[0m\u001b[0m\n\u001b[0m",
      "\u001b[1;31mTypeError\u001b[0m: can only concatenate str (not \"int\") to str"
     ]
    }
   ],
   "source": [
    "# 문자열 연결 연산자는 문자열과 숫자를 연결할 수 없음.\n",
    "score = 99\n",
    "print(\"성적은\" + score + \"입니다.\")"
   ]
  },
  {
   "cell_type": "code",
   "execution_count": null,
   "id": "166916ed-6b02-4fe0-90e1-f819c95c8566",
   "metadata": {},
   "outputs": [],
   "source": [
    "# 문자열 연결 연산자로 문자열과 숫자를 연결하려면\n",
    "# 숫자를 문자열로 변환해야 함"
   ]
  },
  {
   "cell_type": "code",
   "execution_count": 31,
   "id": "7b619e17-7308-4bbc-8bb0-c46ad58d7f70",
   "metadata": {},
   "outputs": [
    {
     "name": "stdout",
     "output_type": "stream",
     "text": [
      "Hello Hello Hello \n"
     ]
    }
   ],
   "source": [
    "# 문자열 반복\n",
    "print(\"Hello \"* 3)"
   ]
  },
  {
   "cell_type": "code",
   "execution_count": 39,
   "id": "a88582fb-1cdf-4586-82a0-baaf85a172f9",
   "metadata": {},
   "outputs": [
    {
     "name": "stdout",
     "output_type": "stream",
     "text": [
      "안\n",
      "세\n",
      "안\n",
      "안녕\n",
      "안녕하\n",
      "하세요\n",
      "안하요\n"
     ]
    }
   ],
   "source": [
    "# 문자열 인덱싱1\n",
    "s = \"안녕하세요\"\n",
    "print(s[0])\n",
    "print(s[3])\n",
    "print(s[-5])\n",
    "print(s[0:2]) #이렇게 해야 안녕까지 추출됨,, 스탑 인덱스 전까지 추출되니까.\n",
    "print(s[:3])\n",
    "print(s[2:])  #print(s[2::1]), print(s[2::])\n",
    "print(s[::2]) #range 함수와 유사"
   ]
  },
  {
   "cell_type": "code",
   "execution_count": 40,
   "id": "68ac7837-44f1-4847-a166-18845e1b5d41",
   "metadata": {},
   "outputs": [
    {
     "name": "stdout",
     "output_type": "stream",
     "text": [
      "!nohtyP olleH\n"
     ]
    }
   ],
   "source": [
    "# 문자열 거꾸로 출력\n",
    "my_str = \"Hello Python!\"\n",
    "print(my_str[::-1])"
   ]
  },
  {
   "cell_type": "code",
   "execution_count": 43,
   "id": "ec37ab7c-e436-4776-85a3-6b3a943cbe67",
   "metadata": {},
   "outputs": [
    {
     "ename": "TypeError",
     "evalue": "'str' object does not support item assignment",
     "output_type": "error",
     "traceback": [
      "\u001b[1;31m---------------------------------------------------------------------------\u001b[0m",
      "\u001b[1;31mTypeError\u001b[0m                                 Traceback (most recent call last)",
      "\u001b[1;32m<ipython-input-43-53822183ddfd>\u001b[0m in \u001b[0;36m<module>\u001b[1;34m\u001b[0m\n\u001b[0;32m      1\u001b[0m \u001b[1;31m# 문자열은 불변형 객체이므로 인덱스를 이용한 수정을 불가능함\u001b[0m\u001b[1;33m\u001b[0m\u001b[1;33m\u001b[0m\u001b[1;33m\u001b[0m\u001b[0m\n\u001b[0;32m      2\u001b[0m \u001b[0ms\u001b[0m \u001b[1;33m=\u001b[0m \u001b[1;34m\"안녕하세요\"\u001b[0m\u001b[1;33m\u001b[0m\u001b[1;33m\u001b[0m\u001b[0m\n\u001b[1;32m----> 3\u001b[1;33m \u001b[0ms\u001b[0m\u001b[1;33m[\u001b[0m\u001b[1;36m2\u001b[0m\u001b[1;33m:\u001b[0m\u001b[1;33m]\u001b[0m \u001b[1;33m=\u001b[0m \u001b[1;34m\"하십니까\"\u001b[0m\u001b[1;33m\u001b[0m\u001b[1;33m\u001b[0m\u001b[0m\n\u001b[0m\u001b[0;32m      4\u001b[0m \u001b[0mprint\u001b[0m\u001b[1;33m(\u001b[0m\u001b[0ms\u001b[0m\u001b[1;33m)\u001b[0m\u001b[1;33m\u001b[0m\u001b[1;33m\u001b[0m\u001b[0m\n",
      "\u001b[1;31mTypeError\u001b[0m: 'str' object does not support item assignment"
     ]
    }
   ],
   "source": [
    "# 문자열은 불변형 객체이므로 인덱스를 이용한 수정을 불가능함\n",
    "s = \"안녕하세요\"\n",
    "s[2:] = \"하십니까\"\n",
    "print(s)"
   ]
  },
  {
   "cell_type": "code",
   "execution_count": 45,
   "id": "6b56d44c-eb4f-4eb2-813b-243f1a6c8dca",
   "metadata": {},
   "outputs": [
    {
     "name": "stdout",
     "output_type": "stream",
     "text": [
      "안녕하세요\n"
     ]
    }
   ],
   "source": [
    "# 문자열을 변경하려면 새로운 객체를 만들어야 함\n",
    "s = \"안녕하세요\"\n",
    "s[:2] + \"하십니까\" #덮어씌운 것\n",
    "print(s)"
   ]
  },
  {
   "cell_type": "code",
   "execution_count": 47,
   "id": "16ca2ffa-bad5-4c8f-9bf7-6698e4d3db25",
   "metadata": {},
   "outputs": [
    {
     "name": "stdout",
     "output_type": "stream",
     "text": [
      "5\n"
     ]
    }
   ],
   "source": [
    "# 문자열 길이\n",
    "s = \"안녕하세요\"\n",
    "s_len = len(s)\n",
    "print(len(s))"
   ]
  },
  {
   "cell_type": "code",
   "execution_count": 48,
   "id": "f76b3475-05c8-4aba-97fc-9da356c1d9a0",
   "metadata": {},
   "outputs": [
    {
     "ename": "NameError",
     "evalue": "name 'lower' is not defined",
     "output_type": "error",
     "traceback": [
      "\u001b[1;31m---------------------------------------------------------------------------\u001b[0m",
      "\u001b[1;31mNameError\u001b[0m                                 Traceback (most recent call last)",
      "\u001b[1;32m<ipython-input-48-ee88f8607256>\u001b[0m in \u001b[0;36m<module>\u001b[1;34m\u001b[0m\n\u001b[0;32m      1\u001b[0m \u001b[0ms\u001b[0m \u001b[1;33m=\u001b[0m \u001b[1;34m\"Hello Python!\"\u001b[0m\u001b[1;33m\u001b[0m\u001b[1;33m\u001b[0m\u001b[0m\n\u001b[1;32m----> 2\u001b[1;33m \u001b[0mlower\u001b[0m\u001b[1;33m(\u001b[0m\u001b[0ms\u001b[0m\u001b[1;33m)\u001b[0m\u001b[1;33m\u001b[0m\u001b[1;33m\u001b[0m\u001b[0m\n\u001b[0m",
      "\u001b[1;31mNameError\u001b[0m: name 'lower' is not defined"
     ]
    }
   ],
   "source": [
    "s = \"Hello Python!\"\n",
    "lower(s)"
   ]
  },
  {
   "cell_type": "code",
   "execution_count": 49,
   "id": "2edd8bbc-f118-4295-9ff1-5b02548affa5",
   "metadata": {},
   "outputs": [
    {
     "data": {
      "text/plain": [
       "'hello python!'"
      ]
     },
     "execution_count": 49,
     "metadata": {},
     "output_type": "execute_result"
    }
   ],
   "source": [
    "s = \"Hello Python!\"\n",
    "s.lower()"
   ]
  },
  {
   "cell_type": "code",
   "execution_count": 51,
   "id": "3791bb63-36e3-4929-bc87-be3cbce6a06b",
   "metadata": {},
   "outputs": [
    {
     "name": "stdout",
     "output_type": "stream",
     "text": [
      "hello python!\n",
      "HELLO PYTHON!\n",
      "Hello Python!\n"
     ]
    }
   ],
   "source": [
    "# 대소문자 변환 : 원본은 변하지 않음\n",
    "s = \"Hello Python!\"\n",
    "print(s.lower())\n",
    "print(s.upper())\n",
    "#로워와 어퍼 얘네들은 원본 변하지 않음\n",
    "print(s)"
   ]
  },
  {
   "cell_type": "code",
   "execution_count": 55,
   "id": "307f6d3c-0928-41e9-b59b-7bfb32c3f76d",
   "metadata": {},
   "outputs": [
    {
     "name": "stdout",
     "output_type": "stream",
     "text": [
      "7\n",
      "17\n",
      "2\n"
     ]
    }
   ],
   "source": [
    "# 문자열 찾기\n",
    "s = \"Hello! Python is Python\" # 띄어쓰기도 포함해서 세어야 한다ㅣ.. P는 7번째\n",
    "print(s.find(\"Python\"))\n",
    "print(s.rfind(\"Python\"))\n",
    "print(s.count(\"Python\"))"
   ]
  },
  {
   "cell_type": "code",
   "execution_count": 57,
   "id": "2019c540-f3c1-4dde-8133-2fe3b752e42b",
   "metadata": {},
   "outputs": [
    {
     "name": "stdout",
     "output_type": "stream",
     "text": [
      "True\n",
      "False\n"
     ]
    }
   ],
   "source": [
    "print(\"Hello\" in s)\n",
    "print(\"Hi\" in s)"
   ]
  }
 ],
 "metadata": {
  "kernelspec": {
   "display_name": "Python 3",
   "language": "python",
   "name": "python3"
  },
  "language_info": {
   "codemirror_mode": {
    "name": "ipython",
    "version": 3
   },
   "file_extension": ".py",
   "mimetype": "text/x-python",
   "name": "python",
   "nbconvert_exporter": "python",
   "pygments_lexer": "ipython3",
   "version": "3.8.8"
  }
 },
 "nbformat": 4,
 "nbformat_minor": 5
}
